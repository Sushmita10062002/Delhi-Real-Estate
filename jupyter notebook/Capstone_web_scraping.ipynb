{
  "cells": [
    {
      "cell_type": "code",
      "execution_count": null,
      "metadata": {
        "id": "VA-fTpKTdCvt"
      },
      "outputs": [],
      "source": [
        "url =  \"https://www.99acres.com/api-aggregator/discovery/srp/search\"\n",
        "headers =  {\n",
        "    \"User-Agent\": \"Mozilla/5.0 (Windows NT 10.0; Win64; x64) AppleWebKit/537.36 (KHTML, like Gecko) Chrome/116.0.0.0 Safari/537.36\",\n",
        "    \"sec-ch-ua-platform\": \"\\\"Windows\\\"\",\n",
        "    \"referer\": \"https://www.99acres.com/\",\n",
        "    \"sec-fetch-site\": \"same-origin\",\n",
        "    \"authority\": \"www.99acres.com\"\n",
        "  }\n",
        "\n",
        "params = {\n",
        "    \"page\": \"1\",\n",
        "    \"page_size\": \"25\",\n",
        "    \"property_type\": \"1\",  # property_type: \"1\" for flats and \"2\" for houses\n",
        "    \"platform\": \"DESKTOP\",\n",
        "    \"city\": \"1075722\",     # delhi city code\n",
        "    \"preference\": \"S\",\n",
        "    \"res_com\": \"R\"\n",
        "  }\n"
      ]
    },
    {
      "cell_type": "code",
      "execution_count": null,
      "metadata": {
        "id": "LVWQCk72ddVj"
      },
      "outputs": [],
      "source": [
        "import json\n",
        "import requests\n",
        "import time\n",
        "start = int(input(\"Enter starting Page: \"))\n",
        "end = int(input(\"Enter Last Page: \"))\n",
        "params[\"page\"] = start\n",
        "for i in range(start, end):\n",
        "    response = requests.get(url, headers=headers, params=params)\n",
        "    if response.status_code == 200:\n",
        "        response_json = response.json()  # Parse the JSON response\n",
        "        response_form = {}\n",
        "        for property in response_json.get(\"properties\", []):\n",
        "            key = property[\"PROP_ID\"]\n",
        "            response_form[key] = property\n",
        "        print(len(response_form))\n",
        "        file_path = \"output3.json\"  #file to save the scraped data\n",
        "        with open(file_path, \"a\", encoding=\"utf-8\") as json_file:\n",
        "            json.dump(response_form, json_file, ensure_ascii=False, indent=4)\n",
        "            print(f\"JSON response has been saved to {file_path}\")\n",
        "    else:\n",
        "        # Print an error message if the request was not successful\n",
        "        print(f\"Request failed with status code: {response.status_code}\")\n",
        "    params[\"page\"] = i + 1\n",
        "    time.sleep(3)"
      ]
    }
  ],
  "metadata": {
    "colab": {
      "provenance": []
    },
    "kernelspec": {
      "display_name": "Python 3",
      "name": "python3"
    },
    "language_info": {
      "name": "python"
    }
  },
  "nbformat": 4,
  "nbformat_minor": 0
}
