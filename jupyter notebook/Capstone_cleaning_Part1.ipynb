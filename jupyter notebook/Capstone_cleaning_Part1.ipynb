{
  "nbformat": 4,
  "nbformat_minor": 0,
  "metadata": {
    "colab": {
      "provenance": []
    },
    "kernelspec": {
      "name": "python3",
      "display_name": "Python 3"
    },
    "language_info": {
      "name": "python"
    }
  },
  "cells": [
    {
      "cell_type": "code",
      "source": [
        "import pandas as pd\n",
        "import json"
      ],
      "metadata": {
        "id": "XEiW7WGZUmmD"
      },
      "execution_count": 1,
      "outputs": []
    },
    {
      "cell_type": "code",
      "source": [
        "pd.set_option('display.max_rows', None)\n",
        "pd.set_option('display.max_columns', None)"
      ],
      "metadata": {
        "id": "26HcyYTWmkpG"
      },
      "execution_count": null,
      "outputs": []
    },
    {
      "cell_type": "code",
      "source": [
        "dataset = pd.read_json(\"/content/data.json\")\n",
        "dataset1 = pd.read_json(\"/content/data1.json\")\n",
        "dataset2 = pd.read_json(\"/content/data2.json\")\n",
        "dataset3 = pd.read_json(\"/content/data3.json\")\n",
        "dataset4 = pd.read_json(\"/content/house_data.json\")\n",
        "dataset5 = pd.read_json(\"/content/house_data1.json\")"
      ],
      "metadata": {
        "id": "VKe0NiotjuVH"
      },
      "execution_count": null,
      "outputs": []
    },
    {
      "cell_type": "code",
      "source": [
        "df = dataset.T\n",
        "df1 = dataset1.T\n",
        "df2 = dataset2.T\n",
        "df3 = dataset3.T\n",
        "df4 = dataset4.T\n",
        "df5 = dataset5.T"
      ],
      "metadata": {
        "id": "swPcEP7rmwmj"
      },
      "execution_count": null,
      "outputs": []
    },
    {
      "cell_type": "code",
      "source": [
        "concatenated_df = pd.concat([df, df1, df2, df3, df4, df5], ignore_index=True)"
      ],
      "metadata": {
        "id": "Q-OyF8Ze-1Sn"
      },
      "execution_count": null,
      "outputs": []
    },
    {
      "cell_type": "code",
      "source": [
        "concatenated_df.shape"
      ],
      "metadata": {
        "colab": {
          "base_uri": "https://localhost:8080/"
        },
        "id": "y0xgzYT8nsNP",
        "outputId": "f88acce6-26aa-4d5c-f06d-fa36cbcd8b49"
      },
      "execution_count": null,
      "outputs": [
        {
          "output_type": "execute_result",
          "data": {
            "text/plain": [
              "(7470, 36)"
            ]
          },
          "metadata": {},
          "execution_count": 16
        }
      ]
    },
    {
      "cell_type": "code",
      "source": [
        "concatenated_df.to_csv(\"flat_houses.csv\", index = False)"
      ],
      "metadata": {
        "id": "m7AHyhxcYncC"
      },
      "execution_count": null,
      "outputs": []
    },
    {
      "cell_type": "code",
      "source": [
        "df = pd.read_csv(\"flat_houses.csv\")"
      ],
      "metadata": {
        "id": "AgslXUBQ0Zxf"
      },
      "execution_count": null,
      "outputs": []
    },
    {
      "cell_type": "code",
      "source": [
        "df.shape"
      ],
      "metadata": {
        "colab": {
          "base_uri": "https://localhost:8080/"
        },
        "id": "frcfs1MX_ORH",
        "outputId": "118cab3d-7f1d-4b3b-d57f-5624e56bd421"
      },
      "execution_count": null,
      "outputs": [
        {
          "output_type": "execute_result",
          "data": {
            "text/plain": [
              "(7470, 36)"
            ]
          },
          "metadata": {},
          "execution_count": 19
        }
      ]
    },
    {
      "cell_type": "code",
      "source": [
        "with open(\"facets.json\", \"r\") as file:\n",
        "  facets = json.load(file)"
      ],
      "metadata": {
        "id": "PVk15y5X4dxB"
      },
      "execution_count": null,
      "outputs": []
    },
    {
      "cell_type": "code",
      "source": [
        "transact_type = {}\n",
        "for tr in facets[\"TRANSACT_TYPE\"]:\n",
        "  transact_type[tr[\"id\"]] = tr[\"label\"]"
      ],
      "metadata": {
        "id": "vn-St_Yw2Orb"
      },
      "execution_count": null,
      "outputs": []
    },
    {
      "cell_type": "code",
      "source": [
        "own_type = {}\n",
        "for own in facets[\"OWNERSHIP_TYPE\"]:\n",
        "  own_type[own[\"id\"]] = own[\"label\"]"
      ],
      "metadata": {
        "id": "guvf1Fdb3g5q"
      },
      "execution_count": null,
      "outputs": []
    },
    {
      "cell_type": "code",
      "source": [
        "furnish = {}\n",
        "for fur in facets[\"FURNISH\"]:\n",
        "  furnish[fur[\"id\"]] = fur[\"label\"]"
      ],
      "metadata": {
        "id": "-oHhtB4QFBsK"
      },
      "execution_count": null,
      "outputs": []
    },
    {
      "cell_type": "code",
      "source": [
        "width_of_facing_road = {}\n",
        "for width in facets[\"WIDTH_OF_FACING_ROAD\"]:\n",
        "  width_of_facing_road[width[\"id\"]] = width[\"label\"]"
      ],
      "metadata": {
        "id": "a1gklZWCCTcP"
      },
      "execution_count": null,
      "outputs": []
    },
    {
      "cell_type": "code",
      "source": [
        "facing = {}\n",
        "for dir in facets[\"FACING_DIRECTION\"]:\n",
        "  facing[dir[\"id\"]] = dir[\"label\"]"
      ],
      "metadata": {
        "id": "U6sfvij10agV"
      },
      "execution_count": null,
      "outputs": []
    },
    {
      "cell_type": "code",
      "source": [
        "availability = {}\n",
        "for avail in facets[\"AVAILABILITY\"]:\n",
        "  availability[avail[\"id\"]] = avail[\"label\"]"
      ],
      "metadata": {
        "id": "pzRL5yFF4JYP"
      },
      "execution_count": null,
      "outputs": []
    },
    {
      "cell_type": "code",
      "source": [
        "sub_availability = {}\n",
        "for s_avail in facets[\"SUB_AVAILABILITY\"]:\n",
        "  sub_availability[s_avail[\"id\"]] = s_avail[\"label\"]"
      ],
      "metadata": {
        "id": "rADpyx6A1Yxk"
      },
      "execution_count": null,
      "outputs": []
    },
    {
      "cell_type": "code",
      "source": [
        "additional_services = {}\n",
        "for services in facets[\"ADDITIONAL_SERVICES\"]:\n",
        "  additional_services[services[\"id\"]] = services[\"label\"]"
      ],
      "metadata": {
        "id": "MjUuEum-BqRI"
      },
      "execution_count": null,
      "outputs": []
    },
    {
      "cell_type": "code",
      "source": [
        "feature_details = {}\n",
        "for feature in facets[\"FEATURES\"]:\n",
        "  feature_details[feature[\"id\"]] = feature[\"label\"]"
      ],
      "metadata": {
        "id": "yMzbPOMwAGwX"
      },
      "execution_count": null,
      "outputs": []
    },
    {
      "cell_type": "code",
      "source": [
        "sharing = {}\n",
        "for s_c in facets[\"SHARING_COUNT\"]:\n",
        "  sharing[s_c[\"id\"]] = s_c[\"label\"]"
      ],
      "metadata": {
        "id": "30gWjjPAKBHI"
      },
      "execution_count": null,
      "outputs": []
    },
    {
      "cell_type": "code",
      "source": [
        "capacity = {}\n",
        "for cap in facets[\"CAPACITY\"]:\n",
        "  capacity[cap[\"id\"]] = cap[\"label\"]"
      ],
      "metadata": {
        "id": "y2dPFkFCKRjf"
      },
      "execution_count": null,
      "outputs": []
    },
    {
      "cell_type": "markdown",
      "source": [
        "# Cleaning\n",
        "\n",
        "---\n",
        "\n"
      ],
      "metadata": {
        "id": "bgnrACFcaTh9"
      }
    },
    {
      "cell_type": "code",
      "source": [
        "df = pd.read_csv(\"flat_houses.csv\")"
      ],
      "metadata": {
        "id": "hg0yg1iFaVg6"
      },
      "execution_count": null,
      "outputs": []
    },
    {
      "cell_type": "code",
      "source": [
        "df[\"TRANSACT_TYPE\"] = df[\"TRANSACT_TYPE\"].astype(str)\n",
        "df[\"OWNTYPE\"] = df[\"OWNTYPE\"].astype(str)\n",
        "df[\"FURNISH\"] = df[\"FURNISH\"].astype(str)\n",
        "df[\"FACING\"] = df[\"FACING\"].astype(str)\n",
        "df[\"AVAILABILITY\"] = df[\"AVAILABILITY\"].astype(str)\n",
        "df[\"SUB_AVAILABILITY\"] = df[\"SUB_AVAILABILITY\"].astype(str)"
      ],
      "metadata": {
        "id": "1ylIuZR3dVCu"
      },
      "execution_count": null,
      "outputs": []
    },
    {
      "cell_type": "code",
      "source": [
        "def transact_type_fun(trans):\n",
        "  if trans in transact_type:\n",
        "    return transact_type[trans]\n",
        "  else:\n",
        "    return ''\n",
        "\n",
        "def ownership_type_fun(owner):\n",
        "  if owner in own_type:\n",
        "    return own_type[owner]\n",
        "  else:\n",
        "    return ''\n",
        "\n",
        "def furnish_fun(fur):\n",
        "  if fur in furnish:\n",
        "    return furnish[fur]\n",
        "  else:\n",
        "    return ''\n",
        "\n",
        "def facing_fun(fac):\n",
        "  if fac in facing:\n",
        "    return facing[fac]\n",
        "  else:\n",
        "    return ''\n",
        "\n",
        "def sub_availability_fun(sub_avail):\n",
        "  if sub_avail in sub_availability.keys():\n",
        "    return sub_availability[sub_avail]\n",
        "  else:\n",
        "    return sub_avail\n",
        "\n",
        "def availability_fun(avail):\n",
        "  if avail in availability.keys():\n",
        "    return availability[avail]\n",
        "  else:\n",
        "    return avail"
      ],
      "metadata": {
        "id": "vKMw3L4D5mOY"
      },
      "execution_count": null,
      "outputs": []
    },
    {
      "cell_type": "code",
      "source": [
        "df[\"TRANSACT_TYPE\"] = df[\"TRANSACT_TYPE\"].apply(transact_type_fun)\n",
        "df[\"OWNTYPE\"] = df[\"OWNTYPE\"].apply(ownership_type_fun)\n",
        "df[\"FACING\"] = df[\"FACING\"].apply(facing_fun)\n",
        "df[\"FURNISH\"] = df[\"FURNISH\"].apply(furnish_fun)\n",
        "df[\"AVAILABILITY\"] = df[\"AVAILABILITY\"].apply(availability_fun)\n",
        "df[\"SUB_AVAILABILITY\"] = df[\"SUB_AVAILABILITY\"].apply(sub_availability_fun)"
      ],
      "metadata": {
        "id": "DS9FgWoqAYtW"
      },
      "execution_count": null,
      "outputs": []
    },
    {
      "cell_type": "code",
      "source": [
        "with open(\"Amenities.json\", 'r') as file:\n",
        "  amenities_json = json.load(file)"
      ],
      "metadata": {
        "id": "iOVA4bKJ6m0_"
      },
      "execution_count": null,
      "outputs": []
    },
    {
      "cell_type": "code",
      "source": [
        "def amenity_fun(prop_amenity):\n",
        "  l1 = []\n",
        "  if isinstance(prop_amenity, str):\n",
        "    for amenity in prop_amenity.split(\",\"):\n",
        "      if amenity in amenities_json.keys():\n",
        "        l1.append(amenities_json[amenity])\n",
        "  return l1"
      ],
      "metadata": {
        "id": "QJdA0uU36CaE"
      },
      "execution_count": null,
      "outputs": []
    },
    {
      "cell_type": "code",
      "source": [
        "df[\"AMENITIES\"] = df[\"AMENITIES\"].apply(amenity_fun)"
      ],
      "metadata": {
        "id": "mQU8J5vm7dpT"
      },
      "execution_count": null,
      "outputs": []
    },
    {
      "cell_type": "code",
      "source": [
        "df.to_csv(\"flats_houses_v1.csv\", index = False)"
      ],
      "metadata": {
        "id": "vJgsgQL1opfL"
      },
      "execution_count": null,
      "outputs": []
    }
  ]
}