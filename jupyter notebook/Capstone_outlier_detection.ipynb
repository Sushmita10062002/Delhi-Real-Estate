{
  "nbformat": 4,
  "nbformat_minor": 0,
  "metadata": {
    "colab": {
      "provenance": []
    },
    "kernelspec": {
      "name": "python3",
      "display_name": "Python 3"
    },
    "language_info": {
      "name": "python"
    }
  },
  "cells": [
    {
      "cell_type": "code",
      "execution_count": 1,
      "metadata": {
        "id": "Bz3nza13Vmwy"
      },
      "outputs": [],
      "source": [
        "import pandas as pd\n",
        "import numpy as np\n",
        "import seaborn as sns\n",
        "import matplotlib.pyplot as plt"
      ]
    },
    {
      "cell_type": "code",
      "source": [
        "pd.set_option('display.max_rows', None)\n",
        "pd.set_option('display.max_columns', None)"
      ],
      "metadata": {
        "id": "Nd7nxZDdiN_E"
      },
      "execution_count": 2,
      "outputs": []
    },
    {
      "cell_type": "code",
      "source": [
        "df = pd.read_csv(\"flat_houses_v4.csv\")"
      ],
      "metadata": {
        "id": "GDpx1Fb0X-rq"
      },
      "execution_count": 3,
      "outputs": []
    },
    {
      "cell_type": "code",
      "source": [
        "df.columns"
      ],
      "metadata": {
        "colab": {
          "base_uri": "https://localhost:8080/"
        },
        "id": "LskGIZXUYUh8",
        "outputId": "9f0436a4-fbf5-49a8-cef6-b317c27a0f34"
      },
      "execution_count": 4,
      "outputs": [
        {
          "output_type": "execute_result",
          "data": {
            "text/plain": [
              "Index(['PROP_ID', 'PROPERTY_TYPE', 'CITY_NAME', 'LOCALITY_NAME', 'OWNTYPE',\n",
              "       'BEDROOM_NUM', 'BATHROOM_NUM', 'BALCONY_NUM', 'FURNISH', 'FACING',\n",
              "       'FLOOR_NUM', 'TOTAL_FLOOR', 'LATITUDE', 'LONGITUDE', 'AVAILABILITY',\n",
              "       'PRICE', 'PRICE_SQFT', 'PRICE_CR', 'AREA_SQFT', 'CALCULATED_AREA_SQFT',\n",
              "       'AGE_POSSESSION', 'AMENITIES_CLUSTER', 'LUXURY_SCORE', 'PROP_NAME'],\n",
              "      dtype='object')"
            ]
          },
          "metadata": {},
          "execution_count": 4
        }
      ]
    },
    {
      "cell_type": "code",
      "source": [
        "plt.figure(figsize = (4,3))\n",
        "sns.distplot(df[\"PRICE_CR\"])"
      ],
      "metadata": {
        "colab": {
          "base_uri": "https://localhost:8080/",
          "height": 523
        },
        "id": "EGci_YH6YVqt",
        "outputId": "4f12df3d-c6bc-4285-f983-a2e11508ca90"
      },
      "execution_count": 5,
      "outputs": [
        {
          "output_type": "stream",
          "name": "stderr",
          "text": [
            "<ipython-input-5-2ff25b476420>:2: UserWarning: \n",
            "\n",
            "`distplot` is a deprecated function and will be removed in seaborn v0.14.0.\n",
            "\n",
            "Please adapt your code to use either `displot` (a figure-level function with\n",
            "similar flexibility) or `histplot` (an axes-level function for histograms).\n",
            "\n",
            "For a guide to updating your code to use the new functions, please see\n",
            "https://gist.github.com/mwaskom/de44147ed2974457ad6372750bbe5751\n",
            "\n",
            "  sns.distplot(df[\"PRICE_CR\"])\n"
          ]
        },
        {
          "output_type": "execute_result",
          "data": {
            "text/plain": [
              "<Axes: xlabel='PRICE_CR', ylabel='Density'>"
            ]
          },
          "metadata": {},
          "execution_count": 5
        },
        {
          "output_type": "display_data",
          "data": {
            "text/plain": [
              "<Figure size 400x300 with 1 Axes>"
            ],
            "image/png": "[encoded data removed]"
          },
          "metadata": {}
        }
      ]
    },
    {
      "cell_type": "code",
      "source": [
        "plt.figure(figsize = (4,3))\n",
        "sns.boxplot(x = df[\"PRICE_CR\"])"
      ],
      "metadata": {
        "colab": {
          "base_uri": "https://localhost:8080/",
          "height": 328
        },
        "id": "rj172kmbY97b",
        "outputId": "d2151bbc-d425-4dd6-cf8d-602ef306c93a"
      },
      "execution_count": 6,
      "outputs": [
        {
          "output_type": "execute_result",
          "data": {
            "text/plain": [
              "<Axes: xlabel='PRICE_CR'>"
            ]
          },
          "metadata": {},
          "execution_count": 6
        },
        {
          "output_type": "display_data",
          "data": {
            "text/plain": [
              "<Figure size 400x300 with 1 Axes>"
            ],
            "image/png": "[encoded data removed]"
          },
          "metadata": {}
        }
      ]
    },
    {
      "cell_type": "code",
      "source": [
        "df[\"PRICE_CR\"].describe()"
      ],
      "metadata": {
        "colab": {
          "base_uri": "https://localhost:8080/"
        },
        "id": "yfOG3Bxapspf",
        "outputId": "ca66420c-5cf4-4378-e866-52621c853751"
      },
      "execution_count": 7,
      "outputs": [
        {
          "output_type": "execute_result",
          "data": {
            "text/plain": [
              "count    7327.000000\n",
              "mean        2.943877\n",
              "std         9.441767\n",
              "min         0.020000\n",
              "25%         0.620000\n",
              "50%         1.450000\n",
              "75%         2.420000\n",
              "max       275.000000\n",
              "Name: PRICE_CR, dtype: float64"
            ]
          },
          "metadata": {},
          "execution_count": 7
        }
      ]
    },
    {
      "cell_type": "code",
      "source": [
        "df[\"PRICE_CR\"].quantile([0.90, 0.95, 0.98, 0.99,0.995])"
      ],
      "metadata": {
        "colab": {
          "base_uri": "https://localhost:8080/"
        },
        "id": "ttyLfCluqYpe",
        "outputId": "61ce6ddb-d61a-43e1-b1ab-95534ce8a5c4"
      },
      "execution_count": 8,
      "outputs": [
        {
          "output_type": "execute_result",
          "data": {
            "text/plain": [
              "0.900     3.65\n",
              "0.950     8.00\n",
              "0.980    21.00\n",
              "0.990    39.48\n",
              "0.995    58.74\n",
              "Name: PRICE_CR, dtype: float64"
            ]
          },
          "metadata": {},
          "execution_count": 8
        }
      ]
    },
    {
      "cell_type": "markdown",
      "source": [
        "99% of the properties are below 40 crores"
      ],
      "metadata": {
        "id": "Fe4m1MeJqmIX"
      }
    },
    {
      "cell_type": "code",
      "source": [
        "# Calculate the IQR for the 'PRICE_CR' column\n",
        "Q1 = df[\"PRICE_CR\"].quantile(0.25)\n",
        "Q3 = df[\"PRICE_CR\"].quantile(0.75)\n",
        "IQR = Q3 - Q1\n",
        "lower_bound = Q1 - 1.5*IQR\n",
        "upper_bound = Q3 + 1.5*IQR\n",
        "\n",
        "# Identify Outliers\n",
        "outliers = df[(df['PRICE_CR'] < lower_bound) | (df['PRICE_CR'] > upper_bound)]\n",
        "\n",
        "# number of outliers\n",
        "num_outliers = outliers.shape[0]\n",
        "print(\"num of outliers : \", num_outliers)\n",
        "\n",
        "outliers_price_stats = outliers['PRICE_CR'].describe()\n",
        "print(\"outliers stats : \")\n",
        "print(outliers_price_stats)"
      ],
      "metadata": {
        "colab": {
          "base_uri": "https://localhost:8080/"
        },
        "id": "Q1CK5HCVZJip",
        "outputId": "ec8b3e1a-b715-4c12-80ad-a306595e8cb3"
      },
      "execution_count": 9,
      "outputs": [
        {
          "output_type": "stream",
          "name": "stdout",
          "text": [
            "num of outliers :  525\n",
            "outliers stats : \n",
            "count    525.000000\n",
            "mean      21.858629\n",
            "std       29.094740\n",
            "min        5.200000\n",
            "25%        7.500000\n",
            "50%       11.500000\n",
            "75%       24.000000\n",
            "max      275.000000\n",
            "Name: PRICE_CR, dtype: float64\n"
          ]
        }
      ]
    },
    {
      "cell_type": "code",
      "source": [
        "df = df.loc[df[\"PRICE_CR\"] < 22]"
      ],
      "metadata": {
        "id": "vPNf7fiDXlK0"
      },
      "execution_count": 10,
      "outputs": []
    },
    {
      "cell_type": "code",
      "source": [
        "plt.figure(figsize = (4,3))\n",
        "sns.distplot(df[\"PRICE_CR\"])"
      ],
      "metadata": {
        "colab": {
          "base_uri": "https://localhost:8080/",
          "height": 519
        },
        "id": "eKUlAiovYUGB",
        "outputId": "6164948d-c709-478d-a1c7-9b962e8822a7"
      },
      "execution_count": 11,
      "outputs": [
        {
          "output_type": "stream",
          "name": "stderr",
          "text": [
            "<ipython-input-11-2ff25b476420>:2: UserWarning: \n",
            "\n",
            "`distplot` is a deprecated function and will be removed in seaborn v0.14.0.\n",
            "\n",
            "Please adapt your code to use either `displot` (a figure-level function with\n",
            "similar flexibility) or `histplot` (an axes-level function for histograms).\n",
            "\n",
            "For a guide to updating your code to use the new functions, please see\n",
            "https://gist.github.com/mwaskom/de44147ed2974457ad6372750bbe5751\n",
            "\n",
            "  sns.distplot(df[\"PRICE_CR\"])\n"
          ]
        },
        {
          "output_type": "execute_result",
          "data": {
            "text/plain": [
              "<Axes: xlabel='PRICE_CR', ylabel='Density'>"
            ]
          },
          "metadata": {},
          "execution_count": 11
        },
        {
          "output_type": "display_data",
          "data": {
            "text/plain": [
              "<Figure size 400x300 with 1 Axes>"
            ],
            "image/png": "[encoded data removed]"
          },
          "metadata": {}
        }
      ]
    },
    {
      "cell_type": "code",
      "source": [
        "df.shape"
      ],
      "metadata": {
        "colab": {
          "base_uri": "https://localhost:8080/"
        },
        "id": "rPVyf8tJYYo5",
        "outputId": "c9bd7574-e08d-4574-a9d8-43b9090eeda6"
      },
      "execution_count": 12,
      "outputs": [
        {
          "output_type": "execute_result",
          "data": {
            "text/plain": [
              "(7181, 24)"
            ]
          },
          "metadata": {},
          "execution_count": 12
        }
      ]
    },
    {
      "cell_type": "code",
      "source": [
        "# outliers.to_csv(\"outliers.csv\", index = False)"
      ],
      "metadata": {
        "id": "JAgLxsXpanWt"
      },
      "execution_count": null,
      "outputs": []
    },
    {
      "cell_type": "markdown",
      "source": [
        "On the basis of price col we can say that there are 525 outliers. On checking the source of data, I find out that most of these properties are genuine properties"
      ],
      "metadata": {
        "id": "3CqrY0C6ciFD"
      }
    },
    {
      "cell_type": "markdown",
      "source": [
        "Should I remove them?\n",
        "Whether to remove or keep outliers in your dataset depends on the specific goals of your analysis and the context of your data. Outliers can be influential in statistical analysis and machine learning, and their treatment should be considered carefully. Here are some factors to consider when deciding whether to remove or keep outliers:\n",
        "\n",
        "1. **Data Quality**: If you have verified that these outliers represent genuine data points and there are no errors in data collection or entry, it may be a valid reason to keep them. Removing genuine data can lead to a loss of valuable information.\n",
        "\n",
        "2. **Analysis Objective**: Consider the purpose of your analysis. If your analysis aims to understand the entire range of property prices, including high-end properties, then keeping the outliers may be necessary. On the other hand, if you are interested in a specific segment of the market, removing outliers might be more appropriate.\n",
        "\n",
        "3. **Model Performance**: In some cases, outliers can negatively impact the performance of statistical models. If you plan to build predictive models, outliers can lead to model instability or biased results. You may want to assess how including or excluding outliers affects model performance.\n",
        "\n",
        "4. **Data Distribution**: Examine the distribution of the 'PRICE_CR' column. If the distribution is highly skewed or not normal, outliers may be more common. In such cases, you might consider using robust statistical methods that are less sensitive to outliers.\n",
        "\n",
        "5. **Context**: Consider the context of the real estate market in which these properties exist. Extremely high-priced properties might indeed be rare but still relevant in certain markets.\n",
        "\n",
        "6. **Data Size**: The number of outliers relative to the size of your dataset matters. If you have a large dataset and a small number of outliers, their impact on overall analysis might be limited.\n",
        "\n",
        "7. **Stakeholder Requirements**: Consult with stakeholders or subject matter experts if they have specific requirements or preferences regarding the treatment of outliers.\n",
        "\n",
        "In summary, it's not necessary to remove outliers simply because they are extreme values. Instead, carefully consider the impact of outliers on your analysis, model, and objectives. You can choose to keep them, transform them, or use robust statistical techniques to mitigate their influence if needed. The decision should align with your analytical goals and domain knowledge."
      ],
      "metadata": {
        "id": "bCdB87defXyt"
      }
    },
    {
      "cell_type": "markdown",
      "source": [
        "# Price_per_sqft"
      ],
      "metadata": {
        "id": "OLE6LVscfe2H"
      }
    },
    {
      "cell_type": "code",
      "source": [
        "plt.figure(figsize = (4,3))\n",
        "sns.distplot(df[\"PRICE_SQFT\"])"
      ],
      "metadata": {
        "colab": {
          "base_uri": "https://localhost:8080/",
          "height": 534
        },
        "id": "-xVPmqIFfbtr",
        "outputId": "fc36fcc0-4390-4666-f2a1-15b6236bd6c5"
      },
      "execution_count": 13,
      "outputs": [
        {
          "output_type": "stream",
          "name": "stderr",
          "text": [
            "<ipython-input-13-7c0f8393fcf2>:2: UserWarning: \n",
            "\n",
            "`distplot` is a deprecated function and will be removed in seaborn v0.14.0.\n",
            "\n",
            "Please adapt your code to use either `displot` (a figure-level function with\n",
            "similar flexibility) or `histplot` (an axes-level function for histograms).\n",
            "\n",
            "For a guide to updating your code to use the new functions, please see\n",
            "https://gist.github.com/mwaskom/de44147ed2974457ad6372750bbe5751\n",
            "\n",
            "  sns.distplot(df[\"PRICE_SQFT\"])\n"
          ]
        },
        {
          "output_type": "execute_result",
          "data": {
            "text/plain": [
              "<Axes: xlabel='PRICE_SQFT', ylabel='Density'>"
            ]
          },
          "metadata": {},
          "execution_count": 13
        },
        {
          "output_type": "display_data",
          "data": {
            "text/plain": [
              "<Figure size 400x300 with 1 Axes>"
            ],
            "image/png": "[encoded data removed]"
          },
          "metadata": {}
        }
      ]
    },
    {
      "cell_type": "code",
      "source": [
        "plt.figure(figsize = (4,3))\n",
        "sns.boxplot(df[\"PRICE_SQFT\"])"
      ],
      "metadata": {
        "colab": {
          "base_uri": "https://localhost:8080/",
          "height": 323
        },
        "id": "oJdg3125fvab",
        "outputId": "2dc40907-91af-4987-ea7f-198961f11e52"
      },
      "execution_count": 14,
      "outputs": [
        {
          "output_type": "execute_result",
          "data": {
            "text/plain": [
              "<Axes: >"
            ]
          },
          "metadata": {},
          "execution_count": 14
        },
        {
          "output_type": "display_data",
          "data": {
            "text/plain": [
              "<Figure size 400x300 with 1 Axes>"
            ],
            "image/png": "[encoded data removed]"
          },
          "metadata": {}
        }
      ]
    },
    {
      "cell_type": "code",
      "source": [
        "pd.set_option('display.float_format', '{:.0f}'.format)"
      ],
      "metadata": {
        "id": "93xa0L8wq3Vm"
      },
      "execution_count": 15,
      "outputs": []
    },
    {
      "cell_type": "code",
      "source": [
        "df[\"PRICE_SQFT\"].describe()"
      ],
      "metadata": {
        "colab": {
          "base_uri": "https://localhost:8080/"
        },
        "id": "LbP3PUGuRl_1",
        "outputId": "42ed7219-ee00-4074-f508-0363d5666cc2"
      },
      "execution_count": 16,
      "outputs": [
        {
          "output_type": "execute_result",
          "data": {
            "text/plain": [
              "count      7181\n",
              "mean      20093\n",
              "std       44057\n",
              "min           3\n",
              "25%        8571\n",
              "50%       11583\n",
              "75%       15714\n",
              "max     1714285\n",
              "Name: PRICE_SQFT, dtype: float64"
            ]
          },
          "metadata": {},
          "execution_count": 16
        }
      ]
    },
    {
      "cell_type": "code",
      "source": [
        "df[\"PRICE_SQFT\"].quantile([0.90, 0.94, 0.95, 0.99, 0.995])"
      ],
      "metadata": {
        "colab": {
          "base_uri": "https://localhost:8080/"
        },
        "id": "AsEj_DaErx1O",
        "outputId": "082d9773-67af-4911-8bff-b5fbb2730f20"
      },
      "execution_count": 17,
      "outputs": [
        {
          "output_type": "execute_result",
          "data": {
            "text/plain": [
              "1    34028\n",
              "1    52995\n",
              "1    61274\n",
              "1   176000\n",
              "1   261119\n",
              "Name: PRICE_SQFT, dtype: float64"
            ]
          },
          "metadata": {},
          "execution_count": 17
        }
      ]
    },
    {
      "cell_type": "code",
      "source": [
        "df[df[\"PRICE_SQFT\"] > 50000].shape"
      ],
      "metadata": {
        "colab": {
          "base_uri": "https://localhost:8080/"
        },
        "id": "cWT9KMlMsI_1",
        "outputId": "a4420552-8626-47da-b357-c27fc3fcb280"
      },
      "execution_count": 18,
      "outputs": [
        {
          "output_type": "execute_result",
          "data": {
            "text/plain": [
              "(464, 24)"
            ]
          },
          "metadata": {},
          "execution_count": 18
        }
      ]
    },
    {
      "cell_type": "code",
      "source": [
        "# Calculate the IQR for the 'PRICE_SQFT' column\n",
        "Q1 = df[\"PRICE_SQFT\"].quantile(0.25)\n",
        "Q3 = df[\"PRICE_SQFT\"].quantile(0.75)\n",
        "IQR = Q3 - Q1\n",
        "lower_bound = Q1 - 1.5*IQR\n",
        "upper_bound = Q3 + 1.5*IQR\n",
        "\n",
        "# Identify Outliers\n",
        "outliers = df[(df['PRICE_SQFT'] < lower_bound) | (df['PRICE_SQFT'] > upper_bound)]\n",
        "\n",
        "# number of outliers\n",
        "num_outliers = outliers.shape[0]\n",
        "print(\"num of outliers : \", num_outliers)\n",
        "\n",
        "outliers_price_stats = outliers['PRICE_SQFT'].describe()\n",
        "print(\"outliers stats : \")\n",
        "print(outliers_price_stats)"
      ],
      "metadata": {
        "colab": {
          "base_uri": "https://localhost:8080/"
        },
        "id": "8DwZ5S-VhuB9",
        "outputId": "7dd9a926-0478-480d-9f57-0cd49ad92c5d"
      },
      "execution_count": 19,
      "outputs": [
        {
          "output_type": "stream",
          "name": "stdout",
          "text": [
            "num of outliers :  912\n",
            "outliers stats : \n",
            "count       912\n",
            "mean      81909\n",
            "std      103747\n",
            "min       26455\n",
            "25%       36111\n",
            "50%       51081\n",
            "75%       83893\n",
            "max     1714285\n",
            "Name: PRICE_SQFT, dtype: float64\n"
          ]
        }
      ]
    },
    {
      "cell_type": "code",
      "source": [
        "# df.to_csv(\"outliers.csv\", index = False)"
      ],
      "metadata": {
        "id": "Bzw4QW1uiV6B"
      },
      "execution_count": 20,
      "outputs": []
    },
    {
      "cell_type": "code",
      "source": [
        "# outliers[[\"PROP_ID\", \"PROPERTY_TYPE\", \"BEDROOM_NUM\", \"PRICE\", \"PRICE_SQFT\", \"AREA_SQFT\", \"CALCULATED_AREA_SQFT\"]].sort_values(by = \"PRICE_SQFT\", ascending = False)"
      ],
      "metadata": {
        "id": "YV6QoHX5kGSw",
        "colab": {
          "base_uri": "https://localhost:8080/"
        },
        "outputId": "dd65839c-07a3-4fc0-b927-78aa02cb49e8"
      },
      "execution_count": null,
      "outputs": [
        {
          "output_type": "execute_result",
          "data": {
            "text/plain": [
              "(1015, 7)"
            ]
          },
          "metadata": {},
          "execution_count": 48
        }
      ]
    },
    {
      "cell_type": "code",
      "source": [
        "# outliers[outliers[\"CALCULATED_AREA_SQFT\"] < 1000][[\"PROP_ID\", \"PROPERTY_TYPE\", \"BEDROOM_NUM\", \"PRICE\", \"PRICE_SQFT\", \"AREA_SQFT\", \"CALCULATED_AREA_SQFT\"]].sort_values(by = \"PRICE_SQFT\", ascending = False)"
      ],
      "metadata": {
        "colab": {
          "base_uri": "https://localhost:8080/"
        },
        "id": "7zP6AHHhmCyT",
        "outputId": "6dd9b551-aff8-40f6-8652-0cd9d367124f"
      },
      "execution_count": null,
      "outputs": [
        {
          "output_type": "execute_result",
          "data": {
            "text/plain": [
              "(576, 7)"
            ]
          },
          "metadata": {},
          "execution_count": 49
        }
      ]
    },
    {
      "cell_type": "code",
      "source": [
        "# outliers_to_delete = outliers[outliers[\"CALCULATED_AREA_SQFT\"] < 1000][\"PROP_ID\"].values"
      ],
      "metadata": {
        "id": "kTB-uGTvMTns"
      },
      "execution_count": null,
      "outputs": []
    },
    {
      "cell_type": "code",
      "source": [
        "# index_to_delete = df[df[\"PROP_ID\"].isin(outliers_to_delete)].index\n",
        "# # df.drop(index = index_to_delete, inplace = True)"
      ],
      "metadata": {
        "id": "gA8Flpipo-7x"
      },
      "execution_count": null,
      "outputs": []
    },
    {
      "cell_type": "code",
      "source": [
        "# plt.figure(figsize = (4,3))\n",
        "# sns.distplot(df[\"PRICE_SQFT\"])"
      ],
      "metadata": {
        "colab": {
          "base_uri": "https://localhost:8080/",
          "height": 534
        },
        "id": "q9JBHScgPuf0",
        "outputId": "66b7d3a7-8e16-4a75-fa49-407168a8c021"
      },
      "execution_count": null,
      "outputs": [
        {
          "output_type": "stream",
          "name": "stderr",
          "text": [
            "<ipython-input-58-7c0f8393fcf2>:2: UserWarning: \n",
            "\n",
            "`distplot` is a deprecated function and will be removed in seaborn v0.14.0.\n",
            "\n",
            "Please adapt your code to use either `displot` (a figure-level function with\n",
            "similar flexibility) or `histplot` (an axes-level function for histograms).\n",
            "\n",
            "For a guide to updating your code to use the new functions, please see\n",
            "https://gist.github.com/mwaskom/de44147ed2974457ad6372750bbe5751\n",
            "\n",
            "  sns.distplot(df[\"PRICE_SQFT\"])\n"
          ]
        },
        {
          "output_type": "execute_result",
          "data": {
            "text/plain": [
              "<Axes: xlabel='PRICE_SQFT', ylabel='Density'>"
            ]
          },
          "metadata": {},
          "execution_count": 58
        },
        {
          "output_type": "display_data",
          "data": {
            "text/plain": [
              "<Figure size 400x300 with 1 Axes>"
            ],
            "image/png": "[encoded data removed]"
          },
          "metadata": {}
        }
      ]
    },
    {
      "cell_type": "code",
      "source": [
        "# plt.figure(figsize = (4,3))\n",
        "# sns.boxplot(df[\"PRICE_SQFT\"])"
      ],
      "metadata": {
        "colab": {
          "base_uri": "https://localhost:8080/",
          "height": 308
        },
        "id": "VW-A_KGsP0uS",
        "outputId": "06a7ff0e-faa0-476b-e017-b49de8c25ba5"
      },
      "execution_count": null,
      "outputs": [
        {
          "output_type": "execute_result",
          "data": {
            "text/plain": [
              "<Axes: >"
            ]
          },
          "metadata": {},
          "execution_count": 59
        },
        {
          "output_type": "display_data",
          "data": {
            "text/plain": [
              "<Figure size 400x300 with 1 Axes>"
            ],
            "image/png": "[encoded data removed]"
          },
          "metadata": {}
        }
      ]
    },
    {
      "cell_type": "code",
      "source": [
        "df[\"PRICE_SQFT\"].describe()"
      ],
      "metadata": {
        "colab": {
          "base_uri": "https://localhost:8080/"
        },
        "id": "Kxx2AMZFQRIU",
        "outputId": "b40dfbb1-cb7a-44f0-c89d-3a090c4bf114"
      },
      "execution_count": 21,
      "outputs": [
        {
          "output_type": "execute_result",
          "data": {
            "text/plain": [
              "count      7181\n",
              "mean      20093\n",
              "std       44057\n",
              "min           3\n",
              "25%        8571\n",
              "50%       11583\n",
              "75%       15714\n",
              "max     1714285\n",
              "Name: PRICE_SQFT, dtype: float64"
            ]
          },
          "metadata": {},
          "execution_count": 21
        }
      ]
    },
    {
      "cell_type": "code",
      "source": [
        "df[\"PRICE_SQFT\"].quantile(0.95)"
      ],
      "metadata": {
        "colab": {
          "base_uri": "https://localhost:8080/"
        },
        "id": "hXB_klErQdk8",
        "outputId": "fce04b63-997e-45a6-efcc-77fedd42fb8c"
      },
      "execution_count": 22,
      "outputs": [
        {
          "output_type": "execute_result",
          "data": {
            "text/plain": [
              "61274.0"
            ]
          },
          "metadata": {},
          "execution_count": 22
        }
      ]
    },
    {
      "cell_type": "code",
      "source": [
        "index_to_delete = df[df[\"PRICE_SQFT\"] > 50000].index"
      ],
      "metadata": {
        "id": "vDK3d2pJQrbo"
      },
      "execution_count": 23,
      "outputs": []
    },
    {
      "cell_type": "code",
      "source": [
        "df.drop(index = index_to_delete, inplace = True)"
      ],
      "metadata": {
        "id": "Oxbm8hYZRArT"
      },
      "execution_count": 24,
      "outputs": []
    },
    {
      "cell_type": "code",
      "source": [
        "plt.figure(figsize = (4,3))\n",
        "sns.distplot(df[\"PRICE_SQFT\"])"
      ],
      "metadata": {
        "colab": {
          "base_uri": "https://localhost:8080/",
          "height": 519
        },
        "id": "PtrTmMJKRHBK",
        "outputId": "f07447e9-0c0d-44cd-b6e4-f2974c9b2340"
      },
      "execution_count": 25,
      "outputs": [
        {
          "output_type": "stream",
          "name": "stderr",
          "text": [
            "<ipython-input-25-7c0f8393fcf2>:2: UserWarning: \n",
            "\n",
            "`distplot` is a deprecated function and will be removed in seaborn v0.14.0.\n",
            "\n",
            "Please adapt your code to use either `displot` (a figure-level function with\n",
            "similar flexibility) or `histplot` (an axes-level function for histograms).\n",
            "\n",
            "For a guide to updating your code to use the new functions, please see\n",
            "https://gist.github.com/mwaskom/de44147ed2974457ad6372750bbe5751\n",
            "\n",
            "  sns.distplot(df[\"PRICE_SQFT\"])\n"
          ]
        },
        {
          "output_type": "execute_result",
          "data": {
            "text/plain": [
              "<Axes: xlabel='PRICE_SQFT', ylabel='Density'>"
            ]
          },
          "metadata": {},
          "execution_count": 25
        },
        {
          "output_type": "display_data",
          "data": {
            "text/plain": [
              "<Figure size 400x300 with 1 Axes>"
            ],
            "image/png": "[encoded data removed]"
          },
          "metadata": {}
        }
      ]
    },
    {
      "cell_type": "code",
      "source": [
        "plt.figure(figsize = (4,3))\n",
        "sns.boxplot(df[\"PRICE_SQFT\"])"
      ],
      "metadata": {
        "colab": {
          "base_uri": "https://localhost:8080/",
          "height": 308
        },
        "id": "sHufLZGoROyL",
        "outputId": "e1d32f1a-1ee8-44ea-b759-5e3da6d4d5be"
      },
      "execution_count": 26,
      "outputs": [
        {
          "output_type": "execute_result",
          "data": {
            "text/plain": [
              "<Axes: >"
            ]
          },
          "metadata": {},
          "execution_count": 26
        },
        {
          "output_type": "display_data",
          "data": {
            "text/plain": [
              "<Figure size 400x300 with 1 Axes>"
            ],
            "image/png": "[encoded data removed]"
          },
          "metadata": {}
        }
      ]
    },
    {
      "cell_type": "code",
      "source": [
        "df[\"PRICE_SQFT\"].describe()"
      ],
      "metadata": {
        "colab": {
          "base_uri": "https://localhost:8080/"
        },
        "id": "1P10cS3LZFgI",
        "outputId": "916faca3-e408-4a77-a973-b4f4d4ee62db"
      },
      "execution_count": 27,
      "outputs": [
        {
          "output_type": "execute_result",
          "data": {
            "text/plain": [
              "count    6717\n",
              "mean    12809\n",
              "std      8068\n",
              "min         3\n",
              "25%      8222\n",
              "50%     11200\n",
              "75%     14390\n",
              "max     50000\n",
              "Name: PRICE_SQFT, dtype: float64"
            ]
          },
          "metadata": {},
          "execution_count": 27
        }
      ]
    },
    {
      "cell_type": "code",
      "source": [
        "df[\"PRICE_SQFT\"].quantile([0.01])"
      ],
      "metadata": {
        "colab": {
          "base_uri": "https://localhost:8080/"
        },
        "id": "hbJuS36JZE82",
        "outputId": "220c2a87-05b8-463b-9ad0-4b695fcd2875"
      },
      "execution_count": 28,
      "outputs": [
        {
          "output_type": "execute_result",
          "data": {
            "text/plain": [
              "0   2512\n",
              "Name: PRICE_SQFT, dtype: float64"
            ]
          },
          "metadata": {},
          "execution_count": 28
        }
      ]
    },
    {
      "cell_type": "code",
      "source": [
        "index_to_delete = df[df[\"PRICE_SQFT\"] < 2000].index\n",
        "df.drop(index = index_to_delete, inplace = True)"
      ],
      "metadata": {
        "id": "ICZMN6mtZUGO"
      },
      "execution_count": 29,
      "outputs": []
    },
    {
      "cell_type": "markdown",
      "source": [
        "Area"
      ],
      "metadata": {
        "id": "tRIk8z8XdKdu"
      }
    },
    {
      "cell_type": "code",
      "source": [
        "sns.histplot(df[\"CALCULATED_AREA_SQFT\"])"
      ],
      "metadata": {
        "colab": {
          "base_uri": "https://localhost:8080/",
          "height": 466
        },
        "id": "F6gKTbvPbQON",
        "outputId": "9beb6056-c831-4cdc-f6b9-3daf79466457"
      },
      "execution_count": 30,
      "outputs": [
        {
          "output_type": "execute_result",
          "data": {
            "text/plain": [
              "<Axes: xlabel='CALCULATED_AREA_SQFT', ylabel='Count'>"
            ]
          },
          "metadata": {},
          "execution_count": 30
        },
        {
          "output_type": "display_data",
          "data": {
            "text/plain": [
              "<Figure size 640x480 with 1 Axes>"
            ],
            "image/png": "[encoded data removed]"
          },
          "metadata": {}
        }
      ]
    },
    {
      "cell_type": "code",
      "source": [
        "sns.boxplot(x = df[\"CALCULATED_AREA_SQFT\"])"
      ],
      "metadata": {
        "colab": {
          "base_uri": "https://localhost:8080/",
          "height": 466
        },
        "id": "x0Q9vEhzdMIn",
        "outputId": "a5f2be36-3b75-46df-9e6d-d38bab224abf"
      },
      "execution_count": 31,
      "outputs": [
        {
          "output_type": "execute_result",
          "data": {
            "text/plain": [
              "<Axes: xlabel='CALCULATED_AREA_SQFT'>"
            ]
          },
          "metadata": {},
          "execution_count": 31
        },
        {
          "output_type": "display_data",
          "data": {
            "text/plain": [
              "<Figure size 640x480 with 1 Axes>"
            ],
            "image/png": "[encoded data removed]"
          },
          "metadata": {}
        }
      ]
    },
    {
      "cell_type": "code",
      "source": [
        "df[\"CALCULATED_AREA_SQFT\"].describe()"
      ],
      "metadata": {
        "colab": {
          "base_uri": "https://localhost:8080/"
        },
        "id": "NWbNR5-qd0uM",
        "outputId": "bc67fab5-b90e-4496-d051-ed285ca5724d"
      },
      "execution_count": 32,
      "outputs": [
        {
          "output_type": "execute_result",
          "data": {
            "text/plain": [
              "count    6673\n",
              "mean     1360\n",
              "std      1032\n",
              "min        35\n",
              "25%       720\n",
              "50%      1200\n",
              "75%      1800\n",
              "max     25000\n",
              "Name: CALCULATED_AREA_SQFT, dtype: float64"
            ]
          },
          "metadata": {},
          "execution_count": 32
        }
      ]
    },
    {
      "cell_type": "code",
      "source": [
        "Q1 = df[\"CALCULATED_AREA_SQFT\"].quantile(0.25)\n",
        "Q3 = df[\"CALCULATED_AREA_SQFT\"].quantile(0.75)\n",
        "IQR = Q3 - Q1\n",
        "lower_bound = Q1 - 1.5*IQR\n",
        "upper_bound = Q3 + 1.5*IQR\n",
        "\n",
        "print(\"lower bound: \", lower_bound)\n",
        "print(\"upper bound: \", upper_bound)\n",
        "# Identify Outliers\n",
        "outliers = df[(df['CALCULATED_AREA_SQFT'] < lower_bound) | (df['CALCULATED_AREA_SQFT'] > upper_bound)]\n",
        "\n",
        "# number of outliers\n",
        "num_outliers = outliers.shape[0]\n",
        "print(\"num of outliers : \", num_outliers)\n",
        "\n",
        "outliers_price_stats = outliers['CALCULATED_AREA_SQFT'].describe()\n",
        "print(\"outliers stats : \")\n",
        "print(outliers_price_stats)"
      ],
      "metadata": {
        "colab": {
          "base_uri": "https://localhost:8080/"
        },
        "id": "fJ9jPqwlZ2tV",
        "outputId": "790e5d95-f946-421a-c97d-53b9e0423776"
      },
      "execution_count": 33,
      "outputs": [
        {
          "output_type": "stream",
          "name": "stdout",
          "text": [
            "lower bound:  -899.9098429214014\n",
            "upper bound:  3419.959458757796\n",
            "num of outliers :  145\n",
            "outliers stats : \n",
            "count     145\n",
            "mean     5555\n",
            "std      3332\n",
            "min      3420\n",
            "25%      3600\n",
            "50%      4149\n",
            "75%      5500\n",
            "max     25000\n",
            "Name: CALCULATED_AREA_SQFT, dtype: float64\n"
          ]
        }
      ]
    },
    {
      "cell_type": "code",
      "source": [
        "df[\"CALCULATED_AREA_SQFT\"].quantile([0.99])"
      ],
      "metadata": {
        "colab": {
          "base_uri": "https://localhost:8080/"
        },
        "id": "LOgAunWkaj19",
        "outputId": "fe5802b5-c3a6-4555-db3f-0ee3351718c6"
      },
      "execution_count": 34,
      "outputs": [
        {
          "output_type": "execute_result",
          "data": {
            "text/plain": [
              "1   4368\n",
              "Name: CALCULATED_AREA_SQFT, dtype: float64"
            ]
          },
          "metadata": {},
          "execution_count": 34
        }
      ]
    },
    {
      "cell_type": "code",
      "source": [
        "df = df.loc[df[\"CALCULATED_AREA_SQFT\"] < 5000]"
      ],
      "metadata": {
        "id": "GAkyhO_da9FW"
      },
      "execution_count": 35,
      "outputs": []
    },
    {
      "cell_type": "code",
      "source": [
        "df.shape"
      ],
      "metadata": {
        "colab": {
          "base_uri": "https://localhost:8080/"
        },
        "id": "ddwfCi3lbEU_",
        "outputId": "73ae79c0-9bee-4cec-f639-fae6ec2a7715"
      },
      "execution_count": 36,
      "outputs": [
        {
          "output_type": "execute_result",
          "data": {
            "text/plain": [
              "(6623, 24)"
            ]
          },
          "metadata": {},
          "execution_count": 36
        }
      ]
    },
    {
      "cell_type": "markdown",
      "source": [
        "Bedroom"
      ],
      "metadata": {
        "id": "yj8xqIwagHfo"
      }
    },
    {
      "cell_type": "code",
      "source": [
        "sns.boxplot(x = df[\"BEDROOM_NUM\"])"
      ],
      "metadata": {
        "colab": {
          "base_uri": "https://localhost:8080/",
          "height": 466
        },
        "id": "8Ef5QS6td6ao",
        "outputId": "50958136-e50a-4a67-cc0f-f9784f4a23dd"
      },
      "execution_count": 37,
      "outputs": [
        {
          "output_type": "execute_result",
          "data": {
            "text/plain": [
              "<Axes: xlabel='BEDROOM_NUM'>"
            ]
          },
          "metadata": {},
          "execution_count": 37
        },
        {
          "output_type": "display_data",
          "data": {
            "text/plain": [
              "<Figure size 640x480 with 1 Axes>"
            ],
            "image/png": "[encoded data removed]"
          },
          "metadata": {}
        }
      ]
    },
    {
      "cell_type": "code",
      "source": [
        "df[\"BEDROOM_NUM\"].describe()"
      ],
      "metadata": {
        "colab": {
          "base_uri": "https://localhost:8080/"
        },
        "id": "aFiMf8DRgRFj",
        "outputId": "83d0fa02-7058-41a6-a446-7422a2b9a887"
      },
      "execution_count": 38,
      "outputs": [
        {
          "output_type": "execute_result",
          "data": {
            "text/plain": [
              "count   6623\n",
              "mean       3\n",
              "std        2\n",
              "min        1\n",
              "25%        2\n",
              "50%        3\n",
              "75%        4\n",
              "max       40\n",
              "Name: BEDROOM_NUM, dtype: float64"
            ]
          },
          "metadata": {},
          "execution_count": 38
        }
      ]
    },
    {
      "cell_type": "code",
      "source": [
        "index_to_delete = df[df[\"BEDROOM_NUM\"] >= 15].index\n",
        "df.drop(index = index_to_delete, inplace = True)"
      ],
      "metadata": {
        "id": "JGHsqow-hISv"
      },
      "execution_count": 39,
      "outputs": []
    },
    {
      "cell_type": "markdown",
      "source": [
        "Area Room Ratio"
      ],
      "metadata": {
        "id": "I3PmQzHLvOVH"
      }
    },
    {
      "cell_type": "code",
      "source": [
        "def area_room_ratio(df_row):\n",
        "  if df_row[\"PROPERTY_TYPE\"] == 'house':\n",
        "    if df_row[\"TOTAL_FLOOR\"] != 0:\n",
        "      area_room_ratio = (df_row[\"CALCULATED_AREA_SQFT\"] * df_row[\"TOTAL_FLOOR\"])/(df_row[\"BEDROOM_NUM\"])\n",
        "    else:\n",
        "      area_room_ratio = (df_row[\"CALCULATED_AREA_SQFT\"])/(df_row[\"BEDROOM_NUM\"])\n",
        "  elif df_row[\"PROPERTY_TYPE\"] == 'flat':\n",
        "    area_room_ratio = (df_row[\"CALCULATED_AREA_SQFT\"])/(df_row[\"BEDROOM_NUM\"])\n",
        "  else:\n",
        "    area_room_ratio = np.nan\n",
        "  return area_room_ratio\n"
      ],
      "metadata": {
        "id": "G74PlFXAJJFr"
      },
      "execution_count": 40,
      "outputs": []
    },
    {
      "cell_type": "code",
      "source": [
        "df[\"AREA_ROOM_RATIO\"] = df.apply(area_room_ratio, axis = 1)"
      ],
      "metadata": {
        "id": "8icXaJVZSmhW"
      },
      "execution_count": 41,
      "outputs": []
    },
    {
      "cell_type": "code",
      "source": [
        "df.shape"
      ],
      "metadata": {
        "colab": {
          "base_uri": "https://localhost:8080/"
        },
        "id": "JZWBRJdbJJKR",
        "outputId": "b69ac5cd-b29b-418c-c92c-be4ce137de2c"
      },
      "execution_count": 42,
      "outputs": [
        {
          "output_type": "execute_result",
          "data": {
            "text/plain": [
              "(6611, 25)"
            ]
          },
          "metadata": {},
          "execution_count": 42
        }
      ]
    },
    {
      "cell_type": "code",
      "source": [
        "# x = df[(df[\"PRICE_SQFT\"] < 30000) & (df[\"PROPERTY_TYPE\"] == \"house\")]\n",
        "# (x[\"AREA_SQFT\"] * x[\"TOTAL_FLOOR\"]/x[\"BEDROOM_NUM\"]).quantile(0.02)"
      ],
      "metadata": {
        "colab": {
          "base_uri": "https://localhost:8080/"
        },
        "id": "ZNhEzqYwIyg8",
        "outputId": "86ac5b29-073f-4524-c3a2-5b7957a68877"
      },
      "execution_count": null,
      "outputs": [
        {
          "output_type": "execute_result",
          "data": {
            "text/plain": [
              "90.00408620314063"
            ]
          },
          "metadata": {},
          "execution_count": 48
        }
      ]
    },
    {
      "cell_type": "code",
      "source": [
        "# df[((df[\"AREA_SQFT\"] * x[\"TOTAL_FLOOR\"]/df[\"BEDROOM_NUM\"]) < 90) & (df[\"PROPERTY_TYPE\"] == \"house\") ][[\"PROP_ID\", \"PROPERTY_TYPE\", \"BEDROOM_NUM\", \"PRICE_SQFT\", \"FLOOR_NUM\", \"TOTAL_FLOOR\",\"AREA_SQFT\", \"PRICE\", \"PRICE_CR\"]]"
      ],
      "metadata": {
        "id": "SFLGq6YDJoB1"
      },
      "execution_count": null,
      "outputs": []
    },
    {
      "cell_type": "code",
      "source": [
        "# flat_df = df[df[\"PROPERTY_TYPE\"] == 'flat']\n",
        "# house_df = df[df[\"PROPERTY_TYPE\"] == 'house']"
      ],
      "metadata": {
        "id": "SSF7BZRAKucV"
      },
      "execution_count": null,
      "outputs": []
    },
    {
      "cell_type": "code",
      "source": [
        "# house_df[\"b_f\"] = house_df[\"BEDROOM_NUM\"] / house_df[\"TOTAL_FLOOR\"]"
      ],
      "metadata": {
        "colab": {
          "base_uri": "https://localhost:8080/"
        },
        "id": "7o2tY9BHLbw2",
        "outputId": "0bddc640-fca0-43a2-abae-1e85928fba1f"
      },
      "execution_count": null,
      "outputs": [
        {
          "output_type": "stream",
          "name": "stderr",
          "text": [
            "<ipython-input-68-ec0f2aa7e800>:1: SettingWithCopyWarning: \n",
            "A value is trying to be set on a copy of a slice from a DataFrame.\n",
            "Try using .loc[row_indexer,col_indexer] = value instead\n",
            "\n",
            "See the caveats in the documentation: https://pandas.pydata.org/pandas-docs/stable/user_guide/indexing.html#returning-a-view-versus-a-copy\n",
            "  house_df[\"b_f\"] = house_df[\"BEDROOM_NUM\"] / house_df[\"TOTAL_FLOOR\"]\n"
          ]
        }
      ]
    },
    {
      "cell_type": "code",
      "source": [
        "def bedroom_floor(df_row):\n",
        "  if df_row[\"PROPERTY_TYPE\"] == 'house':\n",
        "    if df_row[\"TOTAL_FLOOR\"] != 0:\n",
        "      bedroom_floor = df_row[\"BEDROOM_NUM\"]/df_row[\"TOTAL_FLOOR\"]\n",
        "    else:\n",
        "      bedroom_floor = np.nan\n",
        "  elif df_row[\"PROPERTY_TYPE\"] == 'flat':\n",
        "      bedroom_floor = df_row[\"BEDROOM_NUM\"]\n",
        "  else:\n",
        "      bedroom_floor = np.nan\n",
        "  return bedroom_floor\n",
        "df[\"BEDROOM_FLOOR\"] = df.apply(bedroom_floor, axis = 1)"
      ],
      "metadata": {
        "id": "bt0ZfuHrTb2V"
      },
      "execution_count": 43,
      "outputs": []
    },
    {
      "cell_type": "code",
      "source": [
        "sns.lmplot(data = df, x = 'CALCULATED_AREA_SQFT', y = 'BEDROOM_FLOOR')"
      ],
      "metadata": {
        "id": "S7GvyAUqpKOO",
        "colab": {
          "base_uri": "https://localhost:8080/",
          "height": 523
        },
        "outputId": "49055dfa-cc10-405c-a596-14e399c48096"
      },
      "execution_count": 49,
      "outputs": [
        {
          "output_type": "execute_result",
          "data": {
            "text/plain": [
              "<seaborn.axisgrid.FacetGrid at 0x7bea34117eb0>"
            ]
          },
          "metadata": {},
          "execution_count": 49
        },
        {
          "output_type": "display_data",
          "data": {
            "text/plain": [
              "<Figure size 500x500 with 1 Axes>"
            ],
            "image/png": "[encoded data removed]"
          },
          "metadata": {}
        }
      ]
    },
    {
      "cell_type": "code",
      "source": [
        "sns.histplot(df[\"PRICE_SQFT\"], bins = 50, kde=True)"
      ],
      "metadata": {
        "colab": {
          "base_uri": "https://localhost:8080/",
          "height": 466
        },
        "id": "SYmEQtzHvp6J",
        "outputId": "e3628a7b-eb89-468d-e2b6-25384e1604c4"
      },
      "execution_count": 45,
      "outputs": [
        {
          "output_type": "execute_result",
          "data": {
            "text/plain": [
              "<Axes: xlabel='PRICE_SQFT', ylabel='Count'>"
            ]
          },
          "metadata": {},
          "execution_count": 45
        },
        {
          "output_type": "display_data",
          "data": {
            "text/plain": [
              "<Figure size 640x480 with 1 Axes>"
            ],
            "image/png": "[encoded data removed]"
          },
          "metadata": {}
        }
      ]
    },
    {
      "cell_type": "code",
      "source": [
        "x = df[(df[\"PRICE_SQFT\"] < 30000)]\n",
        "(x[\"AREA_ROOM_RATIO\"]).quantile(0.01)"
      ],
      "metadata": {
        "colab": {
          "base_uri": "https://localhost:8080/"
        },
        "id": "dw3E_Kt4U6Jp",
        "outputId": "f49e0db1-3994-4e1a-cd95-06792d5aa237"
      },
      "execution_count": 46,
      "outputs": [
        {
          "output_type": "execute_result",
          "data": {
            "text/plain": [
              "149.99908126148424"
            ]
          },
          "metadata": {},
          "execution_count": 46
        }
      ]
    },
    {
      "cell_type": "code",
      "source": [
        "index_to_delete = df[(df[\"AREA_ROOM_RATIO\"] < 152)][[\"PROP_ID\", \"PROPERTY_TYPE\", \"BEDROOM_NUM\",\"AREA_ROOM_RATIO\", \"PRICE_SQFT\", \"FLOOR_NUM\", \"TOTAL_FLOOR\",\"AREA_SQFT\", \"PRICE\", \"PRICE_CR\"]].sort_values(\"AREA_ROOM_RATIO\").index"
      ],
      "metadata": {
        "id": "7hdav6BLkv7e"
      },
      "execution_count": 47,
      "outputs": []
    },
    {
      "cell_type": "code",
      "source": [
        "df.drop(index = index_to_delete, inplace = True)"
      ],
      "metadata": {
        "id": "crEeByxcXU5H"
      },
      "execution_count": 48,
      "outputs": []
    },
    {
      "cell_type": "code",
      "source": [
        "df.drop(columns = [\"AREA_ROOM_RATIO\", \"BEDROOM_FLOOR\"], inplace = True)"
      ],
      "metadata": {
        "id": "XlMbRpGBOtIk"
      },
      "execution_count": 50,
      "outputs": []
    },
    {
      "cell_type": "code",
      "source": [
        "df.head()"
      ],
      "metadata": {
        "colab": {
          "base_uri": "https://localhost:8080/",
          "height": 399
        },
        "id": "wiz2DxNkYCda",
        "outputId": "689c3d6f-d97e-439c-db94-0319997bf028"
      },
      "execution_count": 51,
      "outputs": [
        {
          "output_type": "execute_result",
          "data": {
            "text/plain": [
              "     PROP_ID PROPERTY_TYPE      CITY_NAME LOCALITY_NAME   OWNTYPE  \\\n",
              "0  G71293060          flat  Central Delhi    Karol Bagh  Freehold   \n",
              "1  Y71293054          flat  Central Delhi    Karol Bagh  Freehold   \n",
              "2  D71293050          flat  Central Delhi    Karol Bagh  Freehold   \n",
              "3  B71293046          flat  Central Delhi    Karol Bagh  Freehold   \n",
              "4  A71293042          flat  Central Delhi    Karol Bagh  Freehold   \n",
              "\n",
              "   BEDROOM_NUM  BATHROOM_NUM  BALCONY_NUM FURNISH FACING  FLOOR_NUM  \\\n",
              "0            6             0          NaN     NaN    NaN          1   \n",
              "1            5             6          NaN     NaN    NaN          1   \n",
              "2            4             4          NaN     NaN    NaN          1   \n",
              "3            3             3          NaN     NaN    NaN          1   \n",
              "4            2             2          NaN     NaN    NaN          1   \n",
              "\n",
              "   TOTAL_FLOOR  LATITUDE  LONGITUDE        AVAILABILITY      PRICE  \\\n",
              "0           32        29         77  Under Construction  103000000   \n",
              "1           32        29         77  Under Construction  102983146   \n",
              "2           32        29         77  Under Construction   62362438   \n",
              "3           32        29         77  Under Construction   30500000   \n",
              "4           32        29         77  Under Construction   19500156   \n",
              "\n",
              "   PRICE_SQFT  PRICE_CR  AREA_SQFT  CALCULATED_AREA_SQFT      AGE_POSSESSION  \\\n",
              "0       32461        10       3173                  3526  Under Construction   \n",
              "1       32461        10       3173                  3173  Under Construction   \n",
              "2       33233         6       1877                  1877  Under Construction   \n",
              "3       30214         3       1009                  1009  Under Construction   \n",
              "4       26316         2        741                   823  Under Construction   \n",
              "\n",
              "  AMENITIES_CLUSTER  LUXURY_SCORE                   PROP_NAME  \n",
              "0             Basic             0  Unity  Group The Amaryllis  \n",
              "1             Basic             0  Unity  Group The Amaryllis  \n",
              "2             Basic             0  Unity  Group The Amaryllis  \n",
              "3             Basic             0  Unity  Group The Amaryllis  \n",
              "4             Basic             0  Unity  Group The Amaryllis  "
            ],
            "text/html": [
              "\n",
              "  <div id=\"df-e73c3522-57d3-4bef-8c90-d84669a9ae2b\" class=\"colab-df-container\">\n",
              "    <div>\n",
              "<style scoped>\n",
              "    .dataframe tbody tr th:only-of-type {\n",
              "        vertical-align: middle;\n",
              "    }\n",
              "\n",
              "    .dataframe tbody tr th {\n",
              "        vertical-align: top;\n",
              "    }\n",
              "\n",
              "    .dataframe thead th {\n",
              "        text-align: right;\n",
              "    }\n",
              "</style>\n",
              "<table border=\"1\" class=\"dataframe\">\n",
              "  <thead>\n",
              "    <tr style=\"text-align: right;\">\n",
              "      <th></th>\n",
              "      <th>PROP_ID</th>\n",
              "      <th>PROPERTY_TYPE</th>\n",
              "      <th>CITY_NAME</th>\n",
              "      <th>LOCALITY_NAME</th>\n",
              "      <th>OWNTYPE</th>\n",
              "      <th>BEDROOM_NUM</th>\n",
              "      <th>BATHROOM_NUM</th>\n",
              "      <th>BALCONY_NUM</th>\n",
              "      <th>FURNISH</th>\n",
              "      <th>FACING</th>\n",
              "      <th>FLOOR_NUM</th>\n",
              "      <th>TOTAL_FLOOR</th>\n",
              "      <th>LATITUDE</th>\n",
              "      <th>LONGITUDE</th>\n",
              "      <th>AVAILABILITY</th>\n",
              "      <th>PRICE</th>\n",
              "      <th>PRICE_SQFT</th>\n",
              "      <th>PRICE_CR</th>\n",
              "      <th>AREA_SQFT</th>\n",
              "      <th>CALCULATED_AREA_SQFT</th>\n",
              "      <th>AGE_POSSESSION</th>\n",
              "      <th>AMENITIES_CLUSTER</th>\n",
              "      <th>LUXURY_SCORE</th>\n",
              "      <th>PROP_NAME</th>\n",
              "    </tr>\n",
              "  </thead>\n",
              "  <tbody>\n",
              "    <tr>\n",
              "      <th>0</th>\n",
              "      <td>G71293060</td>\n",
              "      <td>flat</td>\n",
              "      <td>Central Delhi</td>\n",
              "      <td>Karol Bagh</td>\n",
              "      <td>Freehold</td>\n",
              "      <td>6</td>\n",
              "      <td>0</td>\n",
              "      <td>NaN</td>\n",
              "      <td>NaN</td>\n",
              "      <td>NaN</td>\n",
              "      <td>1</td>\n",
              "      <td>32</td>\n",
              "      <td>29</td>\n",
              "      <td>77</td>\n",
              "      <td>Under Construction</td>\n",
              "      <td>103000000</td>\n",
              "      <td>32461</td>\n",
              "      <td>10</td>\n",
              "      <td>3173</td>\n",
              "      <td>3526</td>\n",
              "      <td>Under Construction</td>\n",
              "      <td>Basic</td>\n",
              "      <td>0</td>\n",
              "      <td>Unity  Group The Amaryllis</td>\n",
              "    </tr>\n",
              "    <tr>\n",
              "      <th>1</th>\n",
              "      <td>Y71293054</td>\n",
              "      <td>flat</td>\n",
              "      <td>Central Delhi</td>\n",
              "      <td>Karol Bagh</td>\n",
              "      <td>Freehold</td>\n",
              "      <td>5</td>\n",
              "      <td>6</td>\n",
              "      <td>NaN</td>\n",
              "      <td>NaN</td>\n",
              "      <td>NaN</td>\n",
              "      <td>1</td>\n",
              "      <td>32</td>\n",
              "      <td>29</td>\n",
              "      <td>77</td>\n",
              "      <td>Under Construction</td>\n",
              "      <td>102983146</td>\n",
              "      <td>32461</td>\n",
              "      <td>10</td>\n",
              "      <td>3173</td>\n",
              "      <td>3173</td>\n",
              "      <td>Under Construction</td>\n",
              "      <td>Basic</td>\n",
              "      <td>0</td>\n",
              "      <td>Unity  Group The Amaryllis</td>\n",
              "    </tr>\n",
              "    <tr>\n",
              "      <th>2</th>\n",
              "      <td>D71293050</td>\n",
              "      <td>flat</td>\n",
              "      <td>Central Delhi</td>\n",
              "      <td>Karol Bagh</td>\n",
              "      <td>Freehold</td>\n",
              "      <td>4</td>\n",
              "      <td>4</td>\n",
              "      <td>NaN</td>\n",
              "      <td>NaN</td>\n",
              "      <td>NaN</td>\n",
              "      <td>1</td>\n",
              "      <td>32</td>\n",
              "      <td>29</td>\n",
              "      <td>77</td>\n",
              "      <td>Under Construction</td>\n",
              "      <td>62362438</td>\n",
              "      <td>33233</td>\n",
              "      <td>6</td>\n",
              "      <td>1877</td>\n",
              "      <td>1877</td>\n",
              "      <td>Under Construction</td>\n",
              "      <td>Basic</td>\n",
              "      <td>0</td>\n",
              "      <td>Unity  Group The Amaryllis</td>\n",
              "    </tr>\n",
              "    <tr>\n",
              "      <th>3</th>\n",
              "      <td>B71293046</td>\n",
              "      <td>flat</td>\n",
              "      <td>Central Delhi</td>\n",
              "      <td>Karol Bagh</td>\n",
              "      <td>Freehold</td>\n",
              "      <td>3</td>\n",
              "      <td>3</td>\n",
              "      <td>NaN</td>\n",
              "      <td>NaN</td>\n",
              "      <td>NaN</td>\n",
              "      <td>1</td>\n",
              "      <td>32</td>\n",
              "      <td>29</td>\n",
              "      <td>77</td>\n",
              "      <td>Under Construction</td>\n",
              "      <td>30500000</td>\n",
              "      <td>30214</td>\n",
              "      <td>3</td>\n",
              "      <td>1009</td>\n",
              "      <td>1009</td>\n",
              "      <td>Under Construction</td>\n",
              "      <td>Basic</td>\n",
              "      <td>0</td>\n",
              "      <td>Unity  Group The Amaryllis</td>\n",
              "    </tr>\n",
              "    <tr>\n",
              "      <th>4</th>\n",
              "      <td>A71293042</td>\n",
              "      <td>flat</td>\n",
              "      <td>Central Delhi</td>\n",
              "      <td>Karol Bagh</td>\n",
              "      <td>Freehold</td>\n",
              "      <td>2</td>\n",
              "      <td>2</td>\n",
              "      <td>NaN</td>\n",
              "      <td>NaN</td>\n",
              "      <td>NaN</td>\n",
              "      <td>1</td>\n",
              "      <td>32</td>\n",
              "      <td>29</td>\n",
              "      <td>77</td>\n",
              "      <td>Under Construction</td>\n",
              "      <td>19500156</td>\n",
              "      <td>26316</td>\n",
              "      <td>2</td>\n",
              "      <td>741</td>\n",
              "      <td>823</td>\n",
              "      <td>Under Construction</td>\n",
              "      <td>Basic</td>\n",
              "      <td>0</td>\n",
              "      <td>Unity  Group The Amaryllis</td>\n",
              "    </tr>\n",
              "  </tbody>\n",
              "</table>\n",
              "</div>\n",
              "    <div class=\"colab-df-buttons\">\n",
              "\n",
              "  <div class=\"colab-df-container\">\n",
              "    <button class=\"colab-df-convert\" onclick=\"convertToInteractive('df-e73c3522-57d3-4bef-8c90-d84669a9ae2b')\"\n",
              "            title=\"Convert this dataframe to an interactive table.\"\n",
              "            style=\"display:none;\">\n",
              "\n",
              "  <svg xmlns=\"http://www.w3.org/2000/svg\" height=\"24px\" viewBox=\"0 -960 960 960\">\n",
              "    <path d=\"M120-120v-720h720v720H120Zm60-500h600v-160H180v160Zm220 220h160v-160H400v160Zm0 220h160v-160H400v160ZM180-400h160v-160H180v160Zm440 0h160v-160H620v160ZM180-180h160v-160H180v160Zm440 0h160v-160H620v160Z\"/>\n",
              "  </svg>\n",
              "    </button>\n",
              "\n",
              "  <style>\n",
              "    .colab-df-container {\n",
              "      display:flex;\n",
              "      gap: 12px;\n",
              "    }\n",
              "\n",
              "    .colab-df-convert {\n",
              "      background-color: #E8F0FE;\n",
              "      border: none;\n",
              "      border-radius: 50%;\n",
              "      cursor: pointer;\n",
              "      display: none;\n",
              "      fill: #1967D2;\n",
              "      height: 32px;\n",
              "      padding: 0 0 0 0;\n",
              "      width: 32px;\n",
              "    }\n",
              "\n",
              "    .colab-df-convert:hover {\n",
              "      background-color: #E2EBFA;\n",
              "      box-shadow: 0px 1px 2px rgba(60, 64, 67, 0.3), 0px 1px 3px 1px rgba(60, 64, 67, 0.15);\n",
              "      fill: #174EA6;\n",
              "    }\n",
              "\n",
              "    .colab-df-buttons div {\n",
              "      margin-bottom: 4px;\n",
              "    }\n",
              "\n",
              "    [theme=dark] .colab-df-convert {\n",
              "      background-color: #3B4455;\n",
              "      fill: #D2E3FC;\n",
              "    }\n",
              "\n",
              "    [theme=dark] .colab-df-convert:hover {\n",
              "      background-color: #434B5C;\n",
              "      box-shadow: 0px 1px 3px 1px rgba(0, 0, 0, 0.15);\n",
              "      filter: drop-shadow(0px 1px 2px rgba(0, 0, 0, 0.3));\n",
              "      fill: #FFFFFF;\n",
              "    }\n",
              "  </style>\n",
              "\n",
              "    <script>\n",
              "      const buttonEl =\n",
              "        document.querySelector('#df-e73c3522-57d3-4bef-8c90-d84669a9ae2b button.colab-df-convert');\n",
              "      buttonEl.style.display =\n",
              "        google.colab.kernel.accessAllowed ? 'block' : 'none';\n",
              "\n",
              "      async function convertToInteractive(key) {\n",
              "        const element = document.querySelector('#df-e73c3522-57d3-4bef-8c90-d84669a9ae2b');\n",
              "        const dataTable =\n",
              "          await google.colab.kernel.invokeFunction('convertToInteractive',\n",
              "                                                    [key], {});\n",
              "        if (!dataTable) return;\n",
              "\n",
              "        const docLinkHtml = 'Like what you see? Visit the ' +\n",
              "          '<a target=\"_blank\" href=https://colab.research.google.com/notebooks/data_table.ipynb>data table notebook</a>'\n",
              "          + ' to learn more about interactive tables.';\n",
              "        element.innerHTML = '';\n",
              "        dataTable['output_type'] = 'display_data';\n",
              "        await google.colab.output.renderOutput(dataTable, element);\n",
              "        const docLink = document.createElement('div');\n",
              "        docLink.innerHTML = docLinkHtml;\n",
              "        element.appendChild(docLink);\n",
              "      }\n",
              "    </script>\n",
              "  </div>\n",
              "\n",
              "\n",
              "<div id=\"df-dfd9283a-1e8a-41eb-af19-96ae4b875c5e\">\n",
              "  <button class=\"colab-df-quickchart\" onclick=\"quickchart('df-dfd9283a-1e8a-41eb-af19-96ae4b875c5e')\"\n",
              "            title=\"Suggest charts.\"\n",
              "            style=\"display:none;\">\n",
              "\n",
              "<svg xmlns=\"http://www.w3.org/2000/svg\" height=\"24px\"viewBox=\"0 0 24 24\"\n",
              "     width=\"24px\">\n",
              "    <g>\n",
              "        <path d=\"M19 3H5c-1.1 0-2 .9-2 2v14c0 1.1.9 2 2 2h14c1.1 0 2-.9 2-2V5c0-1.1-.9-2-2-2zM9 17H7v-7h2v7zm4 0h-2V7h2v10zm4 0h-2v-4h2v4z\"/>\n",
              "    </g>\n",
              "</svg>\n",
              "  </button>\n",
              "\n",
              "<style>\n",
              "  .colab-df-quickchart {\n",
              "      --bg-color: #E8F0FE;\n",
              "      --fill-color: #1967D2;\n",
              "      --hover-bg-color: #E2EBFA;\n",
              "      --hover-fill-color: #174EA6;\n",
              "      --disabled-fill-color: #AAA;\n",
              "      --disabled-bg-color: #DDD;\n",
              "  }\n",
              "\n",
              "  [theme=dark] .colab-df-quickchart {\n",
              "      --bg-color: #3B4455;\n",
              "      --fill-color: #D2E3FC;\n",
              "      --hover-bg-color: #434B5C;\n",
              "      --hover-fill-color: #FFFFFF;\n",
              "      --disabled-bg-color: #3B4455;\n",
              "      --disabled-fill-color: #666;\n",
              "  }\n",
              "\n",
              "  .colab-df-quickchart {\n",
              "    background-color: var(--bg-color);\n",
              "    border: none;\n",
              "    border-radius: 50%;\n",
              "    cursor: pointer;\n",
              "    display: none;\n",
              "    fill: var(--fill-color);\n",
              "    height: 32px;\n",
              "    padding: 0;\n",
              "    width: 32px;\n",
              "  }\n",
              "\n",
              "  .colab-df-quickchart:hover {\n",
              "    background-color: var(--hover-bg-color);\n",
              "    box-shadow: 0 1px 2px rgba(60, 64, 67, 0.3), 0 1px 3px 1px rgba(60, 64, 67, 0.15);\n",
              "    fill: var(--button-hover-fill-color);\n",
              "  }\n",
              "\n",
              "  .colab-df-quickchart-complete:disabled,\n",
              "  .colab-df-quickchart-complete:disabled:hover {\n",
              "    background-color: var(--disabled-bg-color);\n",
              "    fill: var(--disabled-fill-color);\n",
              "    box-shadow: none;\n",
              "  }\n",
              "\n",
              "  .colab-df-spinner {\n",
              "    border: 2px solid var(--fill-color);\n",
              "    border-color: transparent;\n",
              "    border-bottom-color: var(--fill-color);\n",
              "    animation:\n",
              "      spin 1s steps(1) infinite;\n",
              "  }\n",
              "\n",
              "  @keyframes spin {\n",
              "    0% {\n",
              "      border-color: transparent;\n",
              "      border-bottom-color: var(--fill-color);\n",
              "      border-left-color: var(--fill-color);\n",
              "    }\n",
              "    20% {\n",
              "      border-color: transparent;\n",
              "      border-left-color: var(--fill-color);\n",
              "      border-top-color: var(--fill-color);\n",
              "    }\n",
              "    30% {\n",
              "      border-color: transparent;\n",
              "      border-left-color: var(--fill-color);\n",
              "      border-top-color: var(--fill-color);\n",
              "      border-right-color: var(--fill-color);\n",
              "    }\n",
              "    40% {\n",
              "      border-color: transparent;\n",
              "      border-right-color: var(--fill-color);\n",
              "      border-top-color: var(--fill-color);\n",
              "    }\n",
              "    60% {\n",
              "      border-color: transparent;\n",
              "      border-right-color: var(--fill-color);\n",
              "    }\n",
              "    80% {\n",
              "      border-color: transparent;\n",
              "      border-right-color: var(--fill-color);\n",
              "      border-bottom-color: var(--fill-color);\n",
              "    }\n",
              "    90% {\n",
              "      border-color: transparent;\n",
              "      border-bottom-color: var(--fill-color);\n",
              "    }\n",
              "  }\n",
              "</style>\n",
              "\n",
              "  <script>\n",
              "    async function quickchart(key) {\n",
              "      const quickchartButtonEl =\n",
              "        document.querySelector('#' + key + ' button');\n",
              "      quickchartButtonEl.disabled = true;  // To prevent multiple clicks.\n",
              "      quickchartButtonEl.classList.add('colab-df-spinner');\n",
              "      try {\n",
              "        const charts = await google.colab.kernel.invokeFunction(\n",
              "            'suggestCharts', [key], {});\n",
              "      } catch (error) {\n",
              "        console.error('Error during call to suggestCharts:', error);\n",
              "      }\n",
              "      quickchartButtonEl.classList.remove('colab-df-spinner');\n",
              "      quickchartButtonEl.classList.add('colab-df-quickchart-complete');\n",
              "    }\n",
              "    (() => {\n",
              "      let quickchartButtonEl =\n",
              "        document.querySelector('#df-dfd9283a-1e8a-41eb-af19-96ae4b875c5e button');\n",
              "      quickchartButtonEl.style.display =\n",
              "        google.colab.kernel.accessAllowed ? 'block' : 'none';\n",
              "    })();\n",
              "  </script>\n",
              "</div>\n",
              "    </div>\n",
              "  </div>\n"
            ]
          },
          "metadata": {},
          "execution_count": 51
        }
      ]
    },
    {
      "cell_type": "code",
      "source": [
        "df.shape"
      ],
      "metadata": {
        "colab": {
          "base_uri": "https://localhost:8080/"
        },
        "id": "TdBbbWzibvpM",
        "outputId": "27199b05-fee6-43e7-f188-79bf03c04985"
      },
      "execution_count": 52,
      "outputs": [
        {
          "output_type": "execute_result",
          "data": {
            "text/plain": [
              "(6459, 24)"
            ]
          },
          "metadata": {},
          "execution_count": 52
        }
      ]
    },
    {
      "cell_type": "code",
      "source": [
        "df.to_csv(\"flat_houses_v5(2).csv\", index = False)"
      ],
      "metadata": {
        "id": "8wVV8qbJYK1V"
      },
      "execution_count": 55,
      "outputs": []
    }
  ]
}