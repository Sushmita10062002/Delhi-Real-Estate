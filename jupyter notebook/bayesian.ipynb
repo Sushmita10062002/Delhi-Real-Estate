{
  "nbformat": 4,
  "nbformat_minor": 0,
  "metadata": {
    "colab": {
      "provenance": []
    },
    "kernelspec": {
      "name": "python3",
      "display_name": "Python 3"
    },
    "language_info": {
      "name": "python"
    }
  },
  "cells": [
    {
      "cell_type": "code",
      "source": [
        "!pip install category_encoders"
      ],
      "metadata": {
        "id": "wm_uW-Pzz4z4"
      },
      "execution_count": null,
      "outputs": []
    },
    {
      "cell_type": "code",
      "execution_count": 3,
      "metadata": {
        "id": "E-ejbK8lZhW_"
      },
      "outputs": [],
      "source": [
        "import numpy as np\n",
        "import pandas as pd\n",
        "from sklearn.model_selection import KFold\n",
        "from sklearn.preprocessing import StandardScaler, OrdinalEncoder, OneHotEncoder\n",
        "from sklearn.compose import ColumnTransformer\n",
        "from sklearn.ensemble import RandomForestRegressor\n",
        "from sklearn.metrics import make_scorer\n",
        "from sklearn.pipeline import Pipeline\n",
        "from hyperopt import fmin, tpe, hp, Trials\n",
        "import category_encoders as ce\n",
        "pd.set_option(\"display.max_rows\", None)\n",
        "pd.set_option(\"display.max_columns\", None)"
      ]
    },
    {
      "cell_type": "code",
      "source": [
        "from sklearn.model_selection import cross_val_score"
      ],
      "metadata": {
        "id": "LQRGOonHaV7R"
      },
      "execution_count": 4,
      "outputs": []
    },
    {
      "cell_type": "code",
      "source": [
        "df = pd.read_csv(\"flat_houses_v6.csv\")"
      ],
      "metadata": {
        "id": "OaA6j4tkZ0O7"
      },
      "execution_count": 5,
      "outputs": []
    },
    {
      "cell_type": "code",
      "source": [
        "df.drop(columns = [\"PROP_ID\", \"LATITUDE\", \"LONGITUDE\"], inplace = True)"
      ],
      "metadata": {
        "id": "wPZ_o4wkZ3Nz"
      },
      "execution_count": 6,
      "outputs": []
    },
    {
      "cell_type": "code",
      "source": [
        "X = df.drop(columns = [\"PRICE_CR\"])\n",
        "y = df[\"PRICE_CR\"]"
      ],
      "metadata": {
        "id": "hxS5cfvuZ5DM"
      },
      "execution_count": 7,
      "outputs": []
    },
    {
      "cell_type": "code",
      "source": [
        "y_transformed = np.log1p(y)"
      ],
      "metadata": {
        "id": "Pmok6b7IZ6j9"
      },
      "execution_count": 8,
      "outputs": []
    },
    {
      "cell_type": "code",
      "source": [
        "preprocessor = ColumnTransformer(\n",
        "    transformers = [\n",
        "        ('num', StandardScaler(), ['BEDROOM_NUM', 'BATHROOM_NUM', 'CALCULATED_AREA_SQFT']),\n",
        "        ('cat', OrdinalEncoder(), [\"PROPERTY_TYPE\",\"BALCONY_NUM\",\"AMENITIES_CLUSTER\", \"FLOOR_CATEGORY\", 'FURNISH']),\n",
        "        ('cat1', OneHotEncoder(drop = 'first', sparse_output = False), ['CITY_NAME','OWNTYPE','AGE_POSSESSION']),\n",
        "        ('target_enc', ce.TargetEncoder(), ['LOCALITY_NAME'])\n",
        "    ],\n",
        "    remainder = 'passthrough'\n",
        ")"
      ],
      "metadata": {
        "id": "kM28gByta5Ie"
      },
      "execution_count": 9,
      "outputs": []
    },
    {
      "cell_type": "code",
      "source": [
        "!pip install scikit-optimize"
      ],
      "metadata": {
        "id": "I17hgr084uG0"
      },
      "execution_count": null,
      "outputs": []
    },
    {
      "cell_type": "code",
      "source": [
        "from sklearn import ensemble\n",
        "from sklearn import metrics\n",
        "from sklearn import model_selection\n",
        "from sklearn import decomposition\n",
        "from sklearn import preprocessing\n",
        "from sklearn import pipeline\n",
        "\n",
        "from functools import partial\n",
        "from skopt import space\n",
        "from skopt import gp_minimize"
      ],
      "metadata": {
        "id": "jSCuJ4bHw8-T"
      },
      "execution_count": 11,
      "outputs": []
    },
    {
      "cell_type": "code",
      "source": [
        "def objective(params, param_names, x, y):\n",
        "\n",
        "  params = dict(zip(param_names, params))\n",
        "\n",
        "  preprocessor = ColumnTransformer(\n",
        "    transformers = [\n",
        "        ('num', StandardScaler(), ['BEDROOM_NUM', 'BATHROOM_NUM', 'CALCULATED_AREA_SQFT']),\n",
        "        ('cat', OrdinalEncoder(), [\"PROPERTY_TYPE\",\"BALCONY_NUM\",\"AMENITIES_CLUSTER\", \"FLOOR_CATEGORY\", 'FURNISH']),\n",
        "        ('cat1', OneHotEncoder(drop = 'first', sparse_output = False), ['CITY_NAME','OWNTYPE','AGE_POSSESSION']),\n",
        "        ('target_enc', ce.TargetEncoder(), ['LOCALITY_NAME'])\n",
        "    ],\n",
        "    remainder = 'passthrough'\n",
        "   )\n",
        "\n",
        "  model = ensemble.RandomForestRegressor(**params)\n",
        "  pipeline = Pipeline([\n",
        "        ('preprocessor', preprocessor),\n",
        "        ('regressor', model)\n",
        "  ])\n",
        "    # Define cross-validation strategy\n",
        "  kfold = KFold(n_splits=10, shuffle=True, random_state=42)\n",
        "  scores = cross_val_score(pipeline, X, y_transformed, cv=kfold, scoring='r2', n_jobs=-1)\n",
        "  mean_r2 = np.mean(scores)\n",
        "  return -mean_r2\n"
      ],
      "metadata": {
        "id": "ioCsTJQTQ449"
      },
      "execution_count": 12,
      "outputs": []
    },
    {
      "cell_type": "code",
      "source": [
        "param_space = [\n",
        "    space.Integer(3, 35, name = \"max_depth\"),\n",
        "    space.Integer(100, 500, name = \"n_estimators\"),\n",
        "    space.Real(0.1, 1, prior = \"uniform\", name = \"max_features\"),\n",
        "    space.Real(0.1, 1, prior = \"uniform\", name = \"max_samples\")\n",
        "]\n",
        "\n",
        "param_names = [\n",
        "    \"n_estimators\",\n",
        "    \"max_features\",\n",
        "    \"max_depth\",\n",
        "    \"min_samples_split\",\n",
        "    \"min_samples_leaf\",\n",
        "    \"bootstrap\"\n",
        "]"
      ],
      "metadata": {
        "id": "NqvTkFeDzEQ6"
      },
      "execution_count": 15,
      "outputs": []
    },
    {
      "cell_type": "code",
      "source": [
        "optimization_function = partial(objective, param_names = param_names, x = X, y = y_transformed)\n",
        "result = gp_minimize(\n",
        "    optimization_function,\n",
        "    dimensions = param_space,\n",
        "    n_calls = 15,\n",
        "    n_random_starts = 10,\n",
        "    verbose = 10\n",
        ")"
      ],
      "metadata": {
        "id": "dIaH55UT3cUf"
      },
      "execution_count": null,
      "outputs": []
    },
    {
      "cell_type": "code",
      "source": [
        "print(dict(zip(param_names, result.x)))"
      ],
      "metadata": {
        "id": "bHBfFjuT43jh",
        "colab": {
          "base_uri": "https://localhost:8080/"
        },
        "outputId": "63f03c8a-595d-4684-db1d-725d6fd3b0a5"
      },
      "execution_count": 17,
      "outputs": [
        {
          "output_type": "stream",
          "name": "stdout",
          "text": [
            "{'n_estimators': 100, 'max_features': 0.8578669148983669, 'max_depth': 35, 'min_samples_split': 2, 'min_samples_leaf': 1, 'bootstrap': False}\n"
          ]
        }
      ]
    },
    {
      "cell_type": "code",
      "source": [],
      "metadata": {
        "id": "ui15cnOxUURT"
      },
      "execution_count": null,
      "outputs": []
    },
    {
      "cell_type": "markdown",
      "source": [
        "\n",
        "\n",
        "---\n",
        "\n",
        "\n",
        "\n",
        "---\n",
        "\n"
      ],
      "metadata": {
        "id": "vP-oC56aVBJL"
      }
    },
    {
      "cell_type": "code",
      "source": [
        "# Random Forest\n",
        "# For 100 iteration\n",
        "# {'max_depth': 26, 'n_estimators': 500, 'max_features': 0.40755472499128953, 'max_samples': 1.0}\n",
        "# For 15 iteration max_depth= 24, n_estimators=500, max_features=0.46421041809399965, max_samples=1.0"
      ],
      "metadata": {
        "id": "uMhtHMMkhW4F"
      },
      "execution_count": null,
      "outputs": []
    },
    {
      "cell_type": "code",
      "source": [
        "from sklearn.model_selection import train_test_split"
      ],
      "metadata": {
        "id": "u8Hp7ORfVpsf"
      },
      "execution_count": null,
      "outputs": []
    },
    {
      "cell_type": "code",
      "source": [
        "preprocessor = ColumnTransformer(\n",
        "    transformers = [\n",
        "        ('num', StandardScaler(), ['BEDROOM_NUM', 'BATHROOM_NUM', 'CALCULATED_AREA_SQFT']),\n",
        "        ('cat', OrdinalEncoder(), [\"PROPERTY_TYPE\",\"BALCONY_NUM\",\"AMENITIES_CLUSTER\", \"FLOOR_CATEGORY\", 'FURNISH']),\n",
        "        ('cat1', OneHotEncoder(drop = 'first', sparse_output = False), ['CITY_NAME','OWNTYPE','AGE_POSSESSION']),\n",
        "        ('target_enc', ce.TargetEncoder(), ['LOCALITY_NAME'])\n",
        "    ],\n",
        "    remainder = 'passthrough'\n",
        ")\n",
        "\n",
        "model = ensemble.ExtraTreesRegressor(max_samples = None,max_depth= 16, n_estimators=391, max_features= 0.6523343501341525)\n",
        "pipeline = Pipeline([\n",
        "        ('preprocessor', preprocessor),\n",
        "        ('regressor', model)])"
      ],
      "metadata": {
        "id": "s6VHaPNlVCNd"
      },
      "execution_count": null,
      "outputs": []
    },
    {
      "cell_type": "code",
      "source": [
        "# K-fold cross-validation\n",
        "kfold = KFold(n_splits=10, shuffle=True, random_state=42)\n",
        "scores = cross_val_score(pipeline, X, y_transformed, cv=kfold, scoring='r2')"
      ],
      "metadata": {
        "id": "h9qgSNjeVUxC"
      },
      "execution_count": null,
      "outputs": []
    },
    {
      "cell_type": "code",
      "source": [
        "scores.mean(), scores.std()"
      ],
      "metadata": {
        "colab": {
          "base_uri": "https://localhost:8080/"
        },
        "id": "T8VaGWuXVYW7",
        "outputId": "eaf2aed7-9ec0-413f-8468-f425371a388e"
      },
      "execution_count": null,
      "outputs": [
        {
          "output_type": "execute_result",
          "data": {
            "text/plain": [
              "(0.8140602030798181, 0.015307185595288098)"
            ]
          },
          "metadata": {},
          "execution_count": 41
        }
      ]
    },
    {
      "cell_type": "code",
      "source": [
        "X_train, X_test, y_train, y_test = train_test_split(X,y_transformed,test_size=0.2,random_state=42)\n",
        "pipeline.fit(X_train,y_train)"
      ],
      "metadata": {
        "colab": {
          "base_uri": "https://localhost:8080/",
          "height": 190
        },
        "id": "Z0PLjr3bVdvw",
        "outputId": "06a305af-2300-4e24-d4fa-086a1e1fc06c"
      },
      "execution_count": null,
      "outputs": [
        {
          "output_type": "execute_result",
          "data": {
            "text/plain": [
              "Pipeline(steps=[('preprocessor',\n",
              "                 ColumnTransformer(remainder='passthrough',\n",
              "                                   transformers=[('num', StandardScaler(),\n",
              "                                                  ['BEDROOM_NUM',\n",
              "                                                   'BATHROOM_NUM',\n",
              "                                                   'CALCULATED_AREA_SQFT']),\n",
              "                                                 ('cat', OrdinalEncoder(),\n",
              "                                                  ['PROPERTY_TYPE',\n",
              "                                                   'BALCONY_NUM',\n",
              "                                                   'AMENITIES_CLUSTER',\n",
              "                                                   'FLOOR_CATEGORY',\n",
              "                                                   'FURNISH']),\n",
              "                                                 ('cat1',\n",
              "                                                  OneHotEncoder(drop='first',\n",
              "                                                                sparse_output=False),\n",
              "                                                  ['CITY_NAME', 'OWNTYPE',\n",
              "                                                   'AGE_POSSESSION']),\n",
              "                                                 ('target_enc', TargetEncoder(),\n",
              "                                                  ['LOCALITY_NAME'])])),\n",
              "                ('regressor',\n",
              "                 ExtraTreesRegressor(max_depth=16,\n",
              "                                     max_features=0.6523343501341525,\n",
              "                                     n_estimators=391))])"
            ],
            "text/html": [
              "<style>#sk-container-id-2 {color: black;background-color: white;}#sk-container-id-2 pre{padding: 0;}#sk-container-id-2 div.sk-toggleable {background-color: white;}#sk-container-id-2 label.sk-toggleable__label {cursor: pointer;display: block;width: 100%;margin-bottom: 0;padding: 0.3em;box-sizing: border-box;text-align: center;}#sk-container-id-2 label.sk-toggleable__label-arrow:before {content: \"▸\";float: left;margin-right: 0.25em;color: #696969;}#sk-container-id-2 label.sk-toggleable__label-arrow:hover:before {color: black;}#sk-container-id-2 div.sk-estimator:hover label.sk-toggleable__label-arrow:before {color: black;}#sk-container-id-2 div.sk-toggleable__content {max-height: 0;max-width: 0;overflow: hidden;text-align: left;background-color: #f0f8ff;}#sk-container-id-2 div.sk-toggleable__content pre {margin: 0.2em;color: black;border-radius: 0.25em;background-color: #f0f8ff;}#sk-container-id-2 input.sk-toggleable__control:checked~div.sk-toggleable__content {max-height: 200px;max-width: 100%;overflow: auto;}#sk-container-id-2 input.sk-toggleable__control:checked~label.sk-toggleable__label-arrow:before {content: \"▾\";}#sk-container-id-2 div.sk-estimator input.sk-toggleable__control:checked~label.sk-toggleable__label {background-color: #d4ebff;}#sk-container-id-2 div.sk-label input.sk-toggleable__control:checked~label.sk-toggleable__label {background-color: #d4ebff;}#sk-container-id-2 input.sk-hidden--visually {border: 0;clip: rect(1px 1px 1px 1px);clip: rect(1px, 1px, 1px, 1px);height: 1px;margin: -1px;overflow: hidden;padding: 0;position: absolute;width: 1px;}#sk-container-id-2 div.sk-estimator {font-family: monospace;background-color: #f0f8ff;border: 1px dotted black;border-radius: 0.25em;box-sizing: border-box;margin-bottom: 0.5em;}#sk-container-id-2 div.sk-estimator:hover {background-color: #d4ebff;}#sk-container-id-2 div.sk-parallel-item::after {content: \"\";width: 100%;border-bottom: 1px solid gray;flex-grow: 1;}#sk-container-id-2 div.sk-label:hover label.sk-toggleable__label {background-color: #d4ebff;}#sk-container-id-2 div.sk-serial::before {content: \"\";position: absolute;border-left: 1px solid gray;box-sizing: border-box;top: 0;bottom: 0;left: 50%;z-index: 0;}#sk-container-id-2 div.sk-serial {display: flex;flex-direction: column;align-items: center;background-color: white;padding-right: 0.2em;padding-left: 0.2em;position: relative;}#sk-container-id-2 div.sk-item {position: relative;z-index: 1;}#sk-container-id-2 div.sk-parallel {display: flex;align-items: stretch;justify-content: center;background-color: white;position: relative;}#sk-container-id-2 div.sk-item::before, #sk-container-id-2 div.sk-parallel-item::before {content: \"\";position: absolute;border-left: 1px solid gray;box-sizing: border-box;top: 0;bottom: 0;left: 50%;z-index: -1;}#sk-container-id-2 div.sk-parallel-item {display: flex;flex-direction: column;z-index: 1;position: relative;background-color: white;}#sk-container-id-2 div.sk-parallel-item:first-child::after {align-self: flex-end;width: 50%;}#sk-container-id-2 div.sk-parallel-item:last-child::after {align-self: flex-start;width: 50%;}#sk-container-id-2 div.sk-parallel-item:only-child::after {width: 0;}#sk-container-id-2 div.sk-dashed-wrapped {border: 1px dashed gray;margin: 0 0.4em 0.5em 0.4em;box-sizing: border-box;padding-bottom: 0.4em;background-color: white;}#sk-container-id-2 div.sk-label label {font-family: monospace;font-weight: bold;display: inline-block;line-height: 1.2em;}#sk-container-id-2 div.sk-label-container {text-align: center;}#sk-container-id-2 div.sk-container {/* jupyter's `normalize.less` sets `[hidden] { display: none; }` but bootstrap.min.css set `[hidden] { display: none !important; }` so we also need the `!important` here to be able to override the default hidden behavior on the sphinx rendered scikit-learn.org. See: https://github.com/scikit-learn/scikit-learn/issues/21755 */display: inline-block !important;position: relative;}#sk-container-id-2 div.sk-text-repr-fallback {display: none;}</style><div id=\"sk-container-id-2\" class=\"sk-top-container\"><div class=\"sk-text-repr-fallback\"><pre>Pipeline(steps=[(&#x27;preprocessor&#x27;,\n",
              "                 ColumnTransformer(remainder=&#x27;passthrough&#x27;,\n",
              "                                   transformers=[(&#x27;num&#x27;, StandardScaler(),\n",
              "                                                  [&#x27;BEDROOM_NUM&#x27;,\n",
              "                                                   &#x27;BATHROOM_NUM&#x27;,\n",
              "                                                   &#x27;CALCULATED_AREA_SQFT&#x27;]),\n",
              "                                                 (&#x27;cat&#x27;, OrdinalEncoder(),\n",
              "                                                  [&#x27;PROPERTY_TYPE&#x27;,\n",
              "                                                   &#x27;BALCONY_NUM&#x27;,\n",
              "                                                   &#x27;AMENITIES_CLUSTER&#x27;,\n",
              "                                                   &#x27;FLOOR_CATEGORY&#x27;,\n",
              "                                                   &#x27;FURNISH&#x27;]),\n",
              "                                                 (&#x27;cat1&#x27;,\n",
              "                                                  OneHotEncoder(drop=&#x27;first&#x27;,\n",
              "                                                                sparse_output=False),\n",
              "                                                  [&#x27;CITY_NAME&#x27;, &#x27;OWNTYPE&#x27;,\n",
              "                                                   &#x27;AGE_POSSESSION&#x27;]),\n",
              "                                                 (&#x27;target_enc&#x27;, TargetEncoder(),\n",
              "                                                  [&#x27;LOCALITY_NAME&#x27;])])),\n",
              "                (&#x27;regressor&#x27;,\n",
              "                 ExtraTreesRegressor(max_depth=16,\n",
              "                                     max_features=0.6523343501341525,\n",
              "                                     n_estimators=391))])</pre><b>In a Jupyter environment, please rerun this cell to show the HTML representation or trust the notebook. <br />On GitHub, the HTML representation is unable to render, please try loading this page with nbviewer.org.</b></div><div class=\"sk-container\" hidden><div class=\"sk-item sk-dashed-wrapped\"><div class=\"sk-label-container\"><div class=\"sk-label sk-toggleable\"><input class=\"sk-toggleable__control sk-hidden--visually\" id=\"sk-estimator-id-14\" type=\"checkbox\" ><label for=\"sk-estimator-id-14\" class=\"sk-toggleable__label sk-toggleable__label-arrow\">Pipeline</label><div class=\"sk-toggleable__content\"><pre>Pipeline(steps=[(&#x27;preprocessor&#x27;,\n",
              "                 ColumnTransformer(remainder=&#x27;passthrough&#x27;,\n",
              "                                   transformers=[(&#x27;num&#x27;, StandardScaler(),\n",
              "                                                  [&#x27;BEDROOM_NUM&#x27;,\n",
              "                                                   &#x27;BATHROOM_NUM&#x27;,\n",
              "                                                   &#x27;CALCULATED_AREA_SQFT&#x27;]),\n",
              "                                                 (&#x27;cat&#x27;, OrdinalEncoder(),\n",
              "                                                  [&#x27;PROPERTY_TYPE&#x27;,\n",
              "                                                   &#x27;BALCONY_NUM&#x27;,\n",
              "                                                   &#x27;AMENITIES_CLUSTER&#x27;,\n",
              "                                                   &#x27;FLOOR_CATEGORY&#x27;,\n",
              "                                                   &#x27;FURNISH&#x27;]),\n",
              "                                                 (&#x27;cat1&#x27;,\n",
              "                                                  OneHotEncoder(drop=&#x27;first&#x27;,\n",
              "                                                                sparse_output=False),\n",
              "                                                  [&#x27;CITY_NAME&#x27;, &#x27;OWNTYPE&#x27;,\n",
              "                                                   &#x27;AGE_POSSESSION&#x27;]),\n",
              "                                                 (&#x27;target_enc&#x27;, TargetEncoder(),\n",
              "                                                  [&#x27;LOCALITY_NAME&#x27;])])),\n",
              "                (&#x27;regressor&#x27;,\n",
              "                 ExtraTreesRegressor(max_depth=16,\n",
              "                                     max_features=0.6523343501341525,\n",
              "                                     n_estimators=391))])</pre></div></div></div><div class=\"sk-serial\"><div class=\"sk-item sk-dashed-wrapped\"><div class=\"sk-label-container\"><div class=\"sk-label sk-toggleable\"><input class=\"sk-toggleable__control sk-hidden--visually\" id=\"sk-estimator-id-15\" type=\"checkbox\" ><label for=\"sk-estimator-id-15\" class=\"sk-toggleable__label sk-toggleable__label-arrow\">preprocessor: ColumnTransformer</label><div class=\"sk-toggleable__content\"><pre>ColumnTransformer(remainder=&#x27;passthrough&#x27;,\n",
              "                  transformers=[(&#x27;num&#x27;, StandardScaler(),\n",
              "                                 [&#x27;BEDROOM_NUM&#x27;, &#x27;BATHROOM_NUM&#x27;,\n",
              "                                  &#x27;CALCULATED_AREA_SQFT&#x27;]),\n",
              "                                (&#x27;cat&#x27;, OrdinalEncoder(),\n",
              "                                 [&#x27;PROPERTY_TYPE&#x27;, &#x27;BALCONY_NUM&#x27;,\n",
              "                                  &#x27;AMENITIES_CLUSTER&#x27;, &#x27;FLOOR_CATEGORY&#x27;,\n",
              "                                  &#x27;FURNISH&#x27;]),\n",
              "                                (&#x27;cat1&#x27;,\n",
              "                                 OneHotEncoder(drop=&#x27;first&#x27;,\n",
              "                                               sparse_output=False),\n",
              "                                 [&#x27;CITY_NAME&#x27;, &#x27;OWNTYPE&#x27;, &#x27;AGE_POSSESSION&#x27;]),\n",
              "                                (&#x27;target_enc&#x27;, TargetEncoder(),\n",
              "                                 [&#x27;LOCALITY_NAME&#x27;])])</pre></div></div></div><div class=\"sk-parallel\"><div class=\"sk-parallel-item\"><div class=\"sk-item\"><div class=\"sk-label-container\"><div class=\"sk-label sk-toggleable\"><input class=\"sk-toggleable__control sk-hidden--visually\" id=\"sk-estimator-id-16\" type=\"checkbox\" ><label for=\"sk-estimator-id-16\" class=\"sk-toggleable__label sk-toggleable__label-arrow\">num</label><div class=\"sk-toggleable__content\"><pre>[&#x27;BEDROOM_NUM&#x27;, &#x27;BATHROOM_NUM&#x27;, &#x27;CALCULATED_AREA_SQFT&#x27;]</pre></div></div></div><div class=\"sk-serial\"><div class=\"sk-item\"><div class=\"sk-estimator sk-toggleable\"><input class=\"sk-toggleable__control sk-hidden--visually\" id=\"sk-estimator-id-17\" type=\"checkbox\" ><label for=\"sk-estimator-id-17\" class=\"sk-toggleable__label sk-toggleable__label-arrow\">StandardScaler</label><div class=\"sk-toggleable__content\"><pre>StandardScaler()</pre></div></div></div></div></div></div><div class=\"sk-parallel-item\"><div class=\"sk-item\"><div class=\"sk-label-container\"><div class=\"sk-label sk-toggleable\"><input class=\"sk-toggleable__control sk-hidden--visually\" id=\"sk-estimator-id-18\" type=\"checkbox\" ><label for=\"sk-estimator-id-18\" class=\"sk-toggleable__label sk-toggleable__label-arrow\">cat</label><div class=\"sk-toggleable__content\"><pre>[&#x27;PROPERTY_TYPE&#x27;, &#x27;BALCONY_NUM&#x27;, &#x27;AMENITIES_CLUSTER&#x27;, &#x27;FLOOR_CATEGORY&#x27;, &#x27;FURNISH&#x27;]</pre></div></div></div><div class=\"sk-serial\"><div class=\"sk-item\"><div class=\"sk-estimator sk-toggleable\"><input class=\"sk-toggleable__control sk-hidden--visually\" id=\"sk-estimator-id-19\" type=\"checkbox\" ><label for=\"sk-estimator-id-19\" class=\"sk-toggleable__label sk-toggleable__label-arrow\">OrdinalEncoder</label><div class=\"sk-toggleable__content\"><pre>OrdinalEncoder()</pre></div></div></div></div></div></div><div class=\"sk-parallel-item\"><div class=\"sk-item\"><div class=\"sk-label-container\"><div class=\"sk-label sk-toggleable\"><input class=\"sk-toggleable__control sk-hidden--visually\" id=\"sk-estimator-id-20\" type=\"checkbox\" ><label for=\"sk-estimator-id-20\" class=\"sk-toggleable__label sk-toggleable__label-arrow\">cat1</label><div class=\"sk-toggleable__content\"><pre>[&#x27;CITY_NAME&#x27;, &#x27;OWNTYPE&#x27;, &#x27;AGE_POSSESSION&#x27;]</pre></div></div></div><div class=\"sk-serial\"><div class=\"sk-item\"><div class=\"sk-estimator sk-toggleable\"><input class=\"sk-toggleable__control sk-hidden--visually\" id=\"sk-estimator-id-21\" type=\"checkbox\" ><label for=\"sk-estimator-id-21\" class=\"sk-toggleable__label sk-toggleable__label-arrow\">OneHotEncoder</label><div class=\"sk-toggleable__content\"><pre>OneHotEncoder(drop=&#x27;first&#x27;, sparse_output=False)</pre></div></div></div></div></div></div><div class=\"sk-parallel-item\"><div class=\"sk-item\"><div class=\"sk-label-container\"><div class=\"sk-label sk-toggleable\"><input class=\"sk-toggleable__control sk-hidden--visually\" id=\"sk-estimator-id-22\" type=\"checkbox\" ><label for=\"sk-estimator-id-22\" class=\"sk-toggleable__label sk-toggleable__label-arrow\">target_enc</label><div class=\"sk-toggleable__content\"><pre>[&#x27;LOCALITY_NAME&#x27;]</pre></div></div></div><div class=\"sk-serial\"><div class=\"sk-item\"><div class=\"sk-estimator sk-toggleable\"><input class=\"sk-toggleable__control sk-hidden--visually\" id=\"sk-estimator-id-23\" type=\"checkbox\" ><label for=\"sk-estimator-id-23\" class=\"sk-toggleable__label sk-toggleable__label-arrow\">TargetEncoder</label><div class=\"sk-toggleable__content\"><pre>TargetEncoder()</pre></div></div></div></div></div></div><div class=\"sk-parallel-item\"><div class=\"sk-item\"><div class=\"sk-label-container\"><div class=\"sk-label sk-toggleable\"><input class=\"sk-toggleable__control sk-hidden--visually\" id=\"sk-estimator-id-24\" type=\"checkbox\" ><label for=\"sk-estimator-id-24\" class=\"sk-toggleable__label sk-toggleable__label-arrow\">remainder</label><div class=\"sk-toggleable__content\"><pre>[]</pre></div></div></div><div class=\"sk-serial\"><div class=\"sk-item\"><div class=\"sk-estimator sk-toggleable\"><input class=\"sk-toggleable__control sk-hidden--visually\" id=\"sk-estimator-id-25\" type=\"checkbox\" ><label for=\"sk-estimator-id-25\" class=\"sk-toggleable__label sk-toggleable__label-arrow\">passthrough</label><div class=\"sk-toggleable__content\"><pre>passthrough</pre></div></div></div></div></div></div></div></div><div class=\"sk-item\"><div class=\"sk-estimator sk-toggleable\"><input class=\"sk-toggleable__control sk-hidden--visually\" id=\"sk-estimator-id-26\" type=\"checkbox\" ><label for=\"sk-estimator-id-26\" class=\"sk-toggleable__label sk-toggleable__label-arrow\">ExtraTreesRegressor</label><div class=\"sk-toggleable__content\"><pre>ExtraTreesRegressor(max_depth=16, max_features=0.6523343501341525,\n",
              "                    n_estimators=391)</pre></div></div></div></div></div></div></div>"
            ]
          },
          "metadata": {},
          "execution_count": 42
        }
      ]
    },
    {
      "cell_type": "code",
      "source": [
        "y_pred = pipeline.predict(X_test)\n",
        "y_pred = np.expm1(y_pred)\n",
        "metrics.mean_absolute_error(np.expm1(y_test),y_pred)"
      ],
      "metadata": {
        "colab": {
          "base_uri": "https://localhost:8080/"
        },
        "id": "sxa4tcdOVg1b",
        "outputId": "37a7b9fc-fb74-484f-e1a7-dbe400f1df30"
      },
      "execution_count": null,
      "outputs": [
        {
          "output_type": "execute_result",
          "data": {
            "text/plain": [
              "0.3411988607282923"
            ]
          },
          "metadata": {},
          "execution_count": 43
        }
      ]
    }
  ]
}