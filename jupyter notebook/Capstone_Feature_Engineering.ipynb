{
  "cells": [
    {
      "cell_type": "code",
      "execution_count": null,
      "metadata": {
        "id": "Tpr2sQoHTpUL"
      },
      "outputs": [],
      "source": [
        "import numpy as np\n",
        "import pandas as pd\n",
        "import re\n",
        "import matplotlib.pyplot as plt\n",
        "import seaborn as sns"
      ]
    },
    {
      "cell_type": "code",
      "execution_count": null,
      "metadata": {
        "id": "S2XwUmRyTXGM"
      },
      "outputs": [],
      "source": [
        "pd.set_option('display.max_colwidth', False)\n",
        "pd.set_option('display.max_rows', None)\n",
        "pd.set_option('display.max_columns', None)"
      ]
    },
    {
      "cell_type": "code",
      "execution_count": null,
      "metadata": {
        "id": "uPyFNA_TUISq"
      },
      "outputs": [],
      "source": [
        "df = pd.read_csv(\"flat_houses_v2.csv\")"
      ]
    },
    {
      "cell_type": "code",
      "execution_count": null,
      "metadata": {
        "colab": {
          "base_uri": "https://localhost:8080/",
          "height": 742
        },
        "id": "ZckFMDheVUQt",
        "outputId": "4847b9a6-961f-4dae-c188-47dd75e9e40f"
      },
      "outputs": [
        {
          "data": {
            "text/html": [
              "\n",
              "  <div id=\"df-23e0a23a-24d3-4977-813e-f0a5f87ed0e2\" class=\"colab-df-container\">\n",
              "    <div>\n",
              "<style scoped>\n",
              "    .dataframe tbody tr th:only-of-type {\n",
              "        vertical-align: middle;\n",
              "    }\n",
              "\n",
              "    .dataframe tbody tr th {\n",
              "        vertical-align: top;\n",
              "    }\n",
              "\n",
              "    .dataframe thead th {\n",
              "        text-align: right;\n",
              "    }\n",
              "</style>\n",
              "<table border=\"1\" class=\"dataframe\">\n",
              "  <thead>\n",
              "    <tr style=\"text-align: right;\">\n",
              "      <th></th>\n",
              "      <th>PROP_ID</th>\n",
              "      <th>PREFERENCE</th>\n",
              "      <th>PROPERTY_TYPE</th>\n",
              "      <th>DESCRIPTION</th>\n",
              "      <th>CITY_NAME</th>\n",
              "      <th>LOCALITY_NAME</th>\n",
              "      <th>GATED</th>\n",
              "      <th>TRANSACT_TYPE</th>\n",
              "      <th>OWNTYPE</th>\n",
              "      <th>BEDROOM_NUM</th>\n",
              "      <th>BATHROOM_NUM</th>\n",
              "      <th>BATHROOM_ATTACHED</th>\n",
              "      <th>BALCONY_NUM</th>\n",
              "      <th>BALCONY_ATTACHED</th>\n",
              "      <th>BUILTUP_SQFT</th>\n",
              "      <th>CARPET_SQFT</th>\n",
              "      <th>SUPERBUILTUP_SQFT</th>\n",
              "      <th>FURNISH</th>\n",
              "      <th>FURNISHING_ATTRIBUTES</th>\n",
              "      <th>FACING</th>\n",
              "      <th>FLOOR_NUM</th>\n",
              "      <th>TOTAL_FLOOR</th>\n",
              "      <th>FEATURES</th>\n",
              "      <th>LATITUDE</th>\n",
              "      <th>LONGITUDE</th>\n",
              "      <th>AVAILABILITY</th>\n",
              "      <th>SUB_AVAILABILITY</th>\n",
              "      <th>CORNER_PROPERTY</th>\n",
              "      <th>AVG_PRICE</th>\n",
              "      <th>PRICE_SQFT</th>\n",
              "      <th>AMENITIES</th>\n",
              "      <th>AVG_PRICE_CR</th>\n",
              "      <th>AREA_SQFT</th>\n",
              "    </tr>\n",
              "  </thead>\n",
              "  <tbody>\n",
              "    <tr>\n",
              "      <th>0</th>\n",
              "      <td>G71293060</td>\n",
              "      <td>S</td>\n",
              "      <td>flat</td>\n",
              "      <td>Unity  Group The Amaryllis is a ready to move project, offering a great 6 BHK flat in Karol Bagh, Central Delhi. The unit has a carpet area of 3173.0 sq. ft. and is available at a price of Rs. 10.3 Crore. \\n\\nUnity  Group The Amaryllis is well connected to the city areas and features a large number of amenities to fit your needs. It is equipped with highlights such as Swimming Pool, 24x7 Security, Squash Court, Library, Badminton Court, etc. that make it one of the most sought after neighborhoods.</td>\n",
              "      <td>Central Delhi</td>\n",
              "      <td>Karol Bagh</td>\n",
              "      <td>NaN</td>\n",
              "      <td>New Booking</td>\n",
              "      <td>Freehold</td>\n",
              "      <td>6.0</td>\n",
              "      <td>0</td>\n",
              "      <td>NaN</td>\n",
              "      <td>NaN</td>\n",
              "      <td>NaN</td>\n",
              "      <td>NaN</td>\n",
              "      <td>3173.0</td>\n",
              "      <td>NaN</td>\n",
              "      <td>NaN</td>\n",
              "      <td>NaN</td>\n",
              "      <td>NaN</td>\n",
              "      <td>1.0</td>\n",
              "      <td>32.0</td>\n",
              "      <td>N</td>\n",
              "      <td>28.657811</td>\n",
              "      <td>77.19466</td>\n",
              "      <td>Under Construction</td>\n",
              "      <td>Not Mentioned</td>\n",
              "      <td>NaN</td>\n",
              "      <td>103000000</td>\n",
              "      <td>32461</td>\n",
              "      <td>[]</td>\n",
              "      <td>10.3</td>\n",
              "      <td>3173.038415</td>\n",
              "    </tr>\n",
              "  </tbody>\n",
              "</table>\n",
              "</div>\n",
              "    <div class=\"colab-df-buttons\">\n",
              "\n",
              "  <div class=\"colab-df-container\">\n",
              "    <button class=\"colab-df-convert\" onclick=\"convertToInteractive('df-23e0a23a-24d3-4977-813e-f0a5f87ed0e2')\"\n",
              "            title=\"Convert this dataframe to an interactive table.\"\n",
              "            style=\"display:none;\">\n",
              "\n",
              "  <svg xmlns=\"http://www.w3.org/2000/svg\" height=\"24px\" viewBox=\"0 -960 960 960\">\n",
              "    <path d=\"M120-120v-720h720v720H120Zm60-500h600v-160H180v160Zm220 220h160v-160H400v160Zm0 220h160v-160H400v160ZM180-400h160v-160H180v160Zm440 0h160v-160H620v160ZM180-180h160v-160H180v160Zm440 0h160v-160H620v160Z\"/>\n",
              "  </svg>\n",
              "    </button>\n",
              "\n",
              "  <style>\n",
              "    .colab-df-container {\n",
              "      display:flex;\n",
              "      gap: 12px;\n",
              "    }\n",
              "\n",
              "    .colab-df-convert {\n",
              "      background-color: #E8F0FE;\n",
              "      border: none;\n",
              "      border-radius: 50%;\n",
              "      cursor: pointer;\n",
              "      display: none;\n",
              "      fill: #1967D2;\n",
              "      height: 32px;\n",
              "      padding: 0 0 0 0;\n",
              "      width: 32px;\n",
              "    }\n",
              "\n",
              "    .colab-df-convert:hover {\n",
              "      background-color: #E2EBFA;\n",
              "      box-shadow: 0px 1px 2px rgba(60, 64, 67, 0.3), 0px 1px 3px 1px rgba(60, 64, 67, 0.15);\n",
              "      fill: #174EA6;\n",
              "    }\n",
              "\n",
              "    .colab-df-buttons div {\n",
              "      margin-bottom: 4px;\n",
              "    }\n",
              "\n",
              "    [theme=dark] .colab-df-convert {\n",
              "      background-color: #3B4455;\n",
              "      fill: #D2E3FC;\n",
              "    }\n",
              "\n",
              "    [theme=dark] .colab-df-convert:hover {\n",
              "      background-color: #434B5C;\n",
              "      box-shadow: 0px 1px 3px 1px rgba(0, 0, 0, 0.15);\n",
              "      filter: drop-shadow(0px 1px 2px rgba(0, 0, 0, 0.3));\n",
              "      fill: #FFFFFF;\n",
              "    }\n",
              "  </style>\n",
              "\n",
              "    <script>\n",
              "      const buttonEl =\n",
              "        document.querySelector('#df-23e0a23a-24d3-4977-813e-f0a5f87ed0e2 button.colab-df-convert');\n",
              "      buttonEl.style.display =\n",
              "        google.colab.kernel.accessAllowed ? 'block' : 'none';\n",
              "\n",
              "      async function convertToInteractive(key) {\n",
              "        const element = document.querySelector('#df-23e0a23a-24d3-4977-813e-f0a5f87ed0e2');\n",
              "        const dataTable =\n",
              "          await google.colab.kernel.invokeFunction('convertToInteractive',\n",
              "                                                    [key], {});\n",
              "        if (!dataTable) return;\n",
              "\n",
              "        const docLinkHtml = 'Like what you see? Visit the ' +\n",
              "          '<a target=\"_blank\" href=https://colab.research.google.com/notebooks/data_table.ipynb>data table notebook</a>'\n",
              "          + ' to learn more about interactive tables.';\n",
              "        element.innerHTML = '';\n",
              "        dataTable['output_type'] = 'display_data';\n",
              "        await google.colab.output.renderOutput(dataTable, element);\n",
              "        const docLink = document.createElement('div');\n",
              "        docLink.innerHTML = docLinkHtml;\n",
              "        element.appendChild(docLink);\n",
              "      }\n",
              "    </script>\n",
              "  </div>\n",
              "\n",
              "    </div>\n",
              "  </div>\n"
            ],
            "text/plain": [
              "     PROP_ID PREFERENCE PROPERTY_TYPE  \\\n",
              "0  G71293060  S          flat           \n",
              "\n",
              "                                                                                                                                                                                                                                                                                                                                                                                                                                                                                                              DESCRIPTION  \\\n",
              "0  Unity  Group The Amaryllis is a ready to move project, offering a great 6 BHK flat in Karol Bagh, Central Delhi. The unit has a carpet area of 3173.0 sq. ft. and is available at a price of Rs. 10.3 Crore. \\n\\nUnity  Group The Amaryllis is well connected to the city areas and features a large number of amenities to fit your needs. It is equipped with highlights such as Swimming Pool, 24x7 Security, Squash Court, Library, Badminton Court, etc. that make it one of the most sought after neighborhoods.   \n",
              "\n",
              "       CITY_NAME LOCALITY_NAME GATED TRANSACT_TYPE   OWNTYPE  BEDROOM_NUM  \\\n",
              "0  Central Delhi  Karol Bagh    NaN   New Booking   Freehold  6.0           \n",
              "\n",
              "   BATHROOM_NUM BATHROOM_ATTACHED  BALCONY_NUM BALCONY_ATTACHED  BUILTUP_SQFT  \\\n",
              "0  0             NaN              NaN           NaN             NaN             \n",
              "\n",
              "   CARPET_SQFT  SUPERBUILTUP_SQFT FURNISH FURNISHING_ATTRIBUTES FACING  \\\n",
              "0  3173.0      NaN                 NaN     NaN                   NaN     \n",
              "\n",
              "   FLOOR_NUM  TOTAL_FLOOR FEATURES   LATITUDE  LONGITUDE        AVAILABILITY  \\\n",
              "0  1.0        32.0         N        28.657811  77.19466   Under Construction   \n",
              "\n",
              "  SUB_AVAILABILITY CORNER_PROPERTY  AVG_PRICE  PRICE_SQFT AMENITIES  \\\n",
              "0  Not Mentioned    NaN             103000000  32461       []         \n",
              "\n",
              "   AVG_PRICE_CR    AREA_SQFT  \n",
              "0  10.3          3173.038415  "
            ]
          },
          "execution_count": 4,
          "metadata": {},
          "output_type": "execute_result"
        }
      ],
      "source": [
        "df.head(1)"
      ]
    },
    {
      "cell_type": "code",
      "execution_count": null,
      "metadata": {
        "colab": {
          "base_uri": "https://localhost:8080/"
        },
        "id": "06P4bgIQVkit",
        "outputId": "a0c69e97-4c71-41bb-e6a8-b32b582893b2"
      },
      "outputs": [
        {
          "data": {
            "text/plain": [
              "PROP_ID                  0   \n",
              "PREFERENCE               0   \n",
              "PROPERTY_TYPE            0   \n",
              "DESCRIPTION              0   \n",
              "CITY_NAME                0   \n",
              "LOCALITY_NAME            0   \n",
              "GATED                    4047\n",
              "TRANSACT_TYPE            0   \n",
              "OWNTYPE                  0   \n",
              "BEDROOM_NUM              0   \n",
              "BATHROOM_NUM             0   \n",
              "BATHROOM_ATTACHED        3908\n",
              "BALCONY_NUM              200 \n",
              "BALCONY_ATTACHED         3908\n",
              "BUILTUP_SQFT             4659\n",
              "CARPET_SQFT              3932\n",
              "SUPERBUILTUP_SQFT        4659\n",
              "FURNISH                  900 \n",
              "FURNISHING_ATTRIBUTES    2509\n",
              "FACING                   2760\n",
              "FLOOR_NUM                2505\n",
              "TOTAL_FLOOR              66  \n",
              "FEATURES                 0   \n",
              "LATITUDE                 0   \n",
              "LONGITUDE                0   \n",
              "AVAILABILITY             0   \n",
              "SUB_AVAILABILITY         0   \n",
              "CORNER_PROPERTY          4890\n",
              "AVG_PRICE                0   \n",
              "PRICE_SQFT               0   \n",
              "AMENITIES                0   \n",
              "AVG_PRICE_CR             0   \n",
              "AREA_SQFT                85  \n",
              "dtype: int64"
            ]
          },
          "execution_count": 5,
          "metadata": {},
          "output_type": "execute_result"
        }
      ],
      "source": [
        "df.isnull().sum()"
      ]
    },
    {
      "cell_type": "code",
      "execution_count": null,
      "metadata": {
        "colab": {
          "base_uri": "https://localhost:8080/"
        },
        "id": "ObOTrclwbcZK",
        "outputId": "a4a31806-5c5d-421b-e7e6-c92357a63af8"
      },
      "outputs": [
        {
          "data": {
            "text/plain": [
              "Y    3394\n",
              "Name: GATED, dtype: int64"
            ]
          },
          "execution_count": 6,
          "metadata": {},
          "output_type": "execute_result"
        }
      ],
      "source": [
        "df[\"GATED\"].value_counts()"
      ]
    },
    {
      "cell_type": "code",
      "execution_count": null,
      "metadata": {
        "colab": {
          "base_uri": "https://localhost:8080/"
        },
        "id": "uyZ_K3s-enkk",
        "outputId": "901fbdda-f33c-4b50-af11-75364b078074"
      },
      "outputs": [
        {
          "data": {
            "text/plain": [
              "N    3533\n",
              "Name: BALCONY_ATTACHED, dtype: int64"
            ]
          },
          "execution_count": 7,
          "metadata": {},
          "output_type": "execute_result"
        }
      ],
      "source": [
        "df[\"BALCONY_ATTACHED\"].value_counts()"
      ]
    },
    {
      "cell_type": "code",
      "execution_count": null,
      "metadata": {
        "colab": {
          "base_uri": "https://localhost:8080/"
        },
        "id": "8vfT_6iderrr",
        "outputId": "fdc3a201-ca1c-4e43-bd13-4702c8204813"
      },
      "outputs": [
        {
          "data": {
            "text/plain": [
              "N    3533\n",
              "Name: BATHROOM_ATTACHED, dtype: int64"
            ]
          },
          "execution_count": 8,
          "metadata": {},
          "output_type": "execute_result"
        }
      ],
      "source": [
        "df[\"BATHROOM_ATTACHED\"].value_counts()"
      ]
    },
    {
      "cell_type": "code",
      "execution_count": null,
      "metadata": {
        "colab": {
          "base_uri": "https://localhost:8080/"
        },
        "id": "htkCRZIpevNj",
        "outputId": "324fcb58-3309-49ec-a7fd-b886f0dc7232"
      },
      "outputs": [
        {
          "data": {
            "text/plain": [
              "Y    2534\n",
              "N    17  \n",
              "Name: CORNER_PROPERTY, dtype: int64"
            ]
          },
          "execution_count": 9,
          "metadata": {},
          "output_type": "execute_result"
        }
      ],
      "source": [
        "df[\"CORNER_PROPERTY\"].value_counts()"
      ]
    },
    {
      "cell_type": "code",
      "execution_count": null,
      "metadata": {
        "id": "ba30N15SbFq5"
      },
      "outputs": [],
      "source": [
        "# drop balcony attached, bathroom attached, gated community and corner property"
      ]
    },
    {
      "cell_type": "code",
      "execution_count": null,
      "metadata": {
        "id": "pJZowJ7HclBR"
      },
      "outputs": [],
      "source": [
        "df.drop(columns = [\"PREFERENCE\", \"BALCONY_ATTACHED\", \"DESCRIPTION\", \"GATED\", \"CORNER_PROPERTY\", \"BATHROOM_ATTACHED\"], inplace = True)"
      ]
    },
    {
      "cell_type": "code",
      "execution_count": null,
      "metadata": {
        "colab": {
          "base_uri": "https://localhost:8080/"
        },
        "id": "PG239Qlub3ED",
        "outputId": "58680ce6-726f-434f-dcff-c3360477bbbc"
      },
      "outputs": [
        {
          "data": {
            "text/plain": [
              "PROP_ID                  0   \n",
              "PROPERTY_TYPE            0   \n",
              "DESCRIPTION              0   \n",
              "CITY_NAME                0   \n",
              "LOCALITY_NAME            0   \n",
              "TRANSACT_TYPE            0   \n",
              "OWNTYPE                  0   \n",
              "BEDROOM_NUM              0   \n",
              "BATHROOM_NUM             0   \n",
              "BALCONY_NUM              200 \n",
              "BUILTUP_SQFT             4659\n",
              "CARPET_SQFT              3932\n",
              "SUPERBUILTUP_SQFT        4659\n",
              "FURNISH                  900 \n",
              "FURNISHING_ATTRIBUTES    2509\n",
              "FACING                   2760\n",
              "FLOOR_NUM                2505\n",
              "TOTAL_FLOOR              66  \n",
              "FEATURES                 0   \n",
              "LATITUDE                 0   \n",
              "LONGITUDE                0   \n",
              "AVAILABILITY             0   \n",
              "SUB_AVAILABILITY         0   \n",
              "AVG_PRICE                0   \n",
              "PRICE_SQFT               0   \n",
              "AMENITIES                0   \n",
              "AVG_PRICE_CR             0   \n",
              "AREA_SQFT                85  \n",
              "dtype: int64"
            ]
          },
          "execution_count": 12,
          "metadata": {},
          "output_type": "execute_result"
        }
      ],
      "source": [
        "df.isnull().sum()"
      ]
    },
    {
      "cell_type": "markdown",
      "metadata": {
        "id": "3ONlyigpdKkQ"
      },
      "source": [
        "-- carpet area\n",
        "\n",
        "-- builtup area (carpet area + thickness of wall + balcony)\n",
        "\n",
        "-- superbuiltup area (also include any shared property)"
      ]
    },
    {
      "cell_type": "markdown",
      "metadata": {
        "id": "_HUwJQV37LWR"
      },
      "source": [
        "# PRICE"
      ]
    },
    {
      "cell_type": "code",
      "execution_count": null,
      "metadata": {
        "id": "jQzrgcuT7NUC"
      },
      "outputs": [],
      "source": [
        "index_to_delete = df[df[\"AVG_PRICE\"] == 0].index"
      ]
    },
    {
      "cell_type": "code",
      "execution_count": null,
      "metadata": {
        "id": "bdDCWUbH7nS5"
      },
      "outputs": [],
      "source": [
        "df.drop(index = index_to_delete, inplace = True)"
      ]
    },
    {
      "cell_type": "markdown",
      "metadata": {
        "id": "vAqpF526fQBI"
      },
      "source": [
        "## AREA\n",
        "\n",
        "\n"
      ]
    },
    {
      "cell_type": "markdown",
      "metadata": {
        "id": "pYIYZiEg7uKw"
      },
      "source": [
        "Creating a calculated area column for final model."
      ]
    },
    {
      "cell_type": "code",
      "execution_count": null,
      "metadata": {
        "id": "fv5oyJYs_77x"
      },
      "outputs": [],
      "source": [
        "def calculate_area_sqft(df_row):\n",
        "  if df_row[\"PROPERTY_TYPE\"] == \"house\":\n",
        "    # for houses we will make use of plot area and plot area information is in AREA_SQFT column\n",
        "    calculated_area = df_row[\"AREA_SQFT\"]\n",
        "  else:\n",
        "    calculated_area = df_row[\"BUILTUP_SQFT\"]\n",
        "  return calculated_area"
      ]
    },
    {
      "cell_type": "code",
      "execution_count": null,
      "metadata": {
        "id": "zw7mf-YZ7xuP"
      },
      "outputs": [],
      "source": [
        "df[\"CALCULATED_AREA_SQFT\"] = df.apply(calculate_area_sqft, axis  = 1)"
      ]
    },
    {
      "cell_type": "code",
      "execution_count": null,
      "metadata": {
        "colab": {
          "base_uri": "https://localhost:8080/"
        },
        "id": "CBJtzq9iCmbw",
        "outputId": "e26de8fa-de41-4234-dd8f-39bca8869132"
      },
      "outputs": [
        {
          "data": {
            "text/plain": [
              "0"
            ]
          },
          "execution_count": 107,
          "metadata": {},
          "output_type": "execute_result"
        }
      ],
      "source": [
        "df[df[\"PROPERTY_TYPE\"] == \"house\"][\"CALCULATED_AREA_SQFT\"].isnull().sum()"
      ]
    },
    {
      "cell_type": "markdown",
      "metadata": {
        "id": "8hkWMhNdC0wT"
      },
      "source": [
        "Calculation for builtup_sqft for flats only because we are considering plot area for houses which we have already filled in calculated_area column and there is no null values for plot area in houses."
      ]
    },
    {
      "cell_type": "code",
      "execution_count": null,
      "metadata": {
        "id": "Ho8PzphACJhb"
      },
      "outputs": [],
      "source": [
        "flat_df = df[df[\"PROPERTY_TYPE\"] == \"flat\"]"
      ]
    },
    {
      "cell_type": "code",
      "execution_count": null,
      "metadata": {
        "colab": {
          "base_uri": "https://localhost:8080/",
          "height": 332
        },
        "id": "i59emXH_Bb8s",
        "outputId": "e41ad3c9-f69b-47e2-a9ae-2a1b8bff8583"
      },
      "outputs": [
        {
          "data": {
            "text/plain": [
              "<Axes: xlabel='CALCULATED_AREA_SQFT', ylabel='SUPERBUILTUP_SQFT'>"
            ]
          },
          "execution_count": 109,
          "metadata": {},
          "output_type": "execute_result"
        },
        {
          "data": {
            "image/png": "[encoded data removed]",
            "text/plain": [
              "<Figure size 400x300 with 1 Axes>"
            ]
          },
          "metadata": {},
          "output_type": "display_data"
        }
      ],
      "source": [
        "plt.figure(figsize = (4,3))\n",
        "sns.scatterplot(data = flat_df, x = \"CALCULATED_AREA_SQFT\", y = \"SUPERBUILTUP_SQFT\")"
      ]
    },
    {
      "cell_type": "code",
      "execution_count": null,
      "metadata": {
        "colab": {
          "base_uri": "https://localhost:8080/",
          "height": 328
        },
        "id": "GM3ogdfxDTDV",
        "outputId": "a353fd5e-2394-4153-c529-623257384cb8"
      },
      "outputs": [
        {
          "data": {
            "text/plain": [
              "<Axes: xlabel='BUILTUP_SQFT', ylabel='CARPET_SQFT'>"
            ]
          },
          "execution_count": 110,
          "metadata": {},
          "output_type": "execute_result"
        },
        {
          "data": {
            "image/png": "[encoded data removed]",
            "text/plain": [
              "<Figure size 400x300 with 1 Axes>"
            ]
          },
          "metadata": {},
          "output_type": "display_data"
        }
      ],
      "source": [
        "plt.figure(figsize = (4,3))\n",
        "sns.scatterplot(data = flat_df, x = \"BUILTUP_SQFT\", y = \"CARPET_SQFT\")"
      ]
    },
    {
      "cell_type": "code",
      "execution_count": null,
      "metadata": {
        "id": "--_xuCYSDdn5"
      },
      "outputs": [],
      "source": [
        "# rows where all the areas are null\n",
        "flat_df[(flat_df[\"BUILTUP_SQFT\"].isnull()) & (flat_df[\"SUPERBUILTUP_SQFT\"].isnull()) & (flat_df[\"CARPET_SQFT\"].isnull())][0:20]"
      ]
    },
    {
      "cell_type": "code",
      "execution_count": null,
      "metadata": {
        "id": "MSRwg8XPEGJo"
      },
      "outputs": [],
      "source": [
        "# rows where all the areas are present\n",
        "all_present_df = flat_df[~((flat_df[\"BUILTUP_SQFT\"].isnull()) | (flat_df[\"SUPERBUILTUP_SQFT\"].isnull()) | (flat_df[\"CARPET_SQFT\"].isnull()))]"
      ]
    },
    {
      "cell_type": "code",
      "execution_count": null,
      "metadata": {
        "colab": {
          "base_uri": "https://localhost:8080/"
        },
        "id": "8ZZtk7vNEGMT",
        "outputId": "2c1e2be5-47ae-4157-8bdd-52c6e7ca0075"
      },
      "outputs": [
        {
          "data": {
            "text/plain": [
              "(1192, 28)"
            ]
          },
          "execution_count": 76,
          "metadata": {},
          "output_type": "execute_result"
        }
      ],
      "source": [
        "all_present_df.shape"
      ]
    },
    {
      "cell_type": "code",
      "execution_count": null,
      "metadata": {
        "id": "6ZmtUCcvEGOn"
      },
      "outputs": [],
      "source": [
        "super_to_builtup_ratio = (all_present_df[\"SUPERBUILTUP_SQFT\"]/all_present_df[\"BUILTUP_SQFT\"]).median()"
      ]
    },
    {
      "cell_type": "code",
      "execution_count": null,
      "metadata": {
        "id": "S321sg8-EGQ2"
      },
      "outputs": [],
      "source": [
        "carpet_to_builtup_ratio = (all_present_df[\"CARPET_SQFT\"]/all_present_df[\"BUILTUP_SQFT\"]).median()"
      ]
    },
    {
      "cell_type": "code",
      "execution_count": null,
      "metadata": {
        "colab": {
          "base_uri": "https://localhost:8080/"
        },
        "id": "xQLgrNV3EGUc",
        "outputId": "e042cdf0-7495-46cf-f114-c14faab291e0"
      },
      "outputs": [
        {
          "name": "stdout",
          "output_type": "stream",
          "text": [
            "1.0 0.9345621794570178\n"
          ]
        }
      ],
      "source": [
        "print(super_to_builtup_ratio, carpet_to_builtup_ratio)"
      ]
    },
    {
      "cell_type": "code",
      "execution_count": null,
      "metadata": {
        "id": "Jy7ChOoWFFB0"
      },
      "outputs": [],
      "source": [
        "# superbuiltup, carpet -> not null and builtup -> null\n",
        "sbc_df = flat_df[(~flat_df[\"SUPERBUILTUP_SQFT\"].isnull()) & (flat_df[\"BUILTUP_SQFT\"].isnull()) & (~flat_df[\"CARPET_SQFT\"].isnull())]"
      ]
    },
    {
      "cell_type": "code",
      "execution_count": null,
      "metadata": {
        "colab": {
          "base_uri": "https://localhost:8080/",
          "height": 73
        },
        "id": "x26usJnvFFEl",
        "outputId": "e4e0996e-1a51-48d1-b175-bc4ac9e65c44"
      },
      "outputs": [
        {
          "data": {
            "text/html": [
              "\n",
              "  <div id=\"df-3923edb3-90d9-4e0d-a49d-14d995e9baf3\" class=\"colab-df-container\">\n",
              "    <div>\n",
              "<style scoped>\n",
              "    .dataframe tbody tr th:only-of-type {\n",
              "        vertical-align: middle;\n",
              "    }\n",
              "\n",
              "    .dataframe tbody tr th {\n",
              "        vertical-align: top;\n",
              "    }\n",
              "\n",
              "    .dataframe thead th {\n",
              "        text-align: right;\n",
              "    }\n",
              "</style>\n",
              "<table border=\"1\" class=\"dataframe\">\n",
              "  <thead>\n",
              "    <tr style=\"text-align: right;\">\n",
              "      <th></th>\n",
              "      <th>PROP_ID</th>\n",
              "      <th>PROPERTY_TYPE</th>\n",
              "      <th>CITY_NAME</th>\n",
              "      <th>LOCALITY_NAME</th>\n",
              "      <th>TRANSACT_TYPE</th>\n",
              "      <th>OWNTYPE</th>\n",
              "      <th>BEDROOM_NUM</th>\n",
              "      <th>BATHROOM_NUM</th>\n",
              "      <th>BALCONY_NUM</th>\n",
              "      <th>BUILTUP_SQFT</th>\n",
              "      <th>CARPET_SQFT</th>\n",
              "      <th>SUPERBUILTUP_SQFT</th>\n",
              "      <th>FURNISH</th>\n",
              "      <th>FURNISHING_ATTRIBUTES</th>\n",
              "      <th>FACING</th>\n",
              "      <th>FLOOR_NUM</th>\n",
              "      <th>TOTAL_FLOOR</th>\n",
              "      <th>FEATURES</th>\n",
              "      <th>LATITUDE</th>\n",
              "      <th>LONGITUDE</th>\n",
              "      <th>AVAILABILITY</th>\n",
              "      <th>SUB_AVAILABILITY</th>\n",
              "      <th>AVG_PRICE</th>\n",
              "      <th>PRICE_SQFT</th>\n",
              "      <th>AMENITIES</th>\n",
              "      <th>AVG_PRICE_CR</th>\n",
              "      <th>AREA_SQFT</th>\n",
              "      <th>CALCULATED_AREA_SQFT</th>\n",
              "    </tr>\n",
              "  </thead>\n",
              "  <tbody>\n",
              "  </tbody>\n",
              "</table>\n",
              "</div>\n",
              "    <div class=\"colab-df-buttons\">\n",
              "\n",
              "  <div class=\"colab-df-container\">\n",
              "    <button class=\"colab-df-convert\" onclick=\"convertToInteractive('df-3923edb3-90d9-4e0d-a49d-14d995e9baf3')\"\n",
              "            title=\"Convert this dataframe to an interactive table.\"\n",
              "            style=\"display:none;\">\n",
              "\n",
              "  <svg xmlns=\"http://www.w3.org/2000/svg\" height=\"24px\" viewBox=\"0 -960 960 960\">\n",
              "    <path d=\"M120-120v-720h720v720H120Zm60-500h600v-160H180v160Zm220 220h160v-160H400v160Zm0 220h160v-160H400v160ZM180-400h160v-160H180v160Zm440 0h160v-160H620v160ZM180-180h160v-160H180v160Zm440 0h160v-160H620v160Z\"/>\n",
              "  </svg>\n",
              "    </button>\n",
              "\n",
              "  <style>\n",
              "    .colab-df-container {\n",
              "      display:flex;\n",
              "      gap: 12px;\n",
              "    }\n",
              "\n",
              "    .colab-df-convert {\n",
              "      background-color: #E8F0FE;\n",
              "      border: none;\n",
              "      border-radius: 50%;\n",
              "      cursor: pointer;\n",
              "      display: none;\n",
              "      fill: #1967D2;\n",
              "      height: 32px;\n",
              "      padding: 0 0 0 0;\n",
              "      width: 32px;\n",
              "    }\n",
              "\n",
              "    .colab-df-convert:hover {\n",
              "      background-color: #E2EBFA;\n",
              "      box-shadow: 0px 1px 2px rgba(60, 64, 67, 0.3), 0px 1px 3px 1px rgba(60, 64, 67, 0.15);\n",
              "      fill: #174EA6;\n",
              "    }\n",
              "\n",
              "    .colab-df-buttons div {\n",
              "      margin-bottom: 4px;\n",
              "    }\n",
              "\n",
              "    [theme=dark] .colab-df-convert {\n",
              "      background-color: #3B4455;\n",
              "      fill: #D2E3FC;\n",
              "    }\n",
              "\n",
              "    [theme=dark] .colab-df-convert:hover {\n",
              "      background-color: #434B5C;\n",
              "      box-shadow: 0px 1px 3px 1px rgba(0, 0, 0, 0.15);\n",
              "      filter: drop-shadow(0px 1px 2px rgba(0, 0, 0, 0.3));\n",
              "      fill: #FFFFFF;\n",
              "    }\n",
              "  </style>\n",
              "\n",
              "    <script>\n",
              "      const buttonEl =\n",
              "        document.querySelector('#df-3923edb3-90d9-4e0d-a49d-14d995e9baf3 button.colab-df-convert');\n",
              "      buttonEl.style.display =\n",
              "        google.colab.kernel.accessAllowed ? 'block' : 'none';\n",
              "\n",
              "      async function convertToInteractive(key) {\n",
              "        const element = document.querySelector('#df-3923edb3-90d9-4e0d-a49d-14d995e9baf3');\n",
              "        const dataTable =\n",
              "          await google.colab.kernel.invokeFunction('convertToInteractive',\n",
              "                                                    [key], {});\n",
              "        if (!dataTable) return;\n",
              "\n",
              "        const docLinkHtml = 'Like what you see? Visit the ' +\n",
              "          '<a target=\"_blank\" href=https://colab.research.google.com/notebooks/data_table.ipynb>data table notebook</a>'\n",
              "          + ' to learn more about interactive tables.';\n",
              "        element.innerHTML = '';\n",
              "        dataTable['output_type'] = 'display_data';\n",
              "        await google.colab.output.renderOutput(dataTable, element);\n",
              "        const docLink = document.createElement('div');\n",
              "        docLink.innerHTML = docLinkHtml;\n",
              "        element.appendChild(docLink);\n",
              "      }\n",
              "    </script>\n",
              "  </div>\n",
              "\n",
              "    </div>\n",
              "  </div>\n"
            ],
            "text/plain": [
              "Empty DataFrame\n",
              "Columns: [PROP_ID, PROPERTY_TYPE, CITY_NAME, LOCALITY_NAME, TRANSACT_TYPE, OWNTYPE, BEDROOM_NUM, BATHROOM_NUM, BALCONY_NUM, BUILTUP_SQFT, CARPET_SQFT, SUPERBUILTUP_SQFT, FURNISH, FURNISHING_ATTRIBUTES, FACING, FLOOR_NUM, TOTAL_FLOOR, FEATURES, LATITUDE, LONGITUDE, AVAILABILITY, SUB_AVAILABILITY, AVG_PRICE, PRICE_SQFT, AMENITIES, AVG_PRICE_CR, AREA_SQFT, CALCULATED_AREA_SQFT]\n",
              "Index: []"
            ]
          },
          "execution_count": 81,
          "metadata": {},
          "output_type": "execute_result"
        }
      ],
      "source": [
        "sbc_df.head()"
      ]
    },
    {
      "cell_type": "code",
      "execution_count": null,
      "metadata": {
        "id": "eGfRAdhYFFG-"
      },
      "outputs": [],
      "source": [
        "# superbuiltup not null,\n",
        "# carpet, builtup -> null\n",
        "sb_df = flat_df[(~flat_df[\"SUPERBUILTUP_SQFT\"].isnull()) & (flat_df[\"BUILTUP_SQFT\"].isnull()) & (flat_df[\"CARPET_SQFT\"].isnull())]"
      ]
    },
    {
      "cell_type": "code",
      "execution_count": null,
      "metadata": {
        "colab": {
          "base_uri": "https://localhost:8080/",
          "height": 73
        },
        "id": "oCbDfI46FFKS",
        "outputId": "90b2634e-da1a-4133-dee9-d306c9e2c86a"
      },
      "outputs": [
        {
          "data": {
            "text/html": [
              "\n",
              "  <div id=\"df-5b8c1c94-fe5b-44d9-b9c0-c08c9493e17a\" class=\"colab-df-container\">\n",
              "    <div>\n",
              "<style scoped>\n",
              "    .dataframe tbody tr th:only-of-type {\n",
              "        vertical-align: middle;\n",
              "    }\n",
              "\n",
              "    .dataframe tbody tr th {\n",
              "        vertical-align: top;\n",
              "    }\n",
              "\n",
              "    .dataframe thead th {\n",
              "        text-align: right;\n",
              "    }\n",
              "</style>\n",
              "<table border=\"1\" class=\"dataframe\">\n",
              "  <thead>\n",
              "    <tr style=\"text-align: right;\">\n",
              "      <th></th>\n",
              "      <th>PROP_ID</th>\n",
              "      <th>PROPERTY_TYPE</th>\n",
              "      <th>CITY_NAME</th>\n",
              "      <th>LOCALITY_NAME</th>\n",
              "      <th>TRANSACT_TYPE</th>\n",
              "      <th>OWNTYPE</th>\n",
              "      <th>BEDROOM_NUM</th>\n",
              "      <th>BATHROOM_NUM</th>\n",
              "      <th>BALCONY_NUM</th>\n",
              "      <th>BUILTUP_SQFT</th>\n",
              "      <th>CARPET_SQFT</th>\n",
              "      <th>SUPERBUILTUP_SQFT</th>\n",
              "      <th>FURNISH</th>\n",
              "      <th>FURNISHING_ATTRIBUTES</th>\n",
              "      <th>FACING</th>\n",
              "      <th>FLOOR_NUM</th>\n",
              "      <th>TOTAL_FLOOR</th>\n",
              "      <th>FEATURES</th>\n",
              "      <th>LATITUDE</th>\n",
              "      <th>LONGITUDE</th>\n",
              "      <th>AVAILABILITY</th>\n",
              "      <th>SUB_AVAILABILITY</th>\n",
              "      <th>AVG_PRICE</th>\n",
              "      <th>PRICE_SQFT</th>\n",
              "      <th>AMENITIES</th>\n",
              "      <th>AVG_PRICE_CR</th>\n",
              "      <th>AREA_SQFT</th>\n",
              "      <th>CALCULATED_AREA_SQFT</th>\n",
              "    </tr>\n",
              "  </thead>\n",
              "  <tbody>\n",
              "  </tbody>\n",
              "</table>\n",
              "</div>\n",
              "    <div class=\"colab-df-buttons\">\n",
              "\n",
              "  <div class=\"colab-df-container\">\n",
              "    <button class=\"colab-df-convert\" onclick=\"convertToInteractive('df-5b8c1c94-fe5b-44d9-b9c0-c08c9493e17a')\"\n",
              "            title=\"Convert this dataframe to an interactive table.\"\n",
              "            style=\"display:none;\">\n",
              "\n",
              "  <svg xmlns=\"http://www.w3.org/2000/svg\" height=\"24px\" viewBox=\"0 -960 960 960\">\n",
              "    <path d=\"M120-120v-720h720v720H120Zm60-500h600v-160H180v160Zm220 220h160v-160H400v160Zm0 220h160v-160H400v160ZM180-400h160v-160H180v160Zm440 0h160v-160H620v160ZM180-180h160v-160H180v160Zm440 0h160v-160H620v160Z\"/>\n",
              "  </svg>\n",
              "    </button>\n",
              "\n",
              "  <style>\n",
              "    .colab-df-container {\n",
              "      display:flex;\n",
              "      gap: 12px;\n",
              "    }\n",
              "\n",
              "    .colab-df-convert {\n",
              "      background-color: #E8F0FE;\n",
              "      border: none;\n",
              "      border-radius: 50%;\n",
              "      cursor: pointer;\n",
              "      display: none;\n",
              "      fill: #1967D2;\n",
              "      height: 32px;\n",
              "      padding: 0 0 0 0;\n",
              "      width: 32px;\n",
              "    }\n",
              "\n",
              "    .colab-df-convert:hover {\n",
              "      background-color: #E2EBFA;\n",
              "      box-shadow: 0px 1px 2px rgba(60, 64, 67, 0.3), 0px 1px 3px 1px rgba(60, 64, 67, 0.15);\n",
              "      fill: #174EA6;\n",
              "    }\n",
              "\n",
              "    .colab-df-buttons div {\n",
              "      margin-bottom: 4px;\n",
              "    }\n",
              "\n",
              "    [theme=dark] .colab-df-convert {\n",
              "      background-color: #3B4455;\n",
              "      fill: #D2E3FC;\n",
              "    }\n",
              "\n",
              "    [theme=dark] .colab-df-convert:hover {\n",
              "      background-color: #434B5C;\n",
              "      box-shadow: 0px 1px 3px 1px rgba(0, 0, 0, 0.15);\n",
              "      filter: drop-shadow(0px 1px 2px rgba(0, 0, 0, 0.3));\n",
              "      fill: #FFFFFF;\n",
              "    }\n",
              "  </style>\n",
              "\n",
              "    <script>\n",
              "      const buttonEl =\n",
              "        document.querySelector('#df-5b8c1c94-fe5b-44d9-b9c0-c08c9493e17a button.colab-df-convert');\n",
              "      buttonEl.style.display =\n",
              "        google.colab.kernel.accessAllowed ? 'block' : 'none';\n",
              "\n",
              "      async function convertToInteractive(key) {\n",
              "        const element = document.querySelector('#df-5b8c1c94-fe5b-44d9-b9c0-c08c9493e17a');\n",
              "        const dataTable =\n",
              "          await google.colab.kernel.invokeFunction('convertToInteractive',\n",
              "                                                    [key], {});\n",
              "        if (!dataTable) return;\n",
              "\n",
              "        const docLinkHtml = 'Like what you see? Visit the ' +\n",
              "          '<a target=\"_blank\" href=https://colab.research.google.com/notebooks/data_table.ipynb>data table notebook</a>'\n",
              "          + ' to learn more about interactive tables.';\n",
              "        element.innerHTML = '';\n",
              "        dataTable['output_type'] = 'display_data';\n",
              "        await google.colab.output.renderOutput(dataTable, element);\n",
              "        const docLink = document.createElement('div');\n",
              "        docLink.innerHTML = docLinkHtml;\n",
              "        element.appendChild(docLink);\n",
              "      }\n",
              "    </script>\n",
              "  </div>\n",
              "\n",
              "    </div>\n",
              "  </div>\n"
            ],
            "text/plain": [
              "Empty DataFrame\n",
              "Columns: [PROP_ID, PROPERTY_TYPE, CITY_NAME, LOCALITY_NAME, TRANSACT_TYPE, OWNTYPE, BEDROOM_NUM, BATHROOM_NUM, BALCONY_NUM, BUILTUP_SQFT, CARPET_SQFT, SUPERBUILTUP_SQFT, FURNISH, FURNISHING_ATTRIBUTES, FACING, FLOOR_NUM, TOTAL_FLOOR, FEATURES, LATITUDE, LONGITUDE, AVAILABILITY, SUB_AVAILABILITY, AVG_PRICE, PRICE_SQFT, AMENITIES, AVG_PRICE_CR, AREA_SQFT, CALCULATED_AREA_SQFT]\n",
              "Index: []"
            ]
          },
          "execution_count": 83,
          "metadata": {},
          "output_type": "execute_result"
        }
      ],
      "source": [
        "sb_df"
      ]
    },
    {
      "cell_type": "code",
      "execution_count": null,
      "metadata": {
        "id": "mbNGpTRYFFNW"
      },
      "outputs": [],
      "source": [
        "# carpet not null\n",
        "# superbuiltup and builtup is null\n",
        "c_df = flat_df[(flat_df[\"SUPERBUILTUP_SQFT\"].isnull()) & (flat_df[\"BUILTUP_SQFT\"].isnull()) & ~(flat_df[\"CARPET_SQFT\"].isnull())]"
      ]
    },
    {
      "cell_type": "code",
      "execution_count": null,
      "metadata": {
        "colab": {
          "base_uri": "https://localhost:8080/"
        },
        "id": "7E3EwCOKFnpo",
        "outputId": "d9a92d5b-d3d3-4599-d3e5-cbca49e98014"
      },
      "outputs": [
        {
          "data": {
            "text/plain": [
              "(1948, 28)"
            ]
          },
          "execution_count": 85,
          "metadata": {},
          "output_type": "execute_result"
        }
      ],
      "source": [
        "c_df.shape"
      ]
    },
    {
      "cell_type": "code",
      "execution_count": null,
      "metadata": {
        "colab": {
          "base_uri": "https://localhost:8080/"
        },
        "id": "lKSWwztDFnsN",
        "outputId": "edab0d7a-95d7-47e9-9311-121188a71325"
      },
      "outputs": [
        {
          "name": "stderr",
          "output_type": "stream",
          "text": [
            "<ipython-input-119-dd934dae7d92>:1: SettingWithCopyWarning: \n",
            "A value is trying to be set on a copy of a slice from a DataFrame\n",
            "\n",
            "See the caveats in the documentation: https://pandas.pydata.org/pandas-docs/stable/user_guide/indexing.html#returning-a-view-versus-a-copy\n",
            "  c_df[\"BUILTUP_SQFT\"].fillna(round(c_df[\"CARPET_SQFT\"]/0.9), inplace = True)\n"
          ]
        }
      ],
      "source": [
        "c_df[\"BUILTUP_SQFT\"].fillna(round(c_df[\"CARPET_SQFT\"]/0.9), inplace = True)"
      ]
    },
    {
      "cell_type": "code",
      "execution_count": null,
      "metadata": {
        "id": "7Gb3AHPPGp66"
      },
      "outputs": [],
      "source": [
        "prop_id = c_df[\"PROP_ID\"].values"
      ]
    },
    {
      "cell_type": "code",
      "execution_count": null,
      "metadata": {
        "id": "T7WuyB5tG7L7"
      },
      "outputs": [],
      "source": [
        "df.loc[df[\"PROP_ID\"].isin(prop_id), \"CALCULATED_AREA_SQFT\"] = c_df[\"BUILTUP_SQFT\"]"
      ]
    },
    {
      "cell_type": "code",
      "execution_count": null,
      "metadata": {
        "colab": {
          "base_uri": "https://localhost:8080/",
          "height": 313
        },
        "id": "AYBE4GLvH8S8",
        "outputId": "e4d56e9b-e746-43d3-9082-12fb9dd5b911"
      },
      "outputs": [
        {
          "data": {
            "text/html": [
              "\n",
              "  <div id=\"df-5fd78f7e-3cf8-4a08-b4cf-23945aa80825\" class=\"colab-df-container\">\n",
              "    <div>\n",
              "<style scoped>\n",
              "    .dataframe tbody tr th:only-of-type {\n",
              "        vertical-align: middle;\n",
              "    }\n",
              "\n",
              "    .dataframe tbody tr th {\n",
              "        vertical-align: top;\n",
              "    }\n",
              "\n",
              "    .dataframe thead th {\n",
              "        text-align: right;\n",
              "    }\n",
              "</style>\n",
              "<table border=\"1\" class=\"dataframe\">\n",
              "  <thead>\n",
              "    <tr style=\"text-align: right;\">\n",
              "      <th></th>\n",
              "      <th>PROP_ID</th>\n",
              "      <th>PROPERTY_TYPE</th>\n",
              "      <th>CITY_NAME</th>\n",
              "      <th>LOCALITY_NAME</th>\n",
              "      <th>TRANSACT_TYPE</th>\n",
              "      <th>OWNTYPE</th>\n",
              "      <th>BEDROOM_NUM</th>\n",
              "      <th>BATHROOM_NUM</th>\n",
              "      <th>BALCONY_NUM</th>\n",
              "      <th>BUILTUP_SQFT</th>\n",
              "      <th>CARPET_SQFT</th>\n",
              "      <th>SUPERBUILTUP_SQFT</th>\n",
              "      <th>FURNISH</th>\n",
              "      <th>FURNISHING_ATTRIBUTES</th>\n",
              "      <th>FACING</th>\n",
              "      <th>FLOOR_NUM</th>\n",
              "      <th>TOTAL_FLOOR</th>\n",
              "      <th>FEATURES</th>\n",
              "      <th>LATITUDE</th>\n",
              "      <th>LONGITUDE</th>\n",
              "      <th>AVAILABILITY</th>\n",
              "      <th>SUB_AVAILABILITY</th>\n",
              "      <th>AVG_PRICE</th>\n",
              "      <th>PRICE_SQFT</th>\n",
              "      <th>AMENITIES</th>\n",
              "      <th>AVG_PRICE_CR</th>\n",
              "      <th>AREA_SQFT</th>\n",
              "      <th>CALCULATED_AREA_SQFT</th>\n",
              "    </tr>\n",
              "  </thead>\n",
              "  <tbody>\n",
              "    <tr>\n",
              "      <th>0</th>\n",
              "      <td>G71293060</td>\n",
              "      <td>flat</td>\n",
              "      <td>Central Delhi</td>\n",
              "      <td>Karol Bagh</td>\n",
              "      <td>New Booking</td>\n",
              "      <td>Freehold</td>\n",
              "      <td>6.0</td>\n",
              "      <td>0</td>\n",
              "      <td>NaN</td>\n",
              "      <td>NaN</td>\n",
              "      <td>3173.0</td>\n",
              "      <td>NaN</td>\n",
              "      <td>NaN</td>\n",
              "      <td>NaN</td>\n",
              "      <td>NaN</td>\n",
              "      <td>1.0</td>\n",
              "      <td>32.0</td>\n",
              "      <td>N</td>\n",
              "      <td>28.657811</td>\n",
              "      <td>77.19466</td>\n",
              "      <td>Under Construction</td>\n",
              "      <td>Not Mentioned</td>\n",
              "      <td>103000000</td>\n",
              "      <td>32461</td>\n",
              "      <td>[]</td>\n",
              "      <td>10.30</td>\n",
              "      <td>3173.038415</td>\n",
              "      <td>3526.0</td>\n",
              "    </tr>\n",
              "    <tr>\n",
              "      <th>1</th>\n",
              "      <td>Y71293054</td>\n",
              "      <td>flat</td>\n",
              "      <td>Central Delhi</td>\n",
              "      <td>Karol Bagh</td>\n",
              "      <td>New Booking</td>\n",
              "      <td>Freehold</td>\n",
              "      <td>5.0</td>\n",
              "      <td>6</td>\n",
              "      <td>NaN</td>\n",
              "      <td>NaN</td>\n",
              "      <td>NaN</td>\n",
              "      <td>NaN</td>\n",
              "      <td>NaN</td>\n",
              "      <td>NaN</td>\n",
              "      <td>NaN</td>\n",
              "      <td>1.0</td>\n",
              "      <td>32.0</td>\n",
              "      <td>N</td>\n",
              "      <td>28.657811</td>\n",
              "      <td>77.19466</td>\n",
              "      <td>Under Construction</td>\n",
              "      <td>Not Mentioned</td>\n",
              "      <td>102983146</td>\n",
              "      <td>32461</td>\n",
              "      <td>[]</td>\n",
              "      <td>10.30</td>\n",
              "      <td>3172.519208</td>\n",
              "      <td>NaN</td>\n",
              "    </tr>\n",
              "    <tr>\n",
              "      <th>2</th>\n",
              "      <td>D71293050</td>\n",
              "      <td>flat</td>\n",
              "      <td>Central Delhi</td>\n",
              "      <td>Karol Bagh</td>\n",
              "      <td>New Booking</td>\n",
              "      <td>Freehold</td>\n",
              "      <td>4.0</td>\n",
              "      <td>4</td>\n",
              "      <td>NaN</td>\n",
              "      <td>NaN</td>\n",
              "      <td>NaN</td>\n",
              "      <td>NaN</td>\n",
              "      <td>NaN</td>\n",
              "      <td>NaN</td>\n",
              "      <td>NaN</td>\n",
              "      <td>1.0</td>\n",
              "      <td>32.0</td>\n",
              "      <td>N</td>\n",
              "      <td>28.657811</td>\n",
              "      <td>77.19466</td>\n",
              "      <td>Under Construction</td>\n",
              "      <td>Not Mentioned</td>\n",
              "      <td>62362438</td>\n",
              "      <td>33233</td>\n",
              "      <td>[]</td>\n",
              "      <td>6.24</td>\n",
              "      <td>1876.521470</td>\n",
              "      <td>NaN</td>\n",
              "    </tr>\n",
              "    <tr>\n",
              "      <th>3</th>\n",
              "      <td>B71293046</td>\n",
              "      <td>flat</td>\n",
              "      <td>Central Delhi</td>\n",
              "      <td>Karol Bagh</td>\n",
              "      <td>New Booking</td>\n",
              "      <td>Freehold</td>\n",
              "      <td>3.0</td>\n",
              "      <td>3</td>\n",
              "      <td>NaN</td>\n",
              "      <td>NaN</td>\n",
              "      <td>NaN</td>\n",
              "      <td>NaN</td>\n",
              "      <td>NaN</td>\n",
              "      <td>NaN</td>\n",
              "      <td>NaN</td>\n",
              "      <td>1.0</td>\n",
              "      <td>32.0</td>\n",
              "      <td>N</td>\n",
              "      <td>28.657811</td>\n",
              "      <td>77.19466</td>\n",
              "      <td>Under Construction</td>\n",
              "      <td>Not Mentioned</td>\n",
              "      <td>30500000</td>\n",
              "      <td>30214</td>\n",
              "      <td>[]</td>\n",
              "      <td>3.05</td>\n",
              "      <td>1009.465811</td>\n",
              "      <td>NaN</td>\n",
              "    </tr>\n",
              "    <tr>\n",
              "      <th>4</th>\n",
              "      <td>A71293042</td>\n",
              "      <td>flat</td>\n",
              "      <td>Central Delhi</td>\n",
              "      <td>Karol Bagh</td>\n",
              "      <td>New Booking</td>\n",
              "      <td>Freehold</td>\n",
              "      <td>2.0</td>\n",
              "      <td>2</td>\n",
              "      <td>NaN</td>\n",
              "      <td>NaN</td>\n",
              "      <td>741.0</td>\n",
              "      <td>NaN</td>\n",
              "      <td>NaN</td>\n",
              "      <td>NaN</td>\n",
              "      <td>NaN</td>\n",
              "      <td>1.0</td>\n",
              "      <td>32.0</td>\n",
              "      <td>N</td>\n",
              "      <td>28.657811</td>\n",
              "      <td>77.19466</td>\n",
              "      <td>Under Construction</td>\n",
              "      <td>Not Mentioned</td>\n",
              "      <td>19500156</td>\n",
              "      <td>26316</td>\n",
              "      <td>[]</td>\n",
              "      <td>1.95</td>\n",
              "      <td>741.000000</td>\n",
              "      <td>823.0</td>\n",
              "    </tr>\n",
              "  </tbody>\n",
              "</table>\n",
              "</div>\n",
              "    <div class=\"colab-df-buttons\">\n",
              "\n",
              "  <div class=\"colab-df-container\">\n",
              "    <button class=\"colab-df-convert\" onclick=\"convertToInteractive('df-5fd78f7e-3cf8-4a08-b4cf-23945aa80825')\"\n",
              "            title=\"Convert this dataframe to an interactive table.\"\n",
              "            style=\"display:none;\">\n",
              "\n",
              "  <svg xmlns=\"http://www.w3.org/2000/svg\" height=\"24px\" viewBox=\"0 -960 960 960\">\n",
              "    <path d=\"M120-120v-720h720v720H120Zm60-500h600v-160H180v160Zm220 220h160v-160H400v160Zm0 220h160v-160H400v160ZM180-400h160v-160H180v160Zm440 0h160v-160H620v160ZM180-180h160v-160H180v160Zm440 0h160v-160H620v160Z\"/>\n",
              "  </svg>\n",
              "    </button>\n",
              "\n",
              "  <style>\n",
              "    .colab-df-container {\n",
              "      display:flex;\n",
              "      gap: 12px;\n",
              "    }\n",
              "\n",
              "    .colab-df-convert {\n",
              "      background-color: #E8F0FE;\n",
              "      border: none;\n",
              "      border-radius: 50%;\n",
              "      cursor: pointer;\n",
              "      display: none;\n",
              "      fill: #1967D2;\n",
              "      height: 32px;\n",
              "      padding: 0 0 0 0;\n",
              "      width: 32px;\n",
              "    }\n",
              "\n",
              "    .colab-df-convert:hover {\n",
              "      background-color: #E2EBFA;\n",
              "      box-shadow: 0px 1px 2px rgba(60, 64, 67, 0.3), 0px 1px 3px 1px rgba(60, 64, 67, 0.15);\n",
              "      fill: #174EA6;\n",
              "    }\n",
              "\n",
              "    .colab-df-buttons div {\n",
              "      margin-bottom: 4px;\n",
              "    }\n",
              "\n",
              "    [theme=dark] .colab-df-convert {\n",
              "      background-color: #3B4455;\n",
              "      fill: #D2E3FC;\n",
              "    }\n",
              "\n",
              "    [theme=dark] .colab-df-convert:hover {\n",
              "      background-color: #434B5C;\n",
              "      box-shadow: 0px 1px 3px 1px rgba(0, 0, 0, 0.15);\n",
              "      filter: drop-shadow(0px 1px 2px rgba(0, 0, 0, 0.3));\n",
              "      fill: #FFFFFF;\n",
              "    }\n",
              "  </style>\n",
              "\n",
              "    <script>\n",
              "      const buttonEl =\n",
              "        document.querySelector('#df-5fd78f7e-3cf8-4a08-b4cf-23945aa80825 button.colab-df-convert');\n",
              "      buttonEl.style.display =\n",
              "        google.colab.kernel.accessAllowed ? 'block' : 'none';\n",
              "\n",
              "      async function convertToInteractive(key) {\n",
              "        const element = document.querySelector('#df-5fd78f7e-3cf8-4a08-b4cf-23945aa80825');\n",
              "        const dataTable =\n",
              "          await google.colab.kernel.invokeFunction('convertToInteractive',\n",
              "                                                    [key], {});\n",
              "        if (!dataTable) return;\n",
              "\n",
              "        const docLinkHtml = 'Like what you see? Visit the ' +\n",
              "          '<a target=\"_blank\" href=https://colab.research.google.com/notebooks/data_table.ipynb>data table notebook</a>'\n",
              "          + ' to learn more about interactive tables.';\n",
              "        element.innerHTML = '';\n",
              "        dataTable['output_type'] = 'display_data';\n",
              "        await google.colab.output.renderOutput(dataTable, element);\n",
              "        const docLink = document.createElement('div');\n",
              "        docLink.innerHTML = docLinkHtml;\n",
              "        element.appendChild(docLink);\n",
              "      }\n",
              "    </script>\n",
              "  </div>\n",
              "\n",
              "\n",
              "<div id=\"df-315a7636-e12a-497f-94a2-d79a70f4168e\">\n",
              "  <button class=\"colab-df-quickchart\" onclick=\"quickchart('df-315a7636-e12a-497f-94a2-d79a70f4168e')\"\n",
              "            title=\"Suggest charts.\"\n",
              "            style=\"display:none;\">\n",
              "\n",
              "<svg xmlns=\"http://www.w3.org/2000/svg\" height=\"24px\"viewBox=\"0 0 24 24\"\n",
              "     width=\"24px\">\n",
              "    <g>\n",
              "        <path d=\"M19 3H5c-1.1 0-2 .9-2 2v14c0 1.1.9 2 2 2h14c1.1 0 2-.9 2-2V5c0-1.1-.9-2-2-2zM9 17H7v-7h2v7zm4 0h-2V7h2v10zm4 0h-2v-4h2v4z\"/>\n",
              "    </g>\n",
              "</svg>\n",
              "  </button>\n",
              "\n",
              "<style>\n",
              "  .colab-df-quickchart {\n",
              "      --bg-color: #E8F0FE;\n",
              "      --fill-color: #1967D2;\n",
              "      --hover-bg-color: #E2EBFA;\n",
              "      --hover-fill-color: #174EA6;\n",
              "      --disabled-fill-color: #AAA;\n",
              "      --disabled-bg-color: #DDD;\n",
              "  }\n",
              "\n",
              "  [theme=dark] .colab-df-quickchart {\n",
              "      --bg-color: #3B4455;\n",
              "      --fill-color: #D2E3FC;\n",
              "      --hover-bg-color: #434B5C;\n",
              "      --hover-fill-color: #FFFFFF;\n",
              "      --disabled-bg-color: #3B4455;\n",
              "      --disabled-fill-color: #666;\n",
              "  }\n",
              "\n",
              "  .colab-df-quickchart {\n",
              "    background-color: var(--bg-color);\n",
              "    border: none;\n",
              "    border-radius: 50%;\n",
              "    cursor: pointer;\n",
              "    display: none;\n",
              "    fill: var(--fill-color);\n",
              "    height: 32px;\n",
              "    padding: 0;\n",
              "    width: 32px;\n",
              "  }\n",
              "\n",
              "  .colab-df-quickchart:hover {\n",
              "    background-color: var(--hover-bg-color);\n",
              "    box-shadow: 0 1px 2px rgba(60, 64, 67, 0.3), 0 1px 3px 1px rgba(60, 64, 67, 0.15);\n",
              "    fill: var(--button-hover-fill-color);\n",
              "  }\n",
              "\n",
              "  .colab-df-quickchart-complete:disabled,\n",
              "  .colab-df-quickchart-complete:disabled:hover {\n",
              "    background-color: var(--disabled-bg-color);\n",
              "    fill: var(--disabled-fill-color);\n",
              "    box-shadow: none;\n",
              "  }\n",
              "\n",
              "  .colab-df-spinner {\n",
              "    border: 2px solid var(--fill-color);\n",
              "    border-color: transparent;\n",
              "    border-bottom-color: var(--fill-color);\n",
              "    animation:\n",
              "      spin 1s steps(1) infinite;\n",
              "  }\n",
              "\n",
              "  @keyframes spin {\n",
              "    0% {\n",
              "      border-color: transparent;\n",
              "      border-bottom-color: var(--fill-color);\n",
              "      border-left-color: var(--fill-color);\n",
              "    }\n",
              "    20% {\n",
              "      border-color: transparent;\n",
              "      border-left-color: var(--fill-color);\n",
              "      border-top-color: var(--fill-color);\n",
              "    }\n",
              "    30% {\n",
              "      border-color: transparent;\n",
              "      border-left-color: var(--fill-color);\n",
              "      border-top-color: var(--fill-color);\n",
              "      border-right-color: var(--fill-color);\n",
              "    }\n",
              "    40% {\n",
              "      border-color: transparent;\n",
              "      border-right-color: var(--fill-color);\n",
              "      border-top-color: var(--fill-color);\n",
              "    }\n",
              "    60% {\n",
              "      border-color: transparent;\n",
              "      border-right-color: var(--fill-color);\n",
              "    }\n",
              "    80% {\n",
              "      border-color: transparent;\n",
              "      border-right-color: var(--fill-color);\n",
              "      border-bottom-color: var(--fill-color);\n",
              "    }\n",
              "    90% {\n",
              "      border-color: transparent;\n",
              "      border-bottom-color: var(--fill-color);\n",
              "    }\n",
              "  }\n",
              "</style>\n",
              "\n",
              "  <script>\n",
              "    async function quickchart(key) {\n",
              "      const quickchartButtonEl =\n",
              "        document.querySelector('#' + key + ' button');\n",
              "      quickchartButtonEl.disabled = true;  // To prevent multiple clicks.\n",
              "      quickchartButtonEl.classList.add('colab-df-spinner');\n",
              "      try {\n",
              "        const charts = await google.colab.kernel.invokeFunction(\n",
              "            'suggestCharts', [key], {});\n",
              "      } catch (error) {\n",
              "        console.error('Error during call to suggestCharts:', error);\n",
              "      }\n",
              "      quickchartButtonEl.classList.remove('colab-df-spinner');\n",
              "      quickchartButtonEl.classList.add('colab-df-quickchart-complete');\n",
              "    }\n",
              "    (() => {\n",
              "      let quickchartButtonEl =\n",
              "        document.querySelector('#df-315a7636-e12a-497f-94a2-d79a70f4168e button');\n",
              "      quickchartButtonEl.style.display =\n",
              "        google.colab.kernel.accessAllowed ? 'block' : 'none';\n",
              "    })();\n",
              "  </script>\n",
              "</div>\n",
              "    </div>\n",
              "  </div>\n"
            ],
            "text/plain": [
              "     PROP_ID PROPERTY_TYPE      CITY_NAME LOCALITY_NAME TRANSACT_TYPE  \\\n",
              "0  G71293060  flat          Central Delhi  Karol Bagh    New Booking    \n",
              "1  Y71293054  flat          Central Delhi  Karol Bagh    New Booking    \n",
              "2  D71293050  flat          Central Delhi  Karol Bagh    New Booking    \n",
              "3  B71293046  flat          Central Delhi  Karol Bagh    New Booking    \n",
              "4  A71293042  flat          Central Delhi  Karol Bagh    New Booking    \n",
              "\n",
              "    OWNTYPE  BEDROOM_NUM  BATHROOM_NUM  BALCONY_NUM  BUILTUP_SQFT  \\\n",
              "0  Freehold  6.0          0            NaN          NaN             \n",
              "1  Freehold  5.0          6            NaN          NaN             \n",
              "2  Freehold  4.0          4            NaN          NaN             \n",
              "3  Freehold  3.0          3            NaN          NaN             \n",
              "4  Freehold  2.0          2            NaN          NaN             \n",
              "\n",
              "   CARPET_SQFT  SUPERBUILTUP_SQFT FURNISH FURNISHING_ATTRIBUTES FACING  \\\n",
              "0  3173.0      NaN                 NaN     NaN                   NaN     \n",
              "1 NaN          NaN                 NaN     NaN                   NaN     \n",
              "2 NaN          NaN                 NaN     NaN                   NaN     \n",
              "3 NaN          NaN                 NaN     NaN                   NaN     \n",
              "4  741.0       NaN                 NaN     NaN                   NaN     \n",
              "\n",
              "   FLOOR_NUM  TOTAL_FLOOR FEATURES   LATITUDE  LONGITUDE        AVAILABILITY  \\\n",
              "0  1.0        32.0         N        28.657811  77.19466   Under Construction   \n",
              "1  1.0        32.0         N        28.657811  77.19466   Under Construction   \n",
              "2  1.0        32.0         N        28.657811  77.19466   Under Construction   \n",
              "3  1.0        32.0         N        28.657811  77.19466   Under Construction   \n",
              "4  1.0        32.0         N        28.657811  77.19466   Under Construction   \n",
              "\n",
              "  SUB_AVAILABILITY  AVG_PRICE  PRICE_SQFT AMENITIES  AVG_PRICE_CR  \\\n",
              "0  Not Mentioned    103000000  32461       []        10.30          \n",
              "1  Not Mentioned    102983146  32461       []        10.30          \n",
              "2  Not Mentioned    62362438   33233       []        6.24           \n",
              "3  Not Mentioned    30500000   30214       []        3.05           \n",
              "4  Not Mentioned    19500156   26316       []        1.95           \n",
              "\n",
              "     AREA_SQFT  CALCULATED_AREA_SQFT  \n",
              "0  3173.038415  3526.0                \n",
              "1  3172.519208 NaN                    \n",
              "2  1876.521470 NaN                    \n",
              "3  1009.465811 NaN                    \n",
              "4  741.000000   823.0                 "
            ]
          },
          "execution_count": 122,
          "metadata": {},
          "output_type": "execute_result"
        }
      ],
      "source": [
        "df.head()"
      ]
    },
    {
      "cell_type": "code",
      "execution_count": null,
      "metadata": {
        "id": "hkz2KHpEOvJf"
      },
      "outputs": [],
      "source": [
        "# There are around 1200 flats whose all areas are null (superbuiltup, builtu and carpet), so I am going to fill with the AREA_SQFT values"
      ]
    },
    {
      "cell_type": "code",
      "execution_count": null,
      "metadata": {
        "id": "fuYdzD8QdOYs"
      },
      "outputs": [],
      "source": [
        "all_area_nan_df = df[((df[\"SUPERBUILTUP_SQFT\"].isnull()) & (df[\"BUILTUP_SQFT\"].isnull()) & (df[\"CARPET_SQFT\"].isnull()))][[\"PROP_ID\", \"AVG_PRICE\", \"PROPERTY_TYPE\", \"AREA_SQFT\", \"SUPERBUILTUP_SQFT\", \"BUILTUP_SQFT\", \"CARPET_SQFT\"]]"
      ]
    },
    {
      "cell_type": "code",
      "execution_count": null,
      "metadata": {
        "id": "Q_h215qWPrbD"
      },
      "outputs": [],
      "source": [
        "df.loc[df[\"PROP_ID\"].isin(all_area_nan_df[\"PROP_ID\"]), \"CALCULATED_AREA_SQFT\"] = df.loc[all_area_nan_df.index, \"AREA_SQFT\"]"
      ]
    },
    {
      "cell_type": "code",
      "execution_count": null,
      "metadata": {
        "id": "MyViAupXQulP"
      },
      "outputs": [],
      "source": [
        "df.drop(columns = [\"BUILTUP_SQFT\", \"CARPET_SQFT\", \"SUPERBUILTUP_SQFT\"], inplace = True)"
      ]
    },
    {
      "cell_type": "markdown",
      "metadata": {
        "id": "XG6xN110fbKj"
      },
      "source": [
        "## AGE"
      ]
    },
    {
      "cell_type": "code",
      "execution_count": null,
      "metadata": {
        "colab": {
          "base_uri": "https://localhost:8080/"
        },
        "id": "yniOUFapfNA0",
        "outputId": "e51a0c02-de1c-4f5e-fd1d-e8d78559bb91"
      },
      "outputs": [
        {
          "data": {
            "text/plain": [
              "10+ years old        2633\n",
              "5 to 10 years old    2161\n",
              "1 to 5 years old     1316\n",
              "0 to 1 year old      1081\n",
              "Not Mentioned        136 \n",
              "Name: SUB_AVAILABILITY, dtype: int64"
            ]
          },
          "execution_count": 148,
          "metadata": {},
          "output_type": "execute_result"
        }
      ],
      "source": [
        "df[\"SUB_AVAILABILITY\"].value_counts()"
      ]
    },
    {
      "cell_type": "code",
      "execution_count": null,
      "metadata": {
        "id": "wfeAgaLffw6y"
      },
      "outputs": [],
      "source": [
        "def categorize_age_possession(value):\n",
        "  if pd.isna(value):\n",
        "    return \"Not Mentioned\"\n",
        "  if \"0 to 1 year old\" in value or \"Within 6 months\" in value or \"Within 3 months\" in value:\n",
        "    return \"New Property\"\n",
        "  if \"1 to 5 years old\" in value:\n",
        "    return \"Relatively New\"\n",
        "  if \"5 to 10 years old\" in value:\n",
        "    return \"Moderately old\"\n",
        "  if \"10+ years old\" in value:\n",
        "    return \"Old Property\"\n",
        "  if \"Under Construction\" in value or \"By\" in value:\n",
        "        return \"Under Construction\"\n",
        "  try:\n",
        "    int(value.split(\" \")[-1])\n",
        "    return \"Under Construction\"\n",
        "  except:\n",
        "    return \"Not Mentioned\""
      ]
    },
    {
      "cell_type": "code",
      "execution_count": null,
      "metadata": {
        "id": "xByoUZVigeA7"
      },
      "outputs": [],
      "source": [
        "df[\"AGE_POSSESSION\"] = df[\"SUB_AVAILABILITY\"].apply(categorize_age_possession)"
      ]
    },
    {
      "cell_type": "code",
      "execution_count": null,
      "metadata": {
        "colab": {
          "base_uri": "https://localhost:8080/"
        },
        "id": "gIDI6IXLggqJ",
        "outputId": "4bb090df-068c-4aac-f919-f36697c3cd5f"
      },
      "outputs": [
        {
          "data": {
            "text/plain": [
              "Old Property      2633\n",
              "Moderately old    2161\n",
              "Relatively New    1316\n",
              "New Property      1081\n",
              "Not Mentioned     136 \n",
              "Name: AGE_POSSESSION, dtype: int64"
            ]
          },
          "execution_count": 152,
          "metadata": {},
          "output_type": "execute_result"
        }
      ],
      "source": [
        "df[\"AGE_POSSESSION\"].value_counts()"
      ]
    },
    {
      "cell_type": "code",
      "execution_count": null,
      "metadata": {
        "colab": {
          "base_uri": "https://localhost:8080/"
        },
        "id": "o317BQw_gnWj",
        "outputId": "0ee701b3-8082-4526-e076-187b5e3b92ee"
      },
      "outputs": [
        {
          "data": {
            "text/plain": [
              "Ready to move         7191\n",
              "Under Construction    136 \n",
              "Name: AVAILABILITY, dtype: int64"
            ]
          },
          "execution_count": 153,
          "metadata": {},
          "output_type": "execute_result"
        }
      ],
      "source": [
        "df[\"AVAILABILITY\"].value_counts()"
      ]
    },
    {
      "cell_type": "code",
      "execution_count": null,
      "metadata": {
        "id": "GCODTCrchrK6"
      },
      "outputs": [],
      "source": [
        "df.drop(columns = [\"SUB_AVAILABILITY\"], inplace = True)"
      ]
    },
    {
      "cell_type": "code",
      "execution_count": null,
      "metadata": {
        "id": "2PjhXec3iAbd"
      },
      "outputs": [],
      "source": [
        "df.reset_index(inplace = True)"
      ]
    },
    {
      "cell_type": "markdown",
      "metadata": {
        "id": "S7Vb_4dwmLlb"
      },
      "source": [
        "## AMENITIES"
      ]
    },
    {
      "cell_type": "code",
      "execution_count": null,
      "metadata": {
        "id": "2ujriIy_mKXf"
      },
      "outputs": [],
      "source": [
        "from sklearn.preprocessing import MultiLabelBinarizer\n",
        "from sklearn.cluster import KMeans\n",
        "import ast"
      ]
    },
    {
      "cell_type": "code",
      "execution_count": null,
      "metadata": {
        "colab": {
          "base_uri": "https://localhost:8080/",
          "height": 70
        },
        "id": "ohDWLAa3m64F",
        "outputId": "88f16c78-a6f2-4d23-d6a7-396e21432c31"
      },
      "outputs": [
        {
          "data": {
            "application/vnd.google.colaboratory.intrinsic+json": {
              "type": "string"
            },
            "text/plain": [
              "\"['Fang Shui/ Vaastu Complaint', 'Water Purifier', 'Maintenance Staff', 'False Ceiling lighting', 'Water Storage', 'Near Bank', 'Gas Pipeline', 'Visitor Parking', 'Swimming Pool', 'Park', 'Security Personnel', 'Natural light', 'Airy Rooms', 'Spacious Interiors', 'Shopping Centre', 'Gymnasium', 'AC Room']\""
            ]
          },
          "execution_count": 157,
          "metadata": {},
          "output_type": "execute_result"
        }
      ],
      "source": [
        "df[\"AMENITIES\"][5]"
      ]
    },
    {
      "cell_type": "code",
      "execution_count": null,
      "metadata": {
        "id": "kLRdm5yUmEZe"
      },
      "outputs": [],
      "source": [
        "df[\"AMENITIES\"] = df[\"AMENITIES\"].apply(lambda x: ast.literal_eval(x))"
      ]
    },
    {
      "cell_type": "code",
      "execution_count": null,
      "metadata": {
        "id": "oFp9mKxzoH4u"
      },
      "outputs": [],
      "source": [
        "# Use MultiLabelBinarizer to convert the features list into a binary matrix\n",
        "mlb = MultiLabelBinarizer()\n",
        "amenities_binary_matrix = mlb.fit_transform(df[\"AMENITIES\"])\n",
        "\n",
        "# Convert the binary matrix into a DataFrame\n",
        "amenities_binary_df = pd.DataFrame(amenities_binary_matrix, columns = mlb.classes_)\n"
      ]
    },
    {
      "cell_type": "code",
      "execution_count": null,
      "metadata": {
        "colab": {
          "base_uri": "https://localhost:8080/",
          "height": 358
        },
        "id": "9u_MavWXowRx",
        "outputId": "ae68c6f5-ad8b-45ee-fe2c-36b46c178b31"
      },
      "outputs": [
        {
          "data": {
            "text/html": [
              "\n",
              "  <div id=\"df-e2e9fb04-7b58-471b-b93b-00a62d82c9a3\" class=\"colab-df-container\">\n",
              "    <div>\n",
              "<style scoped>\n",
              "    .dataframe tbody tr th:only-of-type {\n",
              "        vertical-align: middle;\n",
              "    }\n",
              "\n",
              "    .dataframe tbody tr th {\n",
              "        vertical-align: top;\n",
              "    }\n",
              "\n",
              "    .dataframe thead th {\n",
              "        text-align: right;\n",
              "    }\n",
              "</style>\n",
              "<table border=\"1\" class=\"dataframe\">\n",
              "  <thead>\n",
              "    <tr style=\"text-align: right;\">\n",
              "      <th></th>\n",
              "      <th>AC Room</th>\n",
              "      <th>Air Conditioned</th>\n",
              "      <th>Airy Rooms</th>\n",
              "      <th>Bank Attached Property</th>\n",
              "      <th>Club House</th>\n",
              "      <th>False Ceiling lighting</th>\n",
              "      <th>Fang Shui/ Vaastu Complaint</th>\n",
              "      <th>Gas Pipeline</th>\n",
              "      <th>Gymnasium</th>\n",
              "      <th>High Cieling Height</th>\n",
              "      <th>Intercom Facility</th>\n",
              "      <th>Internet Wifi Connectivity</th>\n",
              "      <th>Lift</th>\n",
              "      <th>Low Density Society</th>\n",
              "      <th>Maintenance Staff</th>\n",
              "      <th>Natural light</th>\n",
              "      <th>Near Bank</th>\n",
              "      <th>No open Drainage Around</th>\n",
              "      <th>Park</th>\n",
              "      <th>Pet Friendly</th>\n",
              "      <th>Power Backup</th>\n",
              "      <th>Private Garden/Terrace</th>\n",
              "      <th>Security Fire Alarm</th>\n",
              "      <th>Security Personnel</th>\n",
              "      <th>Separate Entry For Servant Room</th>\n",
              "      <th>Shopping Centre</th>\n",
              "      <th>Spacious Interiors</th>\n",
              "      <th>Swimming Pool</th>\n",
              "      <th>Visitor Parking</th>\n",
              "      <th>Waste Disposal</th>\n",
              "      <th>Water Purifier</th>\n",
              "      <th>Water Softening Plant</th>\n",
              "      <th>Water Storage</th>\n",
              "      <th>Wheelchair</th>\n",
              "    </tr>\n",
              "  </thead>\n",
              "  <tbody>\n",
              "    <tr>\n",
              "      <th>0</th>\n",
              "      <td>0</td>\n",
              "      <td>0</td>\n",
              "      <td>0</td>\n",
              "      <td>0</td>\n",
              "      <td>0</td>\n",
              "      <td>0</td>\n",
              "      <td>0</td>\n",
              "      <td>0</td>\n",
              "      <td>0</td>\n",
              "      <td>0</td>\n",
              "      <td>0</td>\n",
              "      <td>0</td>\n",
              "      <td>0</td>\n",
              "      <td>0</td>\n",
              "      <td>0</td>\n",
              "      <td>0</td>\n",
              "      <td>0</td>\n",
              "      <td>0</td>\n",
              "      <td>0</td>\n",
              "      <td>0</td>\n",
              "      <td>0</td>\n",
              "      <td>0</td>\n",
              "      <td>0</td>\n",
              "      <td>0</td>\n",
              "      <td>0</td>\n",
              "      <td>0</td>\n",
              "      <td>0</td>\n",
              "      <td>0</td>\n",
              "      <td>0</td>\n",
              "      <td>0</td>\n",
              "      <td>0</td>\n",
              "      <td>0</td>\n",
              "      <td>0</td>\n",
              "      <td>0</td>\n",
              "    </tr>\n",
              "    <tr>\n",
              "      <th>1</th>\n",
              "      <td>0</td>\n",
              "      <td>0</td>\n",
              "      <td>0</td>\n",
              "      <td>0</td>\n",
              "      <td>0</td>\n",
              "      <td>0</td>\n",
              "      <td>0</td>\n",
              "      <td>0</td>\n",
              "      <td>0</td>\n",
              "      <td>0</td>\n",
              "      <td>0</td>\n",
              "      <td>0</td>\n",
              "      <td>0</td>\n",
              "      <td>0</td>\n",
              "      <td>0</td>\n",
              "      <td>0</td>\n",
              "      <td>0</td>\n",
              "      <td>0</td>\n",
              "      <td>0</td>\n",
              "      <td>0</td>\n",
              "      <td>0</td>\n",
              "      <td>0</td>\n",
              "      <td>0</td>\n",
              "      <td>0</td>\n",
              "      <td>0</td>\n",
              "      <td>0</td>\n",
              "      <td>0</td>\n",
              "      <td>0</td>\n",
              "      <td>0</td>\n",
              "      <td>0</td>\n",
              "      <td>0</td>\n",
              "      <td>0</td>\n",
              "      <td>0</td>\n",
              "      <td>0</td>\n",
              "    </tr>\n",
              "    <tr>\n",
              "      <th>2</th>\n",
              "      <td>0</td>\n",
              "      <td>0</td>\n",
              "      <td>0</td>\n",
              "      <td>0</td>\n",
              "      <td>0</td>\n",
              "      <td>0</td>\n",
              "      <td>0</td>\n",
              "      <td>0</td>\n",
              "      <td>0</td>\n",
              "      <td>0</td>\n",
              "      <td>0</td>\n",
              "      <td>0</td>\n",
              "      <td>0</td>\n",
              "      <td>0</td>\n",
              "      <td>0</td>\n",
              "      <td>0</td>\n",
              "      <td>0</td>\n",
              "      <td>0</td>\n",
              "      <td>0</td>\n",
              "      <td>0</td>\n",
              "      <td>0</td>\n",
              "      <td>0</td>\n",
              "      <td>0</td>\n",
              "      <td>0</td>\n",
              "      <td>0</td>\n",
              "      <td>0</td>\n",
              "      <td>0</td>\n",
              "      <td>0</td>\n",
              "      <td>0</td>\n",
              "      <td>0</td>\n",
              "      <td>0</td>\n",
              "      <td>0</td>\n",
              "      <td>0</td>\n",
              "      <td>0</td>\n",
              "    </tr>\n",
              "    <tr>\n",
              "      <th>3</th>\n",
              "      <td>0</td>\n",
              "      <td>0</td>\n",
              "      <td>0</td>\n",
              "      <td>0</td>\n",
              "      <td>0</td>\n",
              "      <td>0</td>\n",
              "      <td>0</td>\n",
              "      <td>0</td>\n",
              "      <td>0</td>\n",
              "      <td>0</td>\n",
              "      <td>0</td>\n",
              "      <td>0</td>\n",
              "      <td>0</td>\n",
              "      <td>0</td>\n",
              "      <td>0</td>\n",
              "      <td>0</td>\n",
              "      <td>0</td>\n",
              "      <td>0</td>\n",
              "      <td>0</td>\n",
              "      <td>0</td>\n",
              "      <td>0</td>\n",
              "      <td>0</td>\n",
              "      <td>0</td>\n",
              "      <td>0</td>\n",
              "      <td>0</td>\n",
              "      <td>0</td>\n",
              "      <td>0</td>\n",
              "      <td>0</td>\n",
              "      <td>0</td>\n",
              "      <td>0</td>\n",
              "      <td>0</td>\n",
              "      <td>0</td>\n",
              "      <td>0</td>\n",
              "      <td>0</td>\n",
              "    </tr>\n",
              "    <tr>\n",
              "      <th>4</th>\n",
              "      <td>0</td>\n",
              "      <td>0</td>\n",
              "      <td>0</td>\n",
              "      <td>0</td>\n",
              "      <td>0</td>\n",
              "      <td>0</td>\n",
              "      <td>0</td>\n",
              "      <td>0</td>\n",
              "      <td>0</td>\n",
              "      <td>0</td>\n",
              "      <td>0</td>\n",
              "      <td>0</td>\n",
              "      <td>0</td>\n",
              "      <td>0</td>\n",
              "      <td>0</td>\n",
              "      <td>0</td>\n",
              "      <td>0</td>\n",
              "      <td>0</td>\n",
              "      <td>0</td>\n",
              "      <td>0</td>\n",
              "      <td>0</td>\n",
              "      <td>0</td>\n",
              "      <td>0</td>\n",
              "      <td>0</td>\n",
              "      <td>0</td>\n",
              "      <td>0</td>\n",
              "      <td>0</td>\n",
              "      <td>0</td>\n",
              "      <td>0</td>\n",
              "      <td>0</td>\n",
              "      <td>0</td>\n",
              "      <td>0</td>\n",
              "      <td>0</td>\n",
              "      <td>0</td>\n",
              "    </tr>\n",
              "    <tr>\n",
              "      <th>5</th>\n",
              "      <td>1</td>\n",
              "      <td>0</td>\n",
              "      <td>1</td>\n",
              "      <td>0</td>\n",
              "      <td>0</td>\n",
              "      <td>1</td>\n",
              "      <td>1</td>\n",
              "      <td>1</td>\n",
              "      <td>1</td>\n",
              "      <td>0</td>\n",
              "      <td>0</td>\n",
              "      <td>0</td>\n",
              "      <td>0</td>\n",
              "      <td>0</td>\n",
              "      <td>1</td>\n",
              "      <td>1</td>\n",
              "      <td>1</td>\n",
              "      <td>0</td>\n",
              "      <td>1</td>\n",
              "      <td>0</td>\n",
              "      <td>0</td>\n",
              "      <td>0</td>\n",
              "      <td>0</td>\n",
              "      <td>1</td>\n",
              "      <td>0</td>\n",
              "      <td>1</td>\n",
              "      <td>1</td>\n",
              "      <td>1</td>\n",
              "      <td>1</td>\n",
              "      <td>0</td>\n",
              "      <td>1</td>\n",
              "      <td>0</td>\n",
              "      <td>1</td>\n",
              "      <td>0</td>\n",
              "    </tr>\n",
              "    <tr>\n",
              "      <th>6</th>\n",
              "      <td>0</td>\n",
              "      <td>0</td>\n",
              "      <td>0</td>\n",
              "      <td>0</td>\n",
              "      <td>0</td>\n",
              "      <td>0</td>\n",
              "      <td>0</td>\n",
              "      <td>0</td>\n",
              "      <td>0</td>\n",
              "      <td>0</td>\n",
              "      <td>0</td>\n",
              "      <td>0</td>\n",
              "      <td>0</td>\n",
              "      <td>0</td>\n",
              "      <td>0</td>\n",
              "      <td>0</td>\n",
              "      <td>0</td>\n",
              "      <td>0</td>\n",
              "      <td>0</td>\n",
              "      <td>0</td>\n",
              "      <td>0</td>\n",
              "      <td>0</td>\n",
              "      <td>0</td>\n",
              "      <td>0</td>\n",
              "      <td>0</td>\n",
              "      <td>0</td>\n",
              "      <td>0</td>\n",
              "      <td>0</td>\n",
              "      <td>0</td>\n",
              "      <td>0</td>\n",
              "      <td>0</td>\n",
              "      <td>0</td>\n",
              "      <td>0</td>\n",
              "      <td>0</td>\n",
              "    </tr>\n",
              "  </tbody>\n",
              "</table>\n",
              "</div>\n",
              "    <div class=\"colab-df-buttons\">\n",
              "\n",
              "  <div class=\"colab-df-container\">\n",
              "    <button class=\"colab-df-convert\" onclick=\"convertToInteractive('df-e2e9fb04-7b58-471b-b93b-00a62d82c9a3')\"\n",
              "            title=\"Convert this dataframe to an interactive table.\"\n",
              "            style=\"display:none;\">\n",
              "\n",
              "  <svg xmlns=\"http://www.w3.org/2000/svg\" height=\"24px\" viewBox=\"0 -960 960 960\">\n",
              "    <path d=\"M120-120v-720h720v720H120Zm60-500h600v-160H180v160Zm220 220h160v-160H400v160Zm0 220h160v-160H400v160ZM180-400h160v-160H180v160Zm440 0h160v-160H620v160ZM180-180h160v-160H180v160Zm440 0h160v-160H620v160Z\"/>\n",
              "  </svg>\n",
              "    </button>\n",
              "\n",
              "  <style>\n",
              "    .colab-df-container {\n",
              "      display:flex;\n",
              "      gap: 12px;\n",
              "    }\n",
              "\n",
              "    .colab-df-convert {\n",
              "      background-color: #E8F0FE;\n",
              "      border: none;\n",
              "      border-radius: 50%;\n",
              "      cursor: pointer;\n",
              "      display: none;\n",
              "      fill: #1967D2;\n",
              "      height: 32px;\n",
              "      padding: 0 0 0 0;\n",
              "      width: 32px;\n",
              "    }\n",
              "\n",
              "    .colab-df-convert:hover {\n",
              "      background-color: #E2EBFA;\n",
              "      box-shadow: 0px 1px 2px rgba(60, 64, 67, 0.3), 0px 1px 3px 1px rgba(60, 64, 67, 0.15);\n",
              "      fill: #174EA6;\n",
              "    }\n",
              "\n",
              "    .colab-df-buttons div {\n",
              "      margin-bottom: 4px;\n",
              "    }\n",
              "\n",
              "    [theme=dark] .colab-df-convert {\n",
              "      background-color: #3B4455;\n",
              "      fill: #D2E3FC;\n",
              "    }\n",
              "\n",
              "    [theme=dark] .colab-df-convert:hover {\n",
              "      background-color: #434B5C;\n",
              "      box-shadow: 0px 1px 3px 1px rgba(0, 0, 0, 0.15);\n",
              "      filter: drop-shadow(0px 1px 2px rgba(0, 0, 0, 0.3));\n",
              "      fill: #FFFFFF;\n",
              "    }\n",
              "  </style>\n",
              "\n",
              "    <script>\n",
              "      const buttonEl =\n",
              "        document.querySelector('#df-e2e9fb04-7b58-471b-b93b-00a62d82c9a3 button.colab-df-convert');\n",
              "      buttonEl.style.display =\n",
              "        google.colab.kernel.accessAllowed ? 'block' : 'none';\n",
              "\n",
              "      async function convertToInteractive(key) {\n",
              "        const element = document.querySelector('#df-e2e9fb04-7b58-471b-b93b-00a62d82c9a3');\n",
              "        const dataTable =\n",
              "          await google.colab.kernel.invokeFunction('convertToInteractive',\n",
              "                                                    [key], {});\n",
              "        if (!dataTable) return;\n",
              "\n",
              "        const docLinkHtml = 'Like what you see? Visit the ' +\n",
              "          '<a target=\"_blank\" href=https://colab.research.google.com/notebooks/data_table.ipynb>data table notebook</a>'\n",
              "          + ' to learn more about interactive tables.';\n",
              "        element.innerHTML = '';\n",
              "        dataTable['output_type'] = 'display_data';\n",
              "        await google.colab.output.renderOutput(dataTable, element);\n",
              "        const docLink = document.createElement('div');\n",
              "        docLink.innerHTML = docLinkHtml;\n",
              "        element.appendChild(docLink);\n",
              "      }\n",
              "    </script>\n",
              "  </div>\n",
              "\n",
              "\n",
              "<div id=\"df-9d3d7122-2a86-4b25-9ea2-dcb4e2bf6143\">\n",
              "  <button class=\"colab-df-quickchart\" onclick=\"quickchart('df-9d3d7122-2a86-4b25-9ea2-dcb4e2bf6143')\"\n",
              "            title=\"Suggest charts.\"\n",
              "            style=\"display:none;\">\n",
              "\n",
              "<svg xmlns=\"http://www.w3.org/2000/svg\" height=\"24px\"viewBox=\"0 0 24 24\"\n",
              "     width=\"24px\">\n",
              "    <g>\n",
              "        <path d=\"M19 3H5c-1.1 0-2 .9-2 2v14c0 1.1.9 2 2 2h14c1.1 0 2-.9 2-2V5c0-1.1-.9-2-2-2zM9 17H7v-7h2v7zm4 0h-2V7h2v10zm4 0h-2v-4h2v4z\"/>\n",
              "    </g>\n",
              "</svg>\n",
              "  </button>\n",
              "\n",
              "<style>\n",
              "  .colab-df-quickchart {\n",
              "      --bg-color: #E8F0FE;\n",
              "      --fill-color: #1967D2;\n",
              "      --hover-bg-color: #E2EBFA;\n",
              "      --hover-fill-color: #174EA6;\n",
              "      --disabled-fill-color: #AAA;\n",
              "      --disabled-bg-color: #DDD;\n",
              "  }\n",
              "\n",
              "  [theme=dark] .colab-df-quickchart {\n",
              "      --bg-color: #3B4455;\n",
              "      --fill-color: #D2E3FC;\n",
              "      --hover-bg-color: #434B5C;\n",
              "      --hover-fill-color: #FFFFFF;\n",
              "      --disabled-bg-color: #3B4455;\n",
              "      --disabled-fill-color: #666;\n",
              "  }\n",
              "\n",
              "  .colab-df-quickchart {\n",
              "    background-color: var(--bg-color);\n",
              "    border: none;\n",
              "    border-radius: 50%;\n",
              "    cursor: pointer;\n",
              "    display: none;\n",
              "    fill: var(--fill-color);\n",
              "    height: 32px;\n",
              "    padding: 0;\n",
              "    width: 32px;\n",
              "  }\n",
              "\n",
              "  .colab-df-quickchart:hover {\n",
              "    background-color: var(--hover-bg-color);\n",
              "    box-shadow: 0 1px 2px rgba(60, 64, 67, 0.3), 0 1px 3px 1px rgba(60, 64, 67, 0.15);\n",
              "    fill: var(--button-hover-fill-color);\n",
              "  }\n",
              "\n",
              "  .colab-df-quickchart-complete:disabled,\n",
              "  .colab-df-quickchart-complete:disabled:hover {\n",
              "    background-color: var(--disabled-bg-color);\n",
              "    fill: var(--disabled-fill-color);\n",
              "    box-shadow: none;\n",
              "  }\n",
              "\n",
              "  .colab-df-spinner {\n",
              "    border: 2px solid var(--fill-color);\n",
              "    border-color: transparent;\n",
              "    border-bottom-color: var(--fill-color);\n",
              "    animation:\n",
              "      spin 1s steps(1) infinite;\n",
              "  }\n",
              "\n",
              "  @keyframes spin {\n",
              "    0% {\n",
              "      border-color: transparent;\n",
              "      border-bottom-color: var(--fill-color);\n",
              "      border-left-color: var(--fill-color);\n",
              "    }\n",
              "    20% {\n",
              "      border-color: transparent;\n",
              "      border-left-color: var(--fill-color);\n",
              "      border-top-color: var(--fill-color);\n",
              "    }\n",
              "    30% {\n",
              "      border-color: transparent;\n",
              "      border-left-color: var(--fill-color);\n",
              "      border-top-color: var(--fill-color);\n",
              "      border-right-color: var(--fill-color);\n",
              "    }\n",
              "    40% {\n",
              "      border-color: transparent;\n",
              "      border-right-color: var(--fill-color);\n",
              "      border-top-color: var(--fill-color);\n",
              "    }\n",
              "    60% {\n",
              "      border-color: transparent;\n",
              "      border-right-color: var(--fill-color);\n",
              "    }\n",
              "    80% {\n",
              "      border-color: transparent;\n",
              "      border-right-color: var(--fill-color);\n",
              "      border-bottom-color: var(--fill-color);\n",
              "    }\n",
              "    90% {\n",
              "      border-color: transparent;\n",
              "      border-bottom-color: var(--fill-color);\n",
              "    }\n",
              "  }\n",
              "</style>\n",
              "\n",
              "  <script>\n",
              "    async function quickchart(key) {\n",
              "      const quickchartButtonEl =\n",
              "        document.querySelector('#' + key + ' button');\n",
              "      quickchartButtonEl.disabled = true;  // To prevent multiple clicks.\n",
              "      quickchartButtonEl.classList.add('colab-df-spinner');\n",
              "      try {\n",
              "        const charts = await google.colab.kernel.invokeFunction(\n",
              "            'suggestCharts', [key], {});\n",
              "      } catch (error) {\n",
              "        console.error('Error during call to suggestCharts:', error);\n",
              "      }\n",
              "      quickchartButtonEl.classList.remove('colab-df-spinner');\n",
              "      quickchartButtonEl.classList.add('colab-df-quickchart-complete');\n",
              "    }\n",
              "    (() => {\n",
              "      let quickchartButtonEl =\n",
              "        document.querySelector('#df-9d3d7122-2a86-4b25-9ea2-dcb4e2bf6143 button');\n",
              "      quickchartButtonEl.style.display =\n",
              "        google.colab.kernel.accessAllowed ? 'block' : 'none';\n",
              "    })();\n",
              "  </script>\n",
              "</div>\n",
              "    </div>\n",
              "  </div>\n"
            ],
            "text/plain": [
              "   AC Room  Air Conditioned  Airy Rooms  Bank Attached Property  Club House  \\\n",
              "0  0        0                0           0                       0            \n",
              "1  0        0                0           0                       0            \n",
              "2  0        0                0           0                       0            \n",
              "3  0        0                0           0                       0            \n",
              "4  0        0                0           0                       0            \n",
              "5  1        0                1           0                       0            \n",
              "6  0        0                0           0                       0            \n",
              "\n",
              "   False Ceiling lighting  Fang Shui/ Vaastu Complaint  Gas Pipeline  \\\n",
              "0  0                       0                            0              \n",
              "1  0                       0                            0              \n",
              "2  0                       0                            0              \n",
              "3  0                       0                            0              \n",
              "4  0                       0                            0              \n",
              "5  1                       1                            1              \n",
              "6  0                       0                            0              \n",
              "\n",
              "   Gymnasium  High Cieling Height  Intercom Facility  \\\n",
              "0  0          0                    0                   \n",
              "1  0          0                    0                   \n",
              "2  0          0                    0                   \n",
              "3  0          0                    0                   \n",
              "4  0          0                    0                   \n",
              "5  1          0                    0                   \n",
              "6  0          0                    0                   \n",
              "\n",
              "   Internet Wifi Connectivity  Lift  Low Density Society  Maintenance Staff  \\\n",
              "0  0                           0     0                    0                   \n",
              "1  0                           0     0                    0                   \n",
              "2  0                           0     0                    0                   \n",
              "3  0                           0     0                    0                   \n",
              "4  0                           0     0                    0                   \n",
              "5  0                           0     0                    1                   \n",
              "6  0                           0     0                    0                   \n",
              "\n",
              "   Natural light  Near Bank  No open Drainage Around  Park  Pet Friendly  \\\n",
              "0  0              0          0                        0     0              \n",
              "1  0              0          0                        0     0              \n",
              "2  0              0          0                        0     0              \n",
              "3  0              0          0                        0     0              \n",
              "4  0              0          0                        0     0              \n",
              "5  1              1          0                        1     0              \n",
              "6  0              0          0                        0     0              \n",
              "\n",
              "   Power Backup  Private Garden/Terrace  Security Fire Alarm  \\\n",
              "0  0             0                       0                     \n",
              "1  0             0                       0                     \n",
              "2  0             0                       0                     \n",
              "3  0             0                       0                     \n",
              "4  0             0                       0                     \n",
              "5  0             0                       0                     \n",
              "6  0             0                       0                     \n",
              "\n",
              "   Security Personnel  Separate Entry For Servant Room  Shopping Centre  \\\n",
              "0  0                   0                                0                 \n",
              "1  0                   0                                0                 \n",
              "2  0                   0                                0                 \n",
              "3  0                   0                                0                 \n",
              "4  0                   0                                0                 \n",
              "5  1                   0                                1                 \n",
              "6  0                   0                                0                 \n",
              "\n",
              "   Spacious Interiors  Swimming Pool  Visitor Parking  Waste Disposal  \\\n",
              "0  0                   0              0                0                \n",
              "1  0                   0              0                0                \n",
              "2  0                   0              0                0                \n",
              "3  0                   0              0                0                \n",
              "4  0                   0              0                0                \n",
              "5  1                   1              1                0                \n",
              "6  0                   0              0                0                \n",
              "\n",
              "   Water Purifier  Water Softening Plant  Water Storage  Wheelchair  \n",
              "0  0               0                      0              0           \n",
              "1  0               0                      0              0           \n",
              "2  0               0                      0              0           \n",
              "3  0               0                      0              0           \n",
              "4  0               0                      0              0           \n",
              "5  1               0                      1              0           \n",
              "6  0               0                      0              0           "
            ]
          },
          "execution_count": 160,
          "metadata": {},
          "output_type": "execute_result"
        }
      ],
      "source": [
        "amenities_binary_df.head(7)"
      ]
    },
    {
      "cell_type": "code",
      "execution_count": null,
      "metadata": {
        "colab": {
          "base_uri": "https://localhost:8080/"
        },
        "id": "fH5Rw_iRphbg",
        "outputId": "692fc1cf-bcc6-406f-a228-9db1cad95ef6"
      },
      "outputs": [
        {
          "name": "stderr",
          "output_type": "stream",
          "text": [
            "/usr/local/lib/python3.10/dist-packages/sklearn/cluster/_kmeans.py:870: FutureWarning: The default value of `n_init` will change from 10 to 'auto' in 1.4. Set the value of `n_init` explicitly to suppress the warning\n",
            "  warnings.warn(\n",
            "/usr/local/lib/python3.10/dist-packages/sklearn/cluster/_kmeans.py:870: FutureWarning: The default value of `n_init` will change from 10 to 'auto' in 1.4. Set the value of `n_init` explicitly to suppress the warning\n",
            "  warnings.warn(\n",
            "/usr/local/lib/python3.10/dist-packages/sklearn/cluster/_kmeans.py:870: FutureWarning: The default value of `n_init` will change from 10 to 'auto' in 1.4. Set the value of `n_init` explicitly to suppress the warning\n",
            "  warnings.warn(\n",
            "/usr/local/lib/python3.10/dist-packages/sklearn/cluster/_kmeans.py:870: FutureWarning: The default value of `n_init` will change from 10 to 'auto' in 1.4. Set the value of `n_init` explicitly to suppress the warning\n",
            "  warnings.warn(\n",
            "/usr/local/lib/python3.10/dist-packages/sklearn/cluster/_kmeans.py:870: FutureWarning: The default value of `n_init` will change from 10 to 'auto' in 1.4. Set the value of `n_init` explicitly to suppress the warning\n",
            "  warnings.warn(\n",
            "/usr/local/lib/python3.10/dist-packages/sklearn/cluster/_kmeans.py:870: FutureWarning: The default value of `n_init` will change from 10 to 'auto' in 1.4. Set the value of `n_init` explicitly to suppress the warning\n",
            "  warnings.warn(\n",
            "/usr/local/lib/python3.10/dist-packages/sklearn/cluster/_kmeans.py:870: FutureWarning: The default value of `n_init` will change from 10 to 'auto' in 1.4. Set the value of `n_init` explicitly to suppress the warning\n",
            "  warnings.warn(\n",
            "/usr/local/lib/python3.10/dist-packages/sklearn/cluster/_kmeans.py:870: FutureWarning: The default value of `n_init` will change from 10 to 'auto' in 1.4. Set the value of `n_init` explicitly to suppress the warning\n",
            "  warnings.warn(\n",
            "/usr/local/lib/python3.10/dist-packages/sklearn/cluster/_kmeans.py:870: FutureWarning: The default value of `n_init` will change from 10 to 'auto' in 1.4. Set the value of `n_init` explicitly to suppress the warning\n",
            "  warnings.warn(\n",
            "/usr/local/lib/python3.10/dist-packages/sklearn/cluster/_kmeans.py:870: FutureWarning: The default value of `n_init` will change from 10 to 'auto' in 1.4. Set the value of `n_init` explicitly to suppress the warning\n",
            "  warnings.warn(\n"
          ]
        }
      ],
      "source": [
        "wcss_reduced = []\n",
        "for i in range(1,11):\n",
        "  kmeans = KMeans(n_clusters = i, init = 'k-means++', random_state = 42)\n",
        "  kmeans.fit(amenities_binary_df)\n",
        "  wcss_reduced.append(kmeans.inertia_)"
      ]
    },
    {
      "cell_type": "code",
      "execution_count": null,
      "metadata": {
        "colab": {
          "base_uri": "https://localhost:8080/",
          "height": 718
        },
        "id": "Te-XYcxYqriA",
        "outputId": "7f002666-932d-465b-ff4e-67a7604892f7"
      },
      "outputs": [
        {
          "data": {
            "image/png": "[encoded data removed]",
            "text/plain": [
              "<Figure size 1000x800 with 1 Axes>"
            ]
          },
          "metadata": {},
          "output_type": "display_data"
        }
      ],
      "source": [
        "import matplotlib.pyplot as plt\n",
        "plt.figure(figsize = (10,8))\n",
        "plt.plot(range(1,11), wcss_reduced, marker = 'o', linestyle = '--')\n",
        "plt.title('Elbow Method for Optimal Number of Clusters (Reduced Range)')\n",
        "plt.xlabel('Number of Clusters')\n",
        "plt.ylabel('WCSS')\n",
        "plt.grid(True)\n",
        "plt.show()"
      ]
    },
    {
      "cell_type": "code",
      "execution_count": null,
      "metadata": {
        "colab": {
          "base_uri": "https://localhost:8080/"
        },
        "id": "wr-2W_uRuI6O",
        "outputId": "0fb0494c-2c26-4b60-90f5-e11a6ac1ec12"
      },
      "outputs": [
        {
          "name": "stderr",
          "output_type": "stream",
          "text": [
            "/usr/local/lib/python3.10/dist-packages/sklearn/cluster/_kmeans.py:870: FutureWarning: The default value of `n_init` will change from 10 to 'auto' in 1.4. Set the value of `n_init` explicitly to suppress the warning\n",
            "  warnings.warn(\n"
          ]
        }
      ],
      "source": [
        "n_clusters = 3\n",
        "\n",
        "#Fit the KMeans model\n",
        "kmeans = KMeans(n_clusters = n_clusters, random_state = 42)\n",
        "kmeans.fit(amenities_binary_df)\n",
        "# Predict the cluster assignment for each row\n",
        "cluster_assignment = kmeans.predict(amenities_binary_df)"
      ]
    },
    {
      "cell_type": "code",
      "execution_count": null,
      "metadata": {
        "id": "Fmy5XmfGu-_R"
      },
      "outputs": [],
      "source": [
        "df[\"AMENITIES_CLUSTER\"] = cluster_assignment"
      ]
    },
    {
      "cell_type": "code",
      "execution_count": null,
      "metadata": {
        "colab": {
          "base_uri": "https://localhost:8080/",
          "height": 206
        },
        "id": "EpaMvrPqvIEa",
        "outputId": "54797b48-ee99-48ee-fa18-9567306ccb5a"
      },
      "outputs": [
        {
          "data": {
            "text/html": [
              "\n",
              "  <div id=\"df-310f7625-408f-450e-b0ff-7efd045b38fe\" class=\"colab-df-container\">\n",
              "    <div>\n",
              "<style scoped>\n",
              "    .dataframe tbody tr th:only-of-type {\n",
              "        vertical-align: middle;\n",
              "    }\n",
              "\n",
              "    .dataframe tbody tr th {\n",
              "        vertical-align: top;\n",
              "    }\n",
              "\n",
              "    .dataframe thead th {\n",
              "        text-align: right;\n",
              "    }\n",
              "</style>\n",
              "<table border=\"1\" class=\"dataframe\">\n",
              "  <thead>\n",
              "    <tr style=\"text-align: right;\">\n",
              "      <th></th>\n",
              "      <th>AMENITIES</th>\n",
              "      <th>AMENITIES_CLUSTER</th>\n",
              "    </tr>\n",
              "  </thead>\n",
              "  <tbody>\n",
              "    <tr>\n",
              "      <th>3950</th>\n",
              "      <td>[Intercom Facility, Lift, Swimming Pool, Park, Visitor Parking, Gymnasium, Club House]</td>\n",
              "      <td>2</td>\n",
              "    </tr>\n",
              "    <tr>\n",
              "      <th>4509</th>\n",
              "      <td>[AC Room]</td>\n",
              "      <td>1</td>\n",
              "    </tr>\n",
              "    <tr>\n",
              "      <th>2970</th>\n",
              "      <td>[]</td>\n",
              "      <td>1</td>\n",
              "    </tr>\n",
              "    <tr>\n",
              "      <th>4322</th>\n",
              "      <td>[Intercom Facility, Lift]</td>\n",
              "      <td>1</td>\n",
              "    </tr>\n",
              "    <tr>\n",
              "      <th>4553</th>\n",
              "      <td>[]</td>\n",
              "      <td>1</td>\n",
              "    </tr>\n",
              "  </tbody>\n",
              "</table>\n",
              "</div>\n",
              "    <div class=\"colab-df-buttons\">\n",
              "\n",
              "  <div class=\"colab-df-container\">\n",
              "    <button class=\"colab-df-convert\" onclick=\"convertToInteractive('df-310f7625-408f-450e-b0ff-7efd045b38fe')\"\n",
              "            title=\"Convert this dataframe to an interactive table.\"\n",
              "            style=\"display:none;\">\n",
              "\n",
              "  <svg xmlns=\"http://www.w3.org/2000/svg\" height=\"24px\" viewBox=\"0 -960 960 960\">\n",
              "    <path d=\"M120-120v-720h720v720H120Zm60-500h600v-160H180v160Zm220 220h160v-160H400v160Zm0 220h160v-160H400v160ZM180-400h160v-160H180v160Zm440 0h160v-160H620v160ZM180-180h160v-160H180v160Zm440 0h160v-160H620v160Z\"/>\n",
              "  </svg>\n",
              "    </button>\n",
              "\n",
              "  <style>\n",
              "    .colab-df-container {\n",
              "      display:flex;\n",
              "      gap: 12px;\n",
              "    }\n",
              "\n",
              "    .colab-df-convert {\n",
              "      background-color: #E8F0FE;\n",
              "      border: none;\n",
              "      border-radius: 50%;\n",
              "      cursor: pointer;\n",
              "      display: none;\n",
              "      fill: #1967D2;\n",
              "      height: 32px;\n",
              "      padding: 0 0 0 0;\n",
              "      width: 32px;\n",
              "    }\n",
              "\n",
              "    .colab-df-convert:hover {\n",
              "      background-color: #E2EBFA;\n",
              "      box-shadow: 0px 1px 2px rgba(60, 64, 67, 0.3), 0px 1px 3px 1px rgba(60, 64, 67, 0.15);\n",
              "      fill: #174EA6;\n",
              "    }\n",
              "\n",
              "    .colab-df-buttons div {\n",
              "      margin-bottom: 4px;\n",
              "    }\n",
              "\n",
              "    [theme=dark] .colab-df-convert {\n",
              "      background-color: #3B4455;\n",
              "      fill: #D2E3FC;\n",
              "    }\n",
              "\n",
              "    [theme=dark] .colab-df-convert:hover {\n",
              "      background-color: #434B5C;\n",
              "      box-shadow: 0px 1px 3px 1px rgba(0, 0, 0, 0.15);\n",
              "      filter: drop-shadow(0px 1px 2px rgba(0, 0, 0, 0.3));\n",
              "      fill: #FFFFFF;\n",
              "    }\n",
              "  </style>\n",
              "\n",
              "    <script>\n",
              "      const buttonEl =\n",
              "        document.querySelector('#df-310f7625-408f-450e-b0ff-7efd045b38fe button.colab-df-convert');\n",
              "      buttonEl.style.display =\n",
              "        google.colab.kernel.accessAllowed ? 'block' : 'none';\n",
              "\n",
              "      async function convertToInteractive(key) {\n",
              "        const element = document.querySelector('#df-310f7625-408f-450e-b0ff-7efd045b38fe');\n",
              "        const dataTable =\n",
              "          await google.colab.kernel.invokeFunction('convertToInteractive',\n",
              "                                                    [key], {});\n",
              "        if (!dataTable) return;\n",
              "\n",
              "        const docLinkHtml = 'Like what you see? Visit the ' +\n",
              "          '<a target=\"_blank\" href=https://colab.research.google.com/notebooks/data_table.ipynb>data table notebook</a>'\n",
              "          + ' to learn more about interactive tables.';\n",
              "        element.innerHTML = '';\n",
              "        dataTable['output_type'] = 'display_data';\n",
              "        await google.colab.output.renderOutput(dataTable, element);\n",
              "        const docLink = document.createElement('div');\n",
              "        docLink.innerHTML = docLinkHtml;\n",
              "        element.appendChild(docLink);\n",
              "      }\n",
              "    </script>\n",
              "  </div>\n",
              "\n",
              "\n",
              "<div id=\"df-6406e818-27f1-49f0-9238-99ac37f00409\">\n",
              "  <button class=\"colab-df-quickchart\" onclick=\"quickchart('df-6406e818-27f1-49f0-9238-99ac37f00409')\"\n",
              "            title=\"Suggest charts.\"\n",
              "            style=\"display:none;\">\n",
              "\n",
              "<svg xmlns=\"http://www.w3.org/2000/svg\" height=\"24px\"viewBox=\"0 0 24 24\"\n",
              "     width=\"24px\">\n",
              "    <g>\n",
              "        <path d=\"M19 3H5c-1.1 0-2 .9-2 2v14c0 1.1.9 2 2 2h14c1.1 0 2-.9 2-2V5c0-1.1-.9-2-2-2zM9 17H7v-7h2v7zm4 0h-2V7h2v10zm4 0h-2v-4h2v4z\"/>\n",
              "    </g>\n",
              "</svg>\n",
              "  </button>\n",
              "\n",
              "<style>\n",
              "  .colab-df-quickchart {\n",
              "      --bg-color: #E8F0FE;\n",
              "      --fill-color: #1967D2;\n",
              "      --hover-bg-color: #E2EBFA;\n",
              "      --hover-fill-color: #174EA6;\n",
              "      --disabled-fill-color: #AAA;\n",
              "      --disabled-bg-color: #DDD;\n",
              "  }\n",
              "\n",
              "  [theme=dark] .colab-df-quickchart {\n",
              "      --bg-color: #3B4455;\n",
              "      --fill-color: #D2E3FC;\n",
              "      --hover-bg-color: #434B5C;\n",
              "      --hover-fill-color: #FFFFFF;\n",
              "      --disabled-bg-color: #3B4455;\n",
              "      --disabled-fill-color: #666;\n",
              "  }\n",
              "\n",
              "  .colab-df-quickchart {\n",
              "    background-color: var(--bg-color);\n",
              "    border: none;\n",
              "    border-radius: 50%;\n",
              "    cursor: pointer;\n",
              "    display: none;\n",
              "    fill: var(--fill-color);\n",
              "    height: 32px;\n",
              "    padding: 0;\n",
              "    width: 32px;\n",
              "  }\n",
              "\n",
              "  .colab-df-quickchart:hover {\n",
              "    background-color: var(--hover-bg-color);\n",
              "    box-shadow: 0 1px 2px rgba(60, 64, 67, 0.3), 0 1px 3px 1px rgba(60, 64, 67, 0.15);\n",
              "    fill: var(--button-hover-fill-color);\n",
              "  }\n",
              "\n",
              "  .colab-df-quickchart-complete:disabled,\n",
              "  .colab-df-quickchart-complete:disabled:hover {\n",
              "    background-color: var(--disabled-bg-color);\n",
              "    fill: var(--disabled-fill-color);\n",
              "    box-shadow: none;\n",
              "  }\n",
              "\n",
              "  .colab-df-spinner {\n",
              "    border: 2px solid var(--fill-color);\n",
              "    border-color: transparent;\n",
              "    border-bottom-color: var(--fill-color);\n",
              "    animation:\n",
              "      spin 1s steps(1) infinite;\n",
              "  }\n",
              "\n",
              "  @keyframes spin {\n",
              "    0% {\n",
              "      border-color: transparent;\n",
              "      border-bottom-color: var(--fill-color);\n",
              "      border-left-color: var(--fill-color);\n",
              "    }\n",
              "    20% {\n",
              "      border-color: transparent;\n",
              "      border-left-color: var(--fill-color);\n",
              "      border-top-color: var(--fill-color);\n",
              "    }\n",
              "    30% {\n",
              "      border-color: transparent;\n",
              "      border-left-color: var(--fill-color);\n",
              "      border-top-color: var(--fill-color);\n",
              "      border-right-color: var(--fill-color);\n",
              "    }\n",
              "    40% {\n",
              "      border-color: transparent;\n",
              "      border-right-color: var(--fill-color);\n",
              "      border-top-color: var(--fill-color);\n",
              "    }\n",
              "    60% {\n",
              "      border-color: transparent;\n",
              "      border-right-color: var(--fill-color);\n",
              "    }\n",
              "    80% {\n",
              "      border-color: transparent;\n",
              "      border-right-color: var(--fill-color);\n",
              "      border-bottom-color: var(--fill-color);\n",
              "    }\n",
              "    90% {\n",
              "      border-color: transparent;\n",
              "      border-bottom-color: var(--fill-color);\n",
              "    }\n",
              "  }\n",
              "</style>\n",
              "\n",
              "  <script>\n",
              "    async function quickchart(key) {\n",
              "      const quickchartButtonEl =\n",
              "        document.querySelector('#' + key + ' button');\n",
              "      quickchartButtonEl.disabled = true;  // To prevent multiple clicks.\n",
              "      quickchartButtonEl.classList.add('colab-df-spinner');\n",
              "      try {\n",
              "        const charts = await google.colab.kernel.invokeFunction(\n",
              "            'suggestCharts', [key], {});\n",
              "      } catch (error) {\n",
              "        console.error('Error during call to suggestCharts:', error);\n",
              "      }\n",
              "      quickchartButtonEl.classList.remove('colab-df-spinner');\n",
              "      quickchartButtonEl.classList.add('colab-df-quickchart-complete');\n",
              "    }\n",
              "    (() => {\n",
              "      let quickchartButtonEl =\n",
              "        document.querySelector('#df-6406e818-27f1-49f0-9238-99ac37f00409 button');\n",
              "      quickchartButtonEl.style.display =\n",
              "        google.colab.kernel.accessAllowed ? 'block' : 'none';\n",
              "    })();\n",
              "  </script>\n",
              "</div>\n",
              "    </div>\n",
              "  </div>\n"
            ],
            "text/plain": [
              "                                                                                   AMENITIES  \\\n",
              "3950  [Intercom Facility, Lift, Swimming Pool, Park, Visitor Parking, Gymnasium, Club House]   \n",
              "4509  [AC Room]                                                                                \n",
              "2970  []                                                                                       \n",
              "4322  [Intercom Facility, Lift]                                                                \n",
              "4553  []                                                                                       \n",
              "\n",
              "      AMENITIES_CLUSTER  \n",
              "3950  2                  \n",
              "4509  1                  \n",
              "2970  1                  \n",
              "4322  1                  \n",
              "4553  1                  "
            ]
          },
          "execution_count": 165,
          "metadata": {},
          "output_type": "execute_result"
        }
      ],
      "source": [
        "df.sample(5)[[\"AMENITIES\", \"AMENITIES_CLUSTER\"]]"
      ]
    },
    {
      "cell_type": "code",
      "execution_count": null,
      "metadata": {
        "id": "FQ5GPHHMwaya"
      },
      "outputs": [],
      "source": [
        "def amenities_cluster(x):\n",
        "  if x == 0:\n",
        "    return \"High-End\"\n",
        "  if x == 1:\n",
        "    return \"Basic\"\n",
        "  if x == 2:\n",
        "    return \"Moderate\"\n"
      ]
    },
    {
      "cell_type": "code",
      "execution_count": null,
      "metadata": {
        "id": "xCNGWcu2wSVH"
      },
      "outputs": [],
      "source": [
        "df[\"AMENITIES_CLUSTER\"] = df[\"AMENITIES_CLUSTER\"].apply(lambda x: amenities_cluster(x))"
      ]
    },
    {
      "cell_type": "code",
      "execution_count": null,
      "metadata": {
        "id": "_VDS47FvzzSQ"
      },
      "outputs": [],
      "source": [
        "luxury_scores = {\n",
        "    'Swimming Pool': 9,\n",
        "    'Air Conditioned': 7,\n",
        "    'Wheelchair': 3,\n",
        "    'Pet Friendly': 4,\n",
        "    'AC Room': 6,\n",
        "    'Gymnasium': 8,\n",
        "    'Security Fire Alarm': 5,\n",
        "    'Visitor Parking': 4,\n",
        "    'Power Backup': 6,\n",
        "    'Intercom Facility': 4,\n",
        "    'Lift': 7,\n",
        "    'Maintenance Staff': 4,\n",
        "    'Water Storage': 3,\n",
        "    'Waste Disposal': 3,\n",
        "    'Bank Attached Property': 4,\n",
        "    'Gas Pipeline': 5,\n",
        "    'Club House': 8,\n",
        "    'Internet Wifi Connectivity': 6,\n",
        "    'Water Softening Plant': 4,\n",
        "    'Water Purifier': 5,\n",
        "    'Shopping Centre': 5,\n",
        "    'Near Bank': 4,\n",
        "    'Natural light': 5,\n",
        "    'Airy Rooms': 5,\n",
        "    'Spacious Interiors': 6,\n",
        "    'Low Density Society': 6,\n",
        "    'High Cieling Height': 7,\n",
        "    'False Ceiling lighting': 6,\n",
        "    'Separate Entry For Servant Room': 4,\n",
        "    'No open Drainage Around': 5,\n",
        "    'Fang Shui/ Vaastu Complaint': 4,\n",
        "    'Park': 6,\n",
        "    'Private Garden/Terrace': 8,\n",
        "    'Security Personnel': 5,\n",
        "    'Food Service': 4,\n",
        "    'Laundary Available': 4,\n",
        "    'Parking': 6,\n",
        "    'DJ Availability': 4,\n",
        "    'WheelChair Accessibility': 3,\n",
        "    'ATM': 4\n",
        "}\n"
      ]
    },
    {
      "cell_type": "code",
      "execution_count": null,
      "metadata": {
        "id": "E6sNAUMK2BDM"
      },
      "outputs": [],
      "source": [
        "l1 = []\n",
        "for i in luxury_scores.keys():\n",
        "  if i not in amenities_binary_df.columns:\n",
        "    l1.append(i)\n",
        "for i in l1:\n",
        "  del luxury_scores[i]"
      ]
    },
    {
      "cell_type": "code",
      "execution_count": null,
      "metadata": {
        "id": "Ie4xR1om2qhl"
      },
      "outputs": [],
      "source": [
        "score = amenities_binary_df[list(luxury_scores.keys())].multiply(list(luxury_scores.values())).sum(axis=1)"
      ]
    },
    {
      "cell_type": "code",
      "execution_count": null,
      "metadata": {
        "colab": {
          "base_uri": "https://localhost:8080/"
        },
        "id": "K0fPb4A9f31c",
        "outputId": "2c52b06f-bdd9-4dc5-9282-08a06b42d145"
      },
      "outputs": [
        {
          "data": {
            "text/plain": [
              "7300    93\n",
              "dtype: int64"
            ]
          },
          "execution_count": 171,
          "metadata": {},
          "output_type": "execute_result"
        }
      ],
      "source": [
        "amenities_binary_df[list(luxury_scores.keys())][7300:7301].multiply(list(luxury_scores.values())).sum(axis = 1)"
      ]
    },
    {
      "cell_type": "code",
      "execution_count": null,
      "metadata": {
        "id": "gb_es_Xr94PR"
      },
      "outputs": [],
      "source": [
        "df[\"LUXURY_SCORE\"] = score"
      ]
    },
    {
      "cell_type": "code",
      "execution_count": null,
      "metadata": {
        "id": "lmX5uXdt-J0x"
      },
      "outputs": [],
      "source": [
        "df[[\"PROP_ID\",\"AMENITIES\", \"AMENITIES_CLUSTER\",\"LUXURY_SCORE\"]]"
      ]
    },
    {
      "cell_type": "code",
      "execution_count": null,
      "metadata": {
        "id": "PqmMRGVjkdpM"
      },
      "outputs": [],
      "source": [
        "df.drop(columns = [\"index\",\"FURNISHING_ATTRIBUTES\", \"FEATURES\", \"AMENITIES\", \"TRANSACT_TYPE\"], inplace = True)"
      ]
    },
    {
      "cell_type": "code",
      "execution_count": null,
      "metadata": {
        "colab": {
          "base_uri": "https://localhost:8080/"
        },
        "id": "JZt_azWmm-BP",
        "outputId": "40874f36-a85c-4141-e08b-6fcd009313e8"
      },
      "outputs": [
        {
          "data": {
            "text/plain": [
              "Freehold                6538\n",
              "Power of Attorney       649 \n",
              "Leasehold               89  \n",
              "Co-operative Society    51  \n",
              "Name: OWNTYPE, dtype: int64"
            ]
          },
          "execution_count": 176,
          "metadata": {},
          "output_type": "execute_result"
        }
      ],
      "source": [
        "df[\"OWNTYPE\"].value_counts()"
      ]
    },
    {
      "cell_type": "code",
      "execution_count": null,
      "metadata": {
        "colab": {
          "base_uri": "https://localhost:8080/"
        },
        "id": "SXN9PBkxnk4J",
        "outputId": "0a39639b-c6ff-4419-9dd1-914bc282975f"
      },
      "outputs": [
        {
          "data": {
            "text/plain": [
              "Freehold                1959\n",
              "Power of Attorney       433 \n",
              "Leasehold               17  \n",
              "Co-operative Society    3   \n",
              "Name: OWNTYPE, dtype: int64"
            ]
          },
          "execution_count": 177,
          "metadata": {},
          "output_type": "execute_result"
        }
      ],
      "source": [
        "df[df[\"PROPERTY_TYPE\"] == \"house\"][\"OWNTYPE\"].value_counts()"
      ]
    },
    {
      "cell_type": "code",
      "execution_count": null,
      "metadata": {
        "id": "DjwbiexmohUJ"
      },
      "outputs": [],
      "source": [
        "df.to_csv(\"flat_house_v3.csv\", index = False)"
      ]
    }
  ],
  "metadata": {
    "colab": {
      "provenance": []
    },
    "kernelspec": {
      "display_name": "Python 3",
      "name": "python3"
    },
    "language_info": {
      "name": "python"
    }
  },
  "nbformat": 4,
  "nbformat_minor": 0
}
